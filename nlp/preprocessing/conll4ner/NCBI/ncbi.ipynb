{
  "cells": [
    {
      "cell_type": "markdown",
      "metadata": {
        "id": "XRvia9hxjSXx"
      },
      "source": [
        "<h1>Preprocessing for NER training</h1>"
      ]
    },
    {
      "cell_type": "markdown",
      "metadata": {
        "id": "N5Y6u0JijSX0"
      },
      "source": [
        "# 1-Custom Pythonic Way"
      ]
    },
    {
      "cell_type": "markdown",
      "metadata": {
        "id": "efsNeS1LjSX1"
      },
      "source": [
        "## Grap the file"
      ]
    },
    {
      "cell_type": "code",
      "execution_count": null,
      "metadata": {
        "id": "5iJ5Ij-mjSX1"
      },
      "outputs": [],
      "source": [
        "file = \"NCBI_corpus_training.txt\""
      ]
    },
    {
      "cell_type": "code",
      "execution_count": null,
      "metadata": {
        "id": "Ad4cET4jjSX2",
        "outputId": "33395791-e0d8-415c-daf4-0e28a56a80f7"
      },
      "outputs": [
        {
          "name": "stdout",
          "output_type": "stream",
          "text": [
            "10021369\tIdentification of APC2, a homologue of the <category=\"Modifier\">adenomatous polyposis coli tumour</category> suppressor .\tThe <category=\"Modifier\">adenomatous polyposis coli ( APC ) tumour</category>-suppressor protein controls the Wnt signalling pathway by forming a complex with glycogen synthase kinase 3beta ( GSK-3beta ) , axin / conductin and betacatenin . Complex formation induces the rapid degradation of betacatenin . In <category=\"Modifier\">colon carcinoma</category> cells , loss of APC leads to the accumulation of betacatenin in the nucleus , where it binds to and activates the Tcf-4 transcription factor ( reviewed in [ 1 ] [ 2 ] ) . Here , we report the identification and genomic structure of APC homologues . Mammalian APC2 , which closely resembles APC in overall domain structure , was functionally analyzed and shown to contain two SAMP domains , both of which are required for binding to conductin . Like APC , APC2 regulates the formation of active betacatenin-Tcf complexes , as demonstrated using transient transcriptional activation assays in APC - / - <category=\"Modifier\">colon carcinoma</category> cells . Human APC2 maps to chromosome 19p13 . 3 . APC and APC2 may therefore have comparable functions in development and <category=\"SpecificDisease\">cancer</category> .\n",
            "\n"
          ]
        }
      ],
      "source": [
        "for line in open(file):\n",
        "    print(line)\n",
        "    break"
      ]
    },
    {
      "cell_type": "code",
      "execution_count": null,
      "metadata": {
        "id": "jptk_1JYjSX3",
        "outputId": "706474ea-a2f7-4fb4-cc8b-81d3ba8b8f67"
      },
      "outputs": [
        {
          "data": {
            "text/plain": [
              "'10021369\\tIdentification of APC2, a homologue of the <category=\"Modifier\">adenomatous polyposis coli tumour</category> suppressor .\\tThe <category=\"Modifier\">adenomatous polyposis coli ( APC ) tumour</category>-suppressor protein controls the Wnt signalling pathway by forming a complex with glycogen synthase kinase 3beta ( GSK-3beta ) , axin / conductin and betacatenin . Complex formation induces the rapid degradation of betacatenin . In <category=\"Modifier\">colon carcinoma</category> cells , loss of APC leads to the accumulation of betacatenin in the nucleus , where it binds to and activates the Tcf-4 transcription factor ( reviewed in [ 1 ] [ 2 ] ) . Here , we report the identification and genomic structure of APC homologues . Mammalian APC2 , which closely resembles APC in overall domain structure , was functionally analyzed and shown to contain two SAMP domains , both of which are required for binding to conductin . Like APC , APC2 regulates the formation of active betacatenin-Tcf complexes , as demonstrated using transient transcriptional activation assays in APC - / - <category=\"Modifier\">colon carcinoma</category> cells . Human APC2 maps to chromosome 19p13 . 3 . APC and APC2 may therefore have comparable functions in development and <category=\"SpecificDisease\">cancer</category> .\\n'"
            ]
          },
          "execution_count": 3,
          "metadata": {},
          "output_type": "execute_result"
        }
      ],
      "source": [
        "line"
      ]
    },
    {
      "cell_type": "code",
      "execution_count": null,
      "metadata": {
        "id": "aV0Wnyx_jSX3",
        "outputId": "eceeba1b-7f16-4414-8a5d-a46feeaf552e"
      },
      "outputs": [
        {
          "data": {
            "text/plain": [
              "['10021369',\n",
              " 'Identification',\n",
              " 'of',\n",
              " 'APC2,',\n",
              " 'a',\n",
              " 'homologue',\n",
              " 'of',\n",
              " 'the',\n",
              " '<category=\"Modifier\">adenomatous',\n",
              " 'polyposis',\n",
              " 'coli',\n",
              " 'tumour</category>',\n",
              " 'suppressor',\n",
              " '.',\n",
              " 'The',\n",
              " '<category=\"Modifier\">adenomatous',\n",
              " 'polyposis',\n",
              " 'coli',\n",
              " '(',\n",
              " 'APC',\n",
              " ')',\n",
              " 'tumour</category>-suppressor',\n",
              " 'protein',\n",
              " 'controls',\n",
              " 'the',\n",
              " 'Wnt',\n",
              " 'signalling',\n",
              " 'pathway',\n",
              " 'by',\n",
              " 'forming',\n",
              " 'a',\n",
              " 'complex',\n",
              " 'with',\n",
              " 'glycogen',\n",
              " 'synthase',\n",
              " 'kinase',\n",
              " '3beta',\n",
              " '(',\n",
              " 'GSK-3beta',\n",
              " ')',\n",
              " ',',\n",
              " 'axin',\n",
              " '/',\n",
              " 'conductin',\n",
              " 'and',\n",
              " 'betacatenin',\n",
              " '.',\n",
              " 'Complex',\n",
              " 'formation',\n",
              " 'induces',\n",
              " 'the',\n",
              " 'rapid',\n",
              " 'degradation',\n",
              " 'of',\n",
              " 'betacatenin',\n",
              " '.',\n",
              " 'In',\n",
              " '<category=\"Modifier\">colon',\n",
              " 'carcinoma</category>',\n",
              " 'cells',\n",
              " ',',\n",
              " 'loss',\n",
              " 'of',\n",
              " 'APC',\n",
              " 'leads',\n",
              " 'to',\n",
              " 'the',\n",
              " 'accumulation',\n",
              " 'of',\n",
              " 'betacatenin',\n",
              " 'in',\n",
              " 'the',\n",
              " 'nucleus',\n",
              " ',',\n",
              " 'where',\n",
              " 'it',\n",
              " 'binds',\n",
              " 'to',\n",
              " 'and',\n",
              " 'activates',\n",
              " 'the',\n",
              " 'Tcf-4',\n",
              " 'transcription',\n",
              " 'factor',\n",
              " '(',\n",
              " 'reviewed',\n",
              " 'in',\n",
              " '[',\n",
              " '1',\n",
              " ']',\n",
              " '[',\n",
              " '2',\n",
              " ']',\n",
              " ')',\n",
              " '.',\n",
              " 'Here',\n",
              " ',',\n",
              " 'we',\n",
              " 'report',\n",
              " 'the',\n",
              " 'identification',\n",
              " 'and',\n",
              " 'genomic',\n",
              " 'structure',\n",
              " 'of',\n",
              " 'APC',\n",
              " 'homologues',\n",
              " '.',\n",
              " 'Mammalian',\n",
              " 'APC2',\n",
              " ',',\n",
              " 'which',\n",
              " 'closely',\n",
              " 'resembles',\n",
              " 'APC',\n",
              " 'in',\n",
              " 'overall',\n",
              " 'domain',\n",
              " 'structure',\n",
              " ',',\n",
              " 'was',\n",
              " 'functionally',\n",
              " 'analyzed',\n",
              " 'and',\n",
              " 'shown',\n",
              " 'to',\n",
              " 'contain',\n",
              " 'two',\n",
              " 'SAMP',\n",
              " 'domains',\n",
              " ',',\n",
              " 'both',\n",
              " 'of',\n",
              " 'which',\n",
              " 'are',\n",
              " 'required',\n",
              " 'for',\n",
              " 'binding',\n",
              " 'to',\n",
              " 'conductin',\n",
              " '.',\n",
              " 'Like',\n",
              " 'APC',\n",
              " ',',\n",
              " 'APC2',\n",
              " 'regulates',\n",
              " 'the',\n",
              " 'formation',\n",
              " 'of',\n",
              " 'active',\n",
              " 'betacatenin-Tcf',\n",
              " 'complexes',\n",
              " ',',\n",
              " 'as',\n",
              " 'demonstrated',\n",
              " 'using',\n",
              " 'transient',\n",
              " 'transcriptional',\n",
              " 'activation',\n",
              " 'assays',\n",
              " 'in',\n",
              " 'APC',\n",
              " '-',\n",
              " '/',\n",
              " '-',\n",
              " '<category=\"Modifier\">colon',\n",
              " 'carcinoma</category>',\n",
              " 'cells',\n",
              " '.',\n",
              " 'Human',\n",
              " 'APC2',\n",
              " 'maps',\n",
              " 'to',\n",
              " 'chromosome',\n",
              " '19p13',\n",
              " '.',\n",
              " '3',\n",
              " '.',\n",
              " 'APC',\n",
              " 'and',\n",
              " 'APC2',\n",
              " 'may',\n",
              " 'therefore',\n",
              " 'have',\n",
              " 'comparable',\n",
              " 'functions',\n",
              " 'in',\n",
              " 'development',\n",
              " 'and',\n",
              " '<category=\"SpecificDisease\">cancer</category>',\n",
              " '.']"
            ]
          },
          "execution_count": 4,
          "metadata": {},
          "output_type": "execute_result"
        }
      ],
      "source": [
        "line.split()"
      ]
    },
    {
      "cell_type": "markdown",
      "metadata": {
        "id": "RWUlLoa2jSX4"
      },
      "source": [
        "## Modify the text"
      ]
    },
    {
      "cell_type": "code",
      "execution_count": null,
      "metadata": {
        "id": "dOMxv4WfjSX4"
      },
      "outputs": [],
      "source": [
        "import re"
      ]
    },
    {
      "cell_type": "code",
      "execution_count": null,
      "metadata": {
        "id": "fG_nEc-TjSX4"
      },
      "outputs": [],
      "source": [
        "old_tag = '<category=\"Modifier\">'\n",
        "new_tag = \" <START_NER_Modifier> \""
      ]
    },
    {
      "cell_type": "code",
      "execution_count": null,
      "metadata": {
        "id": "r9a_Tn3_jSX5",
        "outputId": "6b71d6f5-d635-4a7c-90c1-4bbb15f46a15"
      },
      "outputs": [
        {
          "data": {
            "text/plain": [
              "'10021369\\tIdentification of APC2, a homologue of the  <START_NER_Modifier> adenomatous polyposis coli tumour</category> suppressor .\\tThe  <START_NER_Modifier> adenomatous polyposis coli ( APC ) tumour</category>-suppressor protein controls the Wnt signalling pathway by forming a complex with glycogen synthase kinase 3beta ( GSK-3beta ) , axin / conductin and betacatenin . Complex formation induces the rapid degradation of betacatenin . In  <START_NER_Modifier> colon carcinoma</category> cells , loss of APC leads to the accumulation of betacatenin in the nucleus , where it binds to and activates the Tcf-4 transcription factor ( reviewed in [ 1 ] [ 2 ] ) . Here , we report the identification and genomic structure of APC homologues . Mammalian APC2 , which closely resembles APC in overall domain structure , was functionally analyzed and shown to contain two SAMP domains , both of which are required for binding to conductin . Like APC , APC2 regulates the formation of active betacatenin-Tcf complexes , as demonstrated using transient transcriptional activation assays in APC - / -  <START_NER_Modifier> colon carcinoma</category> cells . Human APC2 maps to chromosome 19p13 . 3 . APC and APC2 may therefore have comparable functions in development and <category=\"SpecificDisease\">cancer</category> .\\n'"
            ]
          },
          "execution_count": 7,
          "metadata": {},
          "output_type": "execute_result"
        }
      ],
      "source": [
        "text = re.sub(old_tag, new_tag, line)\n",
        "text"
      ]
    },
    {
      "cell_type": "code",
      "execution_count": null,
      "metadata": {
        "id": "-XMhE-u6jSX5"
      },
      "outputs": [],
      "source": [
        "dict_map = {\n",
        "    '<category=\"Modifier\">':' <START_NER_Modifier> ',\n",
        "    '<category=\"SpecificDisease\">':' <START_NER_SpecificDisease> ',\n",
        "    '<category=\"DiseaseClass\">':' <START_NER_DiseaseClass> ',\n",
        "    '<category=\"CompositeMention\">':' <START_NER_CompositeMention> ',\n",
        "    '</category>':' <END_NER> ',\n",
        "}"
      ]
    },
    {
      "cell_type": "code",
      "execution_count": null,
      "metadata": {
        "id": "Kj7NrPugjSX6"
      },
      "outputs": [],
      "source": [
        "text = line"
      ]
    },
    {
      "cell_type": "code",
      "execution_count": null,
      "metadata": {
        "id": "A33B_qkhjSX6"
      },
      "outputs": [],
      "source": [
        "for k, v in dict_map.items():\n",
        "    text = re.sub(k,v, text)"
      ]
    },
    {
      "cell_type": "code",
      "execution_count": null,
      "metadata": {
        "id": "vPH6-V58jSX6",
        "outputId": "d9e66783-ae99-4d86-dfb0-c46555557259"
      },
      "outputs": [
        {
          "name": "stdout",
          "output_type": "stream",
          "text": [
            "10021369\tIdentification of APC2, a homologue of the  <START_NER_Modifier> adenomatous polyposis coli tumour <END_NER>  suppressor .\tThe  <START_NER_Modifier> adenomatous polyposis coli ( APC ) tumour <END_NER> -suppressor protein controls the Wnt signalling pathway by forming a complex with glycogen synthase kinase 3beta ( GSK-3beta ) , axin / conductin and betacatenin . Complex formation induces the rapid degradation of betacatenin . In  <START_NER_Modifier> colon carcinoma <END_NER>  cells , loss of APC leads to the accumulation of betacatenin in the nucleus , where it binds to and activates the Tcf-4 transcription factor ( reviewed in [ 1 ] [ 2 ] ) . Here , we report the identification and genomic structure of APC homologues . Mammalian APC2 , which closely resembles APC in overall domain structure , was functionally analyzed and shown to contain two SAMP domains , both of which are required for binding to conductin . Like APC , APC2 regulates the formation of active betacatenin-Tcf complexes , as demonstrated using transient transcriptional activation assays in APC - / -  <START_NER_Modifier> colon carcinoma <END_NER>  cells . Human APC2 maps to chromosome 19p13 . 3 . APC and APC2 may therefore have comparable functions in development and  <START_NER_SpecificDisease> cancer <END_NER>  .\n",
            "\n"
          ]
        }
      ],
      "source": [
        "print(text)"
      ]
    },
    {
      "cell_type": "code",
      "execution_count": null,
      "metadata": {
        "id": "We9GdzTmjSX7"
      },
      "outputs": [],
      "source": [
        "def modify_label(text, dict_map):\n",
        "    for k, v in dict_map.items():\n",
        "        text = re.sub(k,v, text)\n",
        "    return text"
      ]
    },
    {
      "cell_type": "code",
      "execution_count": null,
      "metadata": {
        "id": "EuKEmi33jSX7"
      },
      "outputs": [],
      "source": [
        "for line in open(file):\n",
        "    text = modify_label(line, dict_map)\n",
        "    break"
      ]
    },
    {
      "cell_type": "code",
      "execution_count": null,
      "metadata": {
        "id": "-JNrCGjfjSX7",
        "outputId": "f6a75cb7-2504-492b-f0b9-9c5df0a369b8"
      },
      "outputs": [
        {
          "data": {
            "text/plain": [
              "'10021369\\tIdentification of APC2, a homologue of the  <START_NER_Modifier> adenomatous polyposis coli tumour <END_NER>  suppressor .\\tThe  <START_NER_Modifier> adenomatous polyposis coli ( APC ) tumour <END_NER> -suppressor protein controls the Wnt signalling pathway by forming a complex with glycogen synthase kinase 3beta ( GSK-3beta ) , axin / conductin and betacatenin . Complex formation induces the rapid degradation of betacatenin . In  <START_NER_Modifier> colon carcinoma <END_NER>  cells , loss of APC leads to the accumulation of betacatenin in the nucleus , where it binds to and activates the Tcf-4 transcription factor ( reviewed in [ 1 ] [ 2 ] ) . Here , we report the identification and genomic structure of APC homologues . Mammalian APC2 , which closely resembles APC in overall domain structure , was functionally analyzed and shown to contain two SAMP domains , both of which are required for binding to conductin . Like APC , APC2 regulates the formation of active betacatenin-Tcf complexes , as demonstrated using transient transcriptional activation assays in APC - / -  <START_NER_Modifier> colon carcinoma <END_NER>  cells . Human APC2 maps to chromosome 19p13 . 3 . APC and APC2 may therefore have comparable functions in development and  <START_NER_SpecificDisease> cancer <END_NER>  .\\n'"
            ]
          },
          "execution_count": 14,
          "metadata": {},
          "output_type": "execute_result"
        }
      ],
      "source": [
        "text"
      ]
    },
    {
      "cell_type": "markdown",
      "metadata": {
        "id": "VzpA2X8ujSX7"
      },
      "source": [
        "## Sentence and Word Tokenizing"
      ]
    },
    {
      "cell_type": "code",
      "execution_count": null,
      "metadata": {
        "id": "ltQ4B8zKjSX8"
      },
      "outputs": [],
      "source": [
        "from nltk.tokenize import sent_tokenize\n",
        "from nltk.tokenize import word_tokenize"
      ]
    },
    {
      "cell_type": "code",
      "execution_count": null,
      "metadata": {
        "id": "Q7tGTeAzjSX8",
        "outputId": "21ac51f0-d4e2-4689-f7c4-6871e889ce43"
      },
      "outputs": [
        {
          "data": {
            "text/plain": [
              "['10021369\\tIdentification of APC2, a homologue of the  <START_NER_Modifier> adenomatous polyposis coli tumour <END_NER>  suppressor .',\n",
              " 'The  <START_NER_Modifier> adenomatous polyposis coli ( APC ) tumour <END_NER> -suppressor protein controls the Wnt signalling pathway by forming a complex with glycogen synthase kinase 3beta ( GSK-3beta ) , axin / conductin and betacatenin .',\n",
              " 'Complex formation induces the rapid degradation of betacatenin .',\n",
              " 'In  <START_NER_Modifier> colon carcinoma <END_NER>  cells , loss of APC leads to the accumulation of betacatenin in the nucleus , where it binds to and activates the Tcf-4 transcription factor ( reviewed in [ 1 ] [ 2 ] ) .',\n",
              " 'Here , we report the identification and genomic structure of APC homologues .',\n",
              " 'Mammalian APC2 , which closely resembles APC in overall domain structure , was functionally analyzed and shown to contain two SAMP domains , both of which are required for binding to conductin .',\n",
              " 'Like APC , APC2 regulates the formation of active betacatenin-Tcf complexes , as demonstrated using transient transcriptional activation assays in APC - / -  <START_NER_Modifier> colon carcinoma <END_NER>  cells .',\n",
              " 'Human APC2 maps to chromosome 19p13 .',\n",
              " '3 .',\n",
              " 'APC and APC2 may therefore have comparable functions in development and  <START_NER_SpecificDisease> cancer <END_NER>  .']"
            ]
          },
          "execution_count": 16,
          "metadata": {},
          "output_type": "execute_result"
        }
      ],
      "source": [
        "sent_tokenize(text)"
      ]
    },
    {
      "cell_type": "code",
      "execution_count": null,
      "metadata": {
        "id": "0aJAObXDjSX8"
      },
      "outputs": [],
      "source": [
        "sentences = sent_tokenize(text)"
      ]
    },
    {
      "cell_type": "code",
      "execution_count": null,
      "metadata": {
        "id": "sJwjV4KIjSX8",
        "outputId": "15f5428a-9c5c-43c3-c426-369c47cde949"
      },
      "outputs": [
        {
          "name": "stdout",
          "output_type": "stream",
          "text": [
            "['10021369', 'Identification', 'of', 'APC2', ',', 'a', 'homologue', 'of', 'the', 'START_NER_Modifier', 'adenomatous', 'polyposis', 'coli', 'tumour', 'END_NER', 'suppressor', '.']\n",
            "['The', 'START_NER_Modifier', 'adenomatous', 'polyposis', 'coli', '(', 'APC', ')', 'tumour', 'END_NER', '-suppressor', 'protein', 'controls', 'the', 'Wnt', 'signalling', 'pathway', 'by', 'forming', 'a', 'complex', 'with', 'glycogen', 'synthase', 'kinase', '3beta', '(', 'GSK-3beta', ')', ',', 'axin', '/', 'conductin', 'and', 'betacatenin', '.']\n",
            "['Complex', 'formation', 'induces', 'the', 'rapid', 'degradation', 'of', 'betacatenin', '.']\n",
            "['In', 'START_NER_Modifier', 'colon', 'carcinoma', 'END_NER', 'cells', ',', 'loss', 'of', 'APC', 'leads', 'to', 'the', 'accumulation', 'of', 'betacatenin', 'in', 'the', 'nucleus', ',', 'where', 'it', 'binds', 'to', 'and', 'activates', 'the', 'Tcf-4', 'transcription', 'factor', '(', 'reviewed', 'in', '[', '1', ']', '[', '2', ']', ')', '.']\n",
            "['Here', ',', 'we', 'report', 'the', 'identification', 'and', 'genomic', 'structure', 'of', 'APC', 'homologues', '.']\n",
            "['Mammalian', 'APC2', ',', 'which', 'closely', 'resembles', 'APC', 'in', 'overall', 'domain', 'structure', ',', 'was', 'functionally', 'analyzed', 'and', 'shown', 'to', 'contain', 'two', 'SAMP', 'domains', ',', 'both', 'of', 'which', 'are', 'required', 'for', 'binding', 'to', 'conductin', '.']\n",
            "['Like', 'APC', ',', 'APC2', 'regulates', 'the', 'formation', 'of', 'active', 'betacatenin-Tcf', 'complexes', ',', 'as', 'demonstrated', 'using', 'transient', 'transcriptional', 'activation', 'assays', 'in', 'APC', '-', '/', '-', 'START_NER_Modifier', 'colon', 'carcinoma', 'END_NER', 'cells', '.']\n",
            "['Human', 'APC2', 'maps', 'to', 'chromosome', '19p13', '.']\n",
            "['3', '.']\n",
            "['APC', 'and', 'APC2', 'may', 'therefore', 'have', 'comparable', 'functions', 'in', 'development', 'and', 'START_NER_SpecificDisease', 'cancer', 'END_NER', '.']\n"
          ]
        }
      ],
      "source": [
        "for s in sentences:\n",
        "    print([t for t in word_tokenize(s) if t not in ['<','>']])"
      ]
    },
    {
      "cell_type": "code",
      "execution_count": null,
      "metadata": {
        "id": "0rVFGlj1jSX9"
      },
      "outputs": [],
      "source": [
        "for s in sentences:\n",
        "    tokens = [t for t in word_tokenize(s) if t not in ['<','>']]\n",
        "    break"
      ]
    },
    {
      "cell_type": "markdown",
      "metadata": {
        "id": "Q7RpFcRbjSX9"
      },
      "source": [
        "## Text to ConLL "
      ]
    },
    {
      "cell_type": "code",
      "execution_count": null,
      "metadata": {
        "id": "pZ-VRssWjSX9",
        "outputId": "270384c0-8f71-435a-e995-1e608b88177d"
      },
      "outputs": [
        {
          "data": {
            "text/plain": [
              "['10021369',\n",
              " 'Identification',\n",
              " 'of',\n",
              " 'APC2',\n",
              " ',',\n",
              " 'a',\n",
              " 'homologue',\n",
              " 'of',\n",
              " 'the',\n",
              " 'START_NER_Modifier',\n",
              " 'adenomatous',\n",
              " 'polyposis',\n",
              " 'coli',\n",
              " 'tumour',\n",
              " 'END_NER',\n",
              " 'suppressor',\n",
              " '.']"
            ]
          },
          "execution_count": 22,
          "metadata": {},
          "output_type": "execute_result"
        }
      ],
      "source": [
        "tokens"
      ]
    },
    {
      "cell_type": "code",
      "execution_count": null,
      "metadata": {
        "id": "F3xGCKFljSX9",
        "outputId": "22a15292-9d5d-45c0-bc9b-119ff701986c"
      },
      "outputs": [
        {
          "data": {
            "text/plain": [
              "'Modifier'"
            ]
          },
          "execution_count": 27,
          "metadata": {},
          "output_type": "execute_result"
        }
      ],
      "source": [
        "'START_NER_Modifier'.split('_')[-1]"
      ]
    },
    {
      "cell_type": "markdown",
      "metadata": {
        "id": "e0_VIRjXjSX9"
      },
      "source": [
        "## conll logic"
      ]
    },
    {
      "cell_type": "code",
      "execution_count": null,
      "metadata": {
        "id": "5VK0424ejSX-",
        "outputId": "c564cae2-c437-4cdc-cf9c-b9ef1da16abc"
      },
      "outputs": [
        {
          "name": "stdout",
          "output_type": "stream",
          "text": [
            "10021369 NN NN O\n",
            "Identification NN NN O\n",
            "of NN NN O\n",
            "APC2 NN NN O\n",
            ", NN NN O\n",
            "a NN NN O\n",
            "homologue NN NN O\n",
            "of NN NN O\n",
            "the NN NN O\n",
            "adenomatous NN NN B-Modifier\n",
            "polyposis NN NN I-Modifier\n",
            "coli NN NN I-Modifier\n",
            "tumour NN NN I-Modifier\n",
            "suppressor NN NN O\n",
            ". NN NN O\n"
          ]
        }
      ],
      "source": [
        "label = 'O'\n",
        "cl = []\n",
        "for t in tokens:\n",
        "    if t.startswith('START_NER_'):\n",
        "        label = t.split('_')[-1]\n",
        "        continue\n",
        "    \n",
        "    if label != 'O' and t != 'END_NER':\n",
        "        cl.append(t)\n",
        "        continue\n",
        "        \n",
        "        \n",
        "    if t == 'END_NER':\n",
        "        for idx, ct in enumerate(cl):\n",
        "            x = 'B' if idx == 0 else 'I'\n",
        "            print(f\"{ct} NN NN {x}-{label}\")\n",
        "        \n",
        "        label = 'O'\n",
        "        continue\n",
        "        \n",
        "    print(f\"{t} NN NN {label}\")"
      ]
    },
    {
      "cell_type": "code",
      "execution_count": null,
      "metadata": {
        "id": "LH8Knh45jSX-",
        "outputId": "da343da2-354a-4473-a85d-df310a7f850a"
      },
      "outputs": [
        {
          "data": {
            "text/plain": [
              "['adenomatous', 'polyposis', 'coli', 'tumour']"
            ]
          },
          "execution_count": 35,
          "metadata": {},
          "output_type": "execute_result"
        }
      ],
      "source": [
        "cl"
      ]
    },
    {
      "cell_type": "code",
      "execution_count": null,
      "metadata": {
        "id": "Pbmk78cIjSX-"
      },
      "outputs": [],
      "source": [
        "def conll(tokens:list)->str:\n",
        "    label = 'O'\n",
        "    cl = []\n",
        "    conll = \"\"\n",
        "    for t in tokens:\n",
        "        if t.startswith(\"START_NER\"):\n",
        "            label = t.split(\"_\")[-1]\n",
        "            continue\n",
        "        \n",
        "        if label != 'O' and t != 'END_NER':\n",
        "            cl.append(t)\n",
        "            continue\n",
        "        \n",
        "        if t == 'END_NER':\n",
        "            for idx, ct in enumerate(cl):\n",
        "                x = 'B' if idx == 0 else 'I'\n",
        "                conll += f\"{ct} NN NN {x}-{label}\\n\"\n",
        "            label = 'O'\n",
        "            cl.clear()\n",
        "            continue  \n",
        "        \n",
        "        conll += f\"{t} NN NN {label}\\n\"\n",
        "    return conll"
      ]
    },
    {
      "cell_type": "code",
      "execution_count": null,
      "metadata": {
        "id": "xZQvjoi9jSX-",
        "outputId": "b9749ea3-477a-4cdd-cf7b-ae35c2b0fe79"
      },
      "outputs": [
        {
          "name": "stdout",
          "output_type": "stream",
          "text": [
            "10021369 NN NN O\n",
            "Identification NN NN O\n",
            "of NN NN O\n",
            "APC2 NN NN O\n",
            ", NN NN O\n",
            "a NN NN O\n",
            "homologue NN NN O\n",
            "of NN NN O\n",
            "the NN NN O\n",
            "adenomatous NN NN B-Modifier\n",
            "polyposis NN NN I-Modifier\n",
            "coli NN NN I-Modifier\n",
            "tumour NN NN I-Modifier\n",
            "suppressor NN NN O\n",
            ". NN NN O\n",
            "\n"
          ]
        }
      ],
      "source": [
        "print(conll(tokens))"
      ]
    },
    {
      "cell_type": "code",
      "execution_count": null,
      "metadata": {
        "id": "QSqTelNrjSX-"
      },
      "outputs": [],
      "source": [
        "conll_text = \"\"\n",
        "for line in open(file):\n",
        "    text = modify_label(line, dict_map)\n",
        "    sentences = sent_tokenize(text)\n",
        "    for s in sentences:\n",
        "        tokens = [t for t in word_tokenize(s) if t not in ['<','>']]\n",
        "        conll_text += conll(tokens) + '\\n'\n",
        "    break"
      ]
    },
    {
      "cell_type": "code",
      "execution_count": null,
      "metadata": {
        "id": "5Z9zvjS1jSX_",
        "outputId": "1f847fa5-77bc-4a72-b6a8-bc90f3f09c75"
      },
      "outputs": [
        {
          "name": "stdout",
          "output_type": "stream",
          "text": [
            "10021369 NN NN O\n",
            "Identification NN NN O\n",
            "of NN NN O\n",
            "APC2 NN NN O\n",
            ", NN NN O\n",
            "a NN NN O\n",
            "homologue NN NN O\n",
            "of NN NN O\n",
            "the NN NN O\n",
            "adenomatous NN NN B-Modifier\n",
            "polyposis NN NN I-Modifier\n",
            "coli NN NN I-Modifier\n",
            "tumour NN NN I-Modifier\n",
            "suppressor NN NN O\n",
            ". NN NN O\n",
            "\n",
            "The NN NN O\n",
            "adenomatous NN NN B-Modifier\n",
            "polyposis NN NN I-Modifier\n",
            "coli NN NN I-Modifier\n",
            "( NN NN I-Modifier\n",
            "APC NN NN I-Modifier\n",
            ") NN NN I-Modifier\n",
            "tumour NN NN I-Modifier\n",
            "-suppressor NN NN O\n",
            "protein NN NN O\n",
            "controls NN NN O\n",
            "the NN NN O\n",
            "Wnt NN NN O\n",
            "signalling NN NN O\n",
            "pathway NN NN O\n",
            "by NN NN O\n",
            "forming NN NN O\n",
            "a NN NN O\n",
            "complex NN NN O\n",
            "with NN NN O\n",
            "glycogen NN NN O\n",
            "synthase NN NN O\n",
            "kinase NN NN O\n",
            "3beta NN NN O\n",
            "( NN NN O\n",
            "GSK-3beta NN NN O\n",
            ") NN NN O\n",
            ", NN NN O\n",
            "axin NN NN O\n",
            "/ NN NN O\n",
            "conductin NN NN O\n",
            "and NN NN O\n",
            "betacatenin NN NN O\n",
            ". NN NN O\n",
            "\n",
            "Complex NN NN O\n",
            "formation NN NN O\n",
            "induces NN NN O\n",
            "the NN NN O\n",
            "rapid NN NN O\n",
            "degradation NN NN O\n",
            "of NN NN O\n",
            "betacatenin NN NN O\n",
            ". NN NN O\n",
            "\n",
            "In NN NN O\n",
            "colon NN NN B-Modifier\n",
            "carcinoma NN NN I-Modifier\n",
            "cells NN NN O\n",
            ", NN NN O\n",
            "loss NN NN O\n",
            "of NN NN O\n",
            "APC NN NN O\n",
            "leads NN NN O\n",
            "to NN NN O\n",
            "the NN NN O\n",
            "accumulation NN NN O\n",
            "of NN NN O\n",
            "betacatenin NN NN O\n",
            "in NN NN O\n",
            "the NN NN O\n",
            "nucleus NN NN O\n",
            ", NN NN O\n",
            "where NN NN O\n",
            "it NN NN O\n",
            "binds NN NN O\n",
            "to NN NN O\n",
            "and NN NN O\n",
            "activates NN NN O\n",
            "the NN NN O\n",
            "Tcf-4 NN NN O\n",
            "transcription NN NN O\n",
            "factor NN NN O\n",
            "( NN NN O\n",
            "reviewed NN NN O\n",
            "in NN NN O\n",
            "[ NN NN O\n",
            "1 NN NN O\n",
            "] NN NN O\n",
            "[ NN NN O\n",
            "2 NN NN O\n",
            "] NN NN O\n",
            ") NN NN O\n",
            ". NN NN O\n",
            "\n",
            "Here NN NN O\n",
            ", NN NN O\n",
            "we NN NN O\n",
            "report NN NN O\n",
            "the NN NN O\n",
            "identification NN NN O\n",
            "and NN NN O\n",
            "genomic NN NN O\n",
            "structure NN NN O\n",
            "of NN NN O\n",
            "APC NN NN O\n",
            "homologues NN NN O\n",
            ". NN NN O\n",
            "\n",
            "Mammalian NN NN O\n",
            "APC2 NN NN O\n",
            ", NN NN O\n",
            "which NN NN O\n",
            "closely NN NN O\n",
            "resembles NN NN O\n",
            "APC NN NN O\n",
            "in NN NN O\n",
            "overall NN NN O\n",
            "domain NN NN O\n",
            "structure NN NN O\n",
            ", NN NN O\n",
            "was NN NN O\n",
            "functionally NN NN O\n",
            "analyzed NN NN O\n",
            "and NN NN O\n",
            "shown NN NN O\n",
            "to NN NN O\n",
            "contain NN NN O\n",
            "two NN NN O\n",
            "SAMP NN NN O\n",
            "domains NN NN O\n",
            ", NN NN O\n",
            "both NN NN O\n",
            "of NN NN O\n",
            "which NN NN O\n",
            "are NN NN O\n",
            "required NN NN O\n",
            "for NN NN O\n",
            "binding NN NN O\n",
            "to NN NN O\n",
            "conductin NN NN O\n",
            ". NN NN O\n",
            "\n",
            "Like NN NN O\n",
            "APC NN NN O\n",
            ", NN NN O\n",
            "APC2 NN NN O\n",
            "regulates NN NN O\n",
            "the NN NN O\n",
            "formation NN NN O\n",
            "of NN NN O\n",
            "active NN NN O\n",
            "betacatenin-Tcf NN NN O\n",
            "complexes NN NN O\n",
            ", NN NN O\n",
            "as NN NN O\n",
            "demonstrated NN NN O\n",
            "using NN NN O\n",
            "transient NN NN O\n",
            "transcriptional NN NN O\n",
            "activation NN NN O\n",
            "assays NN NN O\n",
            "in NN NN O\n",
            "APC NN NN O\n",
            "- NN NN O\n",
            "/ NN NN O\n",
            "- NN NN O\n",
            "colon NN NN B-Modifier\n",
            "carcinoma NN NN I-Modifier\n",
            "cells NN NN O\n",
            ". NN NN O\n",
            "\n",
            "Human NN NN O\n",
            "APC2 NN NN O\n",
            "maps NN NN O\n",
            "to NN NN O\n",
            "chromosome NN NN O\n",
            "19p13 NN NN O\n",
            ". NN NN O\n",
            "\n",
            "3 NN NN O\n",
            ". NN NN O\n",
            "\n",
            "APC NN NN O\n",
            "and NN NN O\n",
            "APC2 NN NN O\n",
            "may NN NN O\n",
            "therefore NN NN O\n",
            "have NN NN O\n",
            "comparable NN NN O\n",
            "functions NN NN O\n",
            "in NN NN O\n",
            "development NN NN O\n",
            "and NN NN O\n",
            "cancer NN NN B-SpecificDisease\n",
            ". NN NN O\n",
            "\n",
            "\n"
          ]
        }
      ],
      "source": [
        "print(conll_text)"
      ]
    },
    {
      "cell_type": "code",
      "execution_count": null,
      "metadata": {
        "id": "dOn4eRrnjSX_"
      },
      "outputs": [],
      "source": [
        ""
      ]
    },
    {
      "cell_type": "markdown",
      "metadata": {
        "id": "mhUAvNHZjSX_"
      },
      "source": [
        "# 2-Way Using Pandas and Pyspark"
      ]
    },
    {
      "cell_type": "code",
      "execution_count": null,
      "metadata": {
        "id": "MExetTtmjSX_"
      },
      "outputs": [],
      "source": [
        "# we will shift to colab"
      ]
    }
  ],
  "metadata": {
    "interpreter": {
      "hash": "02909133c842bea5b9844dfca84ea9debb08fdd429c8f0109bc3b4709ce04e96"
    },
    "kernelspec": {
      "display_name": "Python 3.9.7 ('spark')",
      "language": "python",
      "name": "python3"
    },
    "language_info": {
      "codemirror_mode": {
        "name": "ipython",
        "version": 3
      },
      "file_extension": ".py",
      "mimetype": "text/x-python",
      "name": "python",
      "nbconvert_exporter": "python",
      "pygments_lexer": "ipython3",
      "version": "3.9.7"
    },
    "orig_nbformat": 4,
    "colab": {
      "name": "ncbi.ipynb",
      "provenance": [],
      "collapsed_sections": []
    }
  },
  "nbformat": 4,
  "nbformat_minor": 0
}