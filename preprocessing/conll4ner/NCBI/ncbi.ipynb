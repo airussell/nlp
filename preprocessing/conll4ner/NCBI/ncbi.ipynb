{
  "cells": [
    {
      "cell_type": "markdown",
      "metadata": {
        "id": "ggeTZibvPgjd"
      },
      "source": [
        "<h1>Preprocessing for NER training</h1>"
      ]
    },
    {
      "cell_type": "markdown",
      "metadata": {
        "id": "NBc6UQ51Pgjg"
      },
      "source": [
        "# 1-Custom Pythonic Way"
      ]
    },
    {
      "cell_type": "markdown",
      "metadata": {
        "id": "itDQ4A-NPgjg"
      },
      "source": [
        "## Grap the file"
      ]
    },
    {
      "cell_type": "code",
      "execution_count": null,
      "metadata": {
        "id": "iNr8XPI7Pgjh"
      },
      "outputs": [],
      "source": [
        "file = \"NCBI_corpus_training.txt\""
      ]
    },
    {
      "cell_type": "code",
      "execution_count": null,
      "metadata": {
        "id": "q_gMxYgUPgji",
        "outputId": "dc3acd8e-bb92-4e58-e03d-9e504b7b2683"
      },
      "outputs": [
        {
          "name": "stdout",
          "output_type": "stream",
          "text": [
            "10021369\tIdentification of APC2, a homologue of the <category=\"Modifier\">adenomatous polyposis coli tumour</category> suppressor .\tThe <category=\"Modifier\">adenomatous polyposis coli ( APC ) tumour</category>-suppressor protein controls the Wnt signalling pathway by forming a complex with glycogen synthase kinase 3beta ( GSK-3beta ) , axin / conductin and betacatenin . Complex formation induces the rapid degradation of betacatenin . In <category=\"Modifier\">colon carcinoma</category> cells , loss of APC leads to the accumulation of betacatenin in the nucleus , where it binds to and activates the Tcf-4 transcription factor ( reviewed in [ 1 ] [ 2 ] ) . Here , we report the identification and genomic structure of APC homologues . Mammalian APC2 , which closely resembles APC in overall domain structure , was functionally analyzed and shown to contain two SAMP domains , both of which are required for binding to conductin . Like APC , APC2 regulates the formation of active betacatenin-Tcf complexes , as demonstrated using transient transcriptional activation assays in APC - / - <category=\"Modifier\">colon carcinoma</category> cells . Human APC2 maps to chromosome 19p13 . 3 . APC and APC2 may therefore have comparable functions in development and <category=\"SpecificDisease\">cancer</category> .\n",
            "\n"
          ]
        }
      ],
      "source": [
        "for line in open(file):\n",
        "    print(line)\n",
        "    break"
      ]
    },
    {
      "cell_type": "code",
      "execution_count": null,
      "metadata": {
        "id": "wGY2VHg_Pgji",
        "outputId": "38cd9fc9-f466-40c2-c65e-e855787c87be"
      },
      "outputs": [
        {
          "data": {
            "text/plain": [
              "'10021369\\tIdentification of APC2, a homologue of the <category=\"Modifier\">adenomatous polyposis coli tumour</category> suppressor .\\tThe <category=\"Modifier\">adenomatous polyposis coli ( APC ) tumour</category>-suppressor protein controls the Wnt signalling pathway by forming a complex with glycogen synthase kinase 3beta ( GSK-3beta ) , axin / conductin and betacatenin . Complex formation induces the rapid degradation of betacatenin . In <category=\"Modifier\">colon carcinoma</category> cells , loss of APC leads to the accumulation of betacatenin in the nucleus , where it binds to and activates the Tcf-4 transcription factor ( reviewed in [ 1 ] [ 2 ] ) . Here , we report the identification and genomic structure of APC homologues . Mammalian APC2 , which closely resembles APC in overall domain structure , was functionally analyzed and shown to contain two SAMP domains , both of which are required for binding to conductin . Like APC , APC2 regulates the formation of active betacatenin-Tcf complexes , as demonstrated using transient transcriptional activation assays in APC - / - <category=\"Modifier\">colon carcinoma</category> cells . Human APC2 maps to chromosome 19p13 . 3 . APC and APC2 may therefore have comparable functions in development and <category=\"SpecificDisease\">cancer</category> .\\n'"
            ]
          },
          "execution_count": 3,
          "metadata": {},
          "output_type": "execute_result"
        }
      ],
      "source": [
        "line"
      ]
    },
    {
      "cell_type": "code",
      "execution_count": null,
      "metadata": {
        "id": "8EztiJ5ePgjj",
        "outputId": "af613fd4-76f0-4979-94b2-06268a3249b1"
      },
      "outputs": [
        {
          "data": {
            "text/plain": [
              "['10021369',\n",
              " 'Identification',\n",
              " 'of',\n",
              " 'APC2,',\n",
              " 'a',\n",
              " 'homologue',\n",
              " 'of',\n",
              " 'the',\n",
              " '<category=\"Modifier\">adenomatous',\n",
              " 'polyposis',\n",
              " 'coli',\n",
              " 'tumour</category>',\n",
              " 'suppressor',\n",
              " '.',\n",
              " 'The',\n",
              " '<category=\"Modifier\">adenomatous',\n",
              " 'polyposis',\n",
              " 'coli',\n",
              " '(',\n",
              " 'APC',\n",
              " ')',\n",
              " 'tumour</category>-suppressor',\n",
              " 'protein',\n",
              " 'controls',\n",
              " 'the',\n",
              " 'Wnt',\n",
              " 'signalling',\n",
              " 'pathway',\n",
              " 'by',\n",
              " 'forming',\n",
              " 'a',\n",
              " 'complex',\n",
              " 'with',\n",
              " 'glycogen',\n",
              " 'synthase',\n",
              " 'kinase',\n",
              " '3beta',\n",
              " '(',\n",
              " 'GSK-3beta',\n",
              " ')',\n",
              " ',',\n",
              " 'axin',\n",
              " '/',\n",
              " 'conductin',\n",
              " 'and',\n",
              " 'betacatenin',\n",
              " '.',\n",
              " 'Complex',\n",
              " 'formation',\n",
              " 'induces',\n",
              " 'the',\n",
              " 'rapid',\n",
              " 'degradation',\n",
              " 'of',\n",
              " 'betacatenin',\n",
              " '.',\n",
              " 'In',\n",
              " '<category=\"Modifier\">colon',\n",
              " 'carcinoma</category>',\n",
              " 'cells',\n",
              " ',',\n",
              " 'loss',\n",
              " 'of',\n",
              " 'APC',\n",
              " 'leads',\n",
              " 'to',\n",
              " 'the',\n",
              " 'accumulation',\n",
              " 'of',\n",
              " 'betacatenin',\n",
              " 'in',\n",
              " 'the',\n",
              " 'nucleus',\n",
              " ',',\n",
              " 'where',\n",
              " 'it',\n",
              " 'binds',\n",
              " 'to',\n",
              " 'and',\n",
              " 'activates',\n",
              " 'the',\n",
              " 'Tcf-4',\n",
              " 'transcription',\n",
              " 'factor',\n",
              " '(',\n",
              " 'reviewed',\n",
              " 'in',\n",
              " '[',\n",
              " '1',\n",
              " ']',\n",
              " '[',\n",
              " '2',\n",
              " ']',\n",
              " ')',\n",
              " '.',\n",
              " 'Here',\n",
              " ',',\n",
              " 'we',\n",
              " 'report',\n",
              " 'the',\n",
              " 'identification',\n",
              " 'and',\n",
              " 'genomic',\n",
              " 'structure',\n",
              " 'of',\n",
              " 'APC',\n",
              " 'homologues',\n",
              " '.',\n",
              " 'Mammalian',\n",
              " 'APC2',\n",
              " ',',\n",
              " 'which',\n",
              " 'closely',\n",
              " 'resembles',\n",
              " 'APC',\n",
              " 'in',\n",
              " 'overall',\n",
              " 'domain',\n",
              " 'structure',\n",
              " ',',\n",
              " 'was',\n",
              " 'functionally',\n",
              " 'analyzed',\n",
              " 'and',\n",
              " 'shown',\n",
              " 'to',\n",
              " 'contain',\n",
              " 'two',\n",
              " 'SAMP',\n",
              " 'domains',\n",
              " ',',\n",
              " 'both',\n",
              " 'of',\n",
              " 'which',\n",
              " 'are',\n",
              " 'required',\n",
              " 'for',\n",
              " 'binding',\n",
              " 'to',\n",
              " 'conductin',\n",
              " '.',\n",
              " 'Like',\n",
              " 'APC',\n",
              " ',',\n",
              " 'APC2',\n",
              " 'regulates',\n",
              " 'the',\n",
              " 'formation',\n",
              " 'of',\n",
              " 'active',\n",
              " 'betacatenin-Tcf',\n",
              " 'complexes',\n",
              " ',',\n",
              " 'as',\n",
              " 'demonstrated',\n",
              " 'using',\n",
              " 'transient',\n",
              " 'transcriptional',\n",
              " 'activation',\n",
              " 'assays',\n",
              " 'in',\n",
              " 'APC',\n",
              " '-',\n",
              " '/',\n",
              " '-',\n",
              " '<category=\"Modifier\">colon',\n",
              " 'carcinoma</category>',\n",
              " 'cells',\n",
              " '.',\n",
              " 'Human',\n",
              " 'APC2',\n",
              " 'maps',\n",
              " 'to',\n",
              " 'chromosome',\n",
              " '19p13',\n",
              " '.',\n",
              " '3',\n",
              " '.',\n",
              " 'APC',\n",
              " 'and',\n",
              " 'APC2',\n",
              " 'may',\n",
              " 'therefore',\n",
              " 'have',\n",
              " 'comparable',\n",
              " 'functions',\n",
              " 'in',\n",
              " 'development',\n",
              " 'and',\n",
              " '<category=\"SpecificDisease\">cancer</category>',\n",
              " '.']"
            ]
          },
          "execution_count": 4,
          "metadata": {},
          "output_type": "execute_result"
        }
      ],
      "source": [
        "line.split()"
      ]
    },
    {
      "cell_type": "markdown",
      "metadata": {
        "id": "2CNG8fO8Pgjj"
      },
      "source": [
        "## Modify the text"
      ]
    },
    {
      "cell_type": "code",
      "execution_count": null,
      "metadata": {
        "id": "I694DoxxPgjk"
      },
      "outputs": [],
      "source": [
        "import re"
      ]
    },
    {
      "cell_type": "code",
      "execution_count": null,
      "metadata": {
        "id": "LR4e8M5oPgjk"
      },
      "outputs": [],
      "source": [
        "old_tag = '<category=\"Modifier\">'\n",
        "new_tag = \" <START_NER_Modifier> \""
      ]
    },
    {
      "cell_type": "code",
      "execution_count": null,
      "metadata": {
        "id": "4w_FUot0Pgjl",
        "outputId": "d3bcf251-fbc9-40c3-cb16-ac07835bb583"
      },
      "outputs": [
        {
          "data": {
            "text/plain": [
              "'10021369\\tIdentification of APC2, a homologue of the  <START_NER_Modifier> adenomatous polyposis coli tumour</category> suppressor .\\tThe  <START_NER_Modifier> adenomatous polyposis coli ( APC ) tumour</category>-suppressor protein controls the Wnt signalling pathway by forming a complex with glycogen synthase kinase 3beta ( GSK-3beta ) , axin / conductin and betacatenin . Complex formation induces the rapid degradation of betacatenin . In  <START_NER_Modifier> colon carcinoma</category> cells , loss of APC leads to the accumulation of betacatenin in the nucleus , where it binds to and activates the Tcf-4 transcription factor ( reviewed in [ 1 ] [ 2 ] ) . Here , we report the identification and genomic structure of APC homologues . Mammalian APC2 , which closely resembles APC in overall domain structure , was functionally analyzed and shown to contain two SAMP domains , both of which are required for binding to conductin . Like APC , APC2 regulates the formation of active betacatenin-Tcf complexes , as demonstrated using transient transcriptional activation assays in APC - / -  <START_NER_Modifier> colon carcinoma</category> cells . Human APC2 maps to chromosome 19p13 . 3 . APC and APC2 may therefore have comparable functions in development and <category=\"SpecificDisease\">cancer</category> .\\n'"
            ]
          },
          "execution_count": 7,
          "metadata": {},
          "output_type": "execute_result"
        }
      ],
      "source": [
        "text = re.sub(old_tag, new_tag, line)\n",
        "text"
      ]
    },
    {
      "cell_type": "code",
      "execution_count": 12,
      "metadata": {
        "id": "z0Aal7czPgjl"
      },
      "outputs": [],
      "source": [
        "dict_map = {\n",
        "    '<category=\"Modifier\">':' <START_NER_Modifier> ',\n",
        "    '<category=\"SpecificDisease\">':' <START_NER_SpecificDisease> ',\n",
        "    '<category=\"DiseaseClass\">':' <START_NER_DiseaseClass> ',\n",
        "    '<category=\"CompositeMention\">':' <START_NER_CompositeMention> ',\n",
        "    '</category>':' <END_NER> ',\n",
        "}"
      ]
    },
    {
      "cell_type": "code",
      "execution_count": null,
      "metadata": {
        "id": "QZsZmSWaPgjl"
      },
      "outputs": [],
      "source": [
        "text = line"
      ]
    },
    {
      "cell_type": "code",
      "execution_count": null,
      "metadata": {
        "id": "ZACubqe1Pgjl"
      },
      "outputs": [],
      "source": [
        "for k, v in dict_map.items():\n",
        "    text = re.sub(k,v, text)"
      ]
    },
    {
      "cell_type": "code",
      "execution_count": null,
      "metadata": {
        "id": "557OsY3JPgjm",
        "outputId": "24fb3171-e16c-4dad-d1e6-388d4e89a695"
      },
      "outputs": [
        {
          "name": "stdout",
          "output_type": "stream",
          "text": [
            "10021369\tIdentification of APC2, a homologue of the  <START_NER_Modifier> adenomatous polyposis coli tumour <END_NER>  suppressor .\tThe  <START_NER_Modifier> adenomatous polyposis coli ( APC ) tumour <END_NER> -suppressor protein controls the Wnt signalling pathway by forming a complex with glycogen synthase kinase 3beta ( GSK-3beta ) , axin / conductin and betacatenin . Complex formation induces the rapid degradation of betacatenin . In  <START_NER_Modifier> colon carcinoma <END_NER>  cells , loss of APC leads to the accumulation of betacatenin in the nucleus , where it binds to and activates the Tcf-4 transcription factor ( reviewed in [ 1 ] [ 2 ] ) . Here , we report the identification and genomic structure of APC homologues . Mammalian APC2 , which closely resembles APC in overall domain structure , was functionally analyzed and shown to contain two SAMP domains , both of which are required for binding to conductin . Like APC , APC2 regulates the formation of active betacatenin-Tcf complexes , as demonstrated using transient transcriptional activation assays in APC - / -  <START_NER_Modifier> colon carcinoma <END_NER>  cells . Human APC2 maps to chromosome 19p13 . 3 . APC and APC2 may therefore have comparable functions in development and  <START_NER_SpecificDisease> cancer <END_NER>  .\n",
            "\n"
          ]
        }
      ],
      "source": [
        "print(text)"
      ]
    },
    {
      "cell_type": "code",
      "execution_count": 13,
      "metadata": {
        "id": "dv8T8gXbPgjm"
      },
      "outputs": [],
      "source": [
        "def modify_label(text, dict_map):\n",
        "    for k, v in dict_map.items():\n",
        "        text = re.sub(k,v, text)\n",
        "    return text"
      ]
    },
    {
      "cell_type": "code",
      "execution_count": null,
      "metadata": {
        "id": "RbHi4g2rPgjm"
      },
      "outputs": [],
      "source": [
        "for line in open(file):\n",
        "    text = modify_label(line, dict_map)\n",
        "    break"
      ]
    },
    {
      "cell_type": "code",
      "execution_count": null,
      "metadata": {
        "id": "ps9rMh6cPgjm",
        "outputId": "1b194fda-bf6b-43c3-c64f-d7639dbe833f"
      },
      "outputs": [
        {
          "data": {
            "text/plain": [
              "'10021369\\tIdentification of APC2, a homologue of the  <START_NER_Modifier> adenomatous polyposis coli tumour <END_NER>  suppressor .\\tThe  <START_NER_Modifier> adenomatous polyposis coli ( APC ) tumour <END_NER> -suppressor protein controls the Wnt signalling pathway by forming a complex with glycogen synthase kinase 3beta ( GSK-3beta ) , axin / conductin and betacatenin . Complex formation induces the rapid degradation of betacatenin . In  <START_NER_Modifier> colon carcinoma <END_NER>  cells , loss of APC leads to the accumulation of betacatenin in the nucleus , where it binds to and activates the Tcf-4 transcription factor ( reviewed in [ 1 ] [ 2 ] ) . Here , we report the identification and genomic structure of APC homologues . Mammalian APC2 , which closely resembles APC in overall domain structure , was functionally analyzed and shown to contain two SAMP domains , both of which are required for binding to conductin . Like APC , APC2 regulates the formation of active betacatenin-Tcf complexes , as demonstrated using transient transcriptional activation assays in APC - / -  <START_NER_Modifier> colon carcinoma <END_NER>  cells . Human APC2 maps to chromosome 19p13 . 3 . APC and APC2 may therefore have comparable functions in development and  <START_NER_SpecificDisease> cancer <END_NER>  .\\n'"
            ]
          },
          "execution_count": 14,
          "metadata": {},
          "output_type": "execute_result"
        }
      ],
      "source": [
        "text"
      ]
    },
    {
      "cell_type": "markdown",
      "metadata": {
        "id": "xI-CkuFQPgjn"
      },
      "source": [
        "## Sentence and Word Tokenizing"
      ]
    },
    {
      "cell_type": "code",
      "execution_count": null,
      "metadata": {
        "id": "5ApcmaDzPgjn"
      },
      "outputs": [],
      "source": [
        "from nltk.tokenize import sent_tokenize\n",
        "from nltk.tokenize import word_tokenize"
      ]
    },
    {
      "cell_type": "code",
      "execution_count": null,
      "metadata": {
        "id": "TSjVSiXSPgjn",
        "outputId": "ed7dde80-b2ef-4cf9-9220-b71938c85ebc"
      },
      "outputs": [
        {
          "data": {
            "text/plain": [
              "['10021369\\tIdentification of APC2, a homologue of the  <START_NER_Modifier> adenomatous polyposis coli tumour <END_NER>  suppressor .',\n",
              " 'The  <START_NER_Modifier> adenomatous polyposis coli ( APC ) tumour <END_NER> -suppressor protein controls the Wnt signalling pathway by forming a complex with glycogen synthase kinase 3beta ( GSK-3beta ) , axin / conductin and betacatenin .',\n",
              " 'Complex formation induces the rapid degradation of betacatenin .',\n",
              " 'In  <START_NER_Modifier> colon carcinoma <END_NER>  cells , loss of APC leads to the accumulation of betacatenin in the nucleus , where it binds to and activates the Tcf-4 transcription factor ( reviewed in [ 1 ] [ 2 ] ) .',\n",
              " 'Here , we report the identification and genomic structure of APC homologues .',\n",
              " 'Mammalian APC2 , which closely resembles APC in overall domain structure , was functionally analyzed and shown to contain two SAMP domains , both of which are required for binding to conductin .',\n",
              " 'Like APC , APC2 regulates the formation of active betacatenin-Tcf complexes , as demonstrated using transient transcriptional activation assays in APC - / -  <START_NER_Modifier> colon carcinoma <END_NER>  cells .',\n",
              " 'Human APC2 maps to chromosome 19p13 .',\n",
              " '3 .',\n",
              " 'APC and APC2 may therefore have comparable functions in development and  <START_NER_SpecificDisease> cancer <END_NER>  .']"
            ]
          },
          "execution_count": 16,
          "metadata": {},
          "output_type": "execute_result"
        }
      ],
      "source": [
        "sent_tokenize(text)"
      ]
    },
    {
      "cell_type": "code",
      "execution_count": null,
      "metadata": {
        "id": "sAtFE4DgPgjn"
      },
      "outputs": [],
      "source": [
        "sentences = sent_tokenize(text)"
      ]
    },
    {
      "cell_type": "code",
      "execution_count": null,
      "metadata": {
        "id": "aKWHZfqnPgjn",
        "outputId": "c83da3e6-9f0b-42f0-8c09-6af78c20379f"
      },
      "outputs": [
        {
          "name": "stdout",
          "output_type": "stream",
          "text": [
            "['10021369', 'Identification', 'of', 'APC2', ',', 'a', 'homologue', 'of', 'the', 'START_NER_Modifier', 'adenomatous', 'polyposis', 'coli', 'tumour', 'END_NER', 'suppressor', '.']\n",
            "['The', 'START_NER_Modifier', 'adenomatous', 'polyposis', 'coli', '(', 'APC', ')', 'tumour', 'END_NER', '-suppressor', 'protein', 'controls', 'the', 'Wnt', 'signalling', 'pathway', 'by', 'forming', 'a', 'complex', 'with', 'glycogen', 'synthase', 'kinase', '3beta', '(', 'GSK-3beta', ')', ',', 'axin', '/', 'conductin', 'and', 'betacatenin', '.']\n",
            "['Complex', 'formation', 'induces', 'the', 'rapid', 'degradation', 'of', 'betacatenin', '.']\n",
            "['In', 'START_NER_Modifier', 'colon', 'carcinoma', 'END_NER', 'cells', ',', 'loss', 'of', 'APC', 'leads', 'to', 'the', 'accumulation', 'of', 'betacatenin', 'in', 'the', 'nucleus', ',', 'where', 'it', 'binds', 'to', 'and', 'activates', 'the', 'Tcf-4', 'transcription', 'factor', '(', 'reviewed', 'in', '[', '1', ']', '[', '2', ']', ')', '.']\n",
            "['Here', ',', 'we', 'report', 'the', 'identification', 'and', 'genomic', 'structure', 'of', 'APC', 'homologues', '.']\n",
            "['Mammalian', 'APC2', ',', 'which', 'closely', 'resembles', 'APC', 'in', 'overall', 'domain', 'structure', ',', 'was', 'functionally', 'analyzed', 'and', 'shown', 'to', 'contain', 'two', 'SAMP', 'domains', ',', 'both', 'of', 'which', 'are', 'required', 'for', 'binding', 'to', 'conductin', '.']\n",
            "['Like', 'APC', ',', 'APC2', 'regulates', 'the', 'formation', 'of', 'active', 'betacatenin-Tcf', 'complexes', ',', 'as', 'demonstrated', 'using', 'transient', 'transcriptional', 'activation', 'assays', 'in', 'APC', '-', '/', '-', 'START_NER_Modifier', 'colon', 'carcinoma', 'END_NER', 'cells', '.']\n",
            "['Human', 'APC2', 'maps', 'to', 'chromosome', '19p13', '.']\n",
            "['3', '.']\n",
            "['APC', 'and', 'APC2', 'may', 'therefore', 'have', 'comparable', 'functions', 'in', 'development', 'and', 'START_NER_SpecificDisease', 'cancer', 'END_NER', '.']\n"
          ]
        }
      ],
      "source": [
        "for s in sentences:\n",
        "    print([t for t in word_tokenize(s) if t not in ['<','>']])"
      ]
    },
    {
      "cell_type": "code",
      "execution_count": null,
      "metadata": {
        "id": "rV2sdw_KPgjo"
      },
      "outputs": [],
      "source": [
        "for s in sentences:\n",
        "    tokens = [t for t in word_tokenize(s) if t not in ['<','>']]\n",
        "    break"
      ]
    },
    {
      "cell_type": "markdown",
      "metadata": {
        "id": "RACNfdSoPgjo"
      },
      "source": [
        "## Text to ConLL "
      ]
    },
    {
      "cell_type": "code",
      "execution_count": null,
      "metadata": {
        "id": "cQPCg8btPgjo",
        "outputId": "0e8996d0-489c-41a7-e26c-d819cb2c7316"
      },
      "outputs": [
        {
          "data": {
            "text/plain": [
              "['10021369',\n",
              " 'Identification',\n",
              " 'of',\n",
              " 'APC2',\n",
              " ',',\n",
              " 'a',\n",
              " 'homologue',\n",
              " 'of',\n",
              " 'the',\n",
              " 'START_NER_Modifier',\n",
              " 'adenomatous',\n",
              " 'polyposis',\n",
              " 'coli',\n",
              " 'tumour',\n",
              " 'END_NER',\n",
              " 'suppressor',\n",
              " '.']"
            ]
          },
          "execution_count": 20,
          "metadata": {},
          "output_type": "execute_result"
        }
      ],
      "source": [
        "tokens"
      ]
    },
    {
      "cell_type": "code",
      "execution_count": null,
      "metadata": {
        "id": "gJT3iMtiPgjo",
        "outputId": "62689399-d30e-47ab-b661-7206243391b8"
      },
      "outputs": [
        {
          "data": {
            "text/plain": [
              "'Modifier'"
            ]
          },
          "execution_count": 21,
          "metadata": {},
          "output_type": "execute_result"
        }
      ],
      "source": [
        "'START_NER_Modifier'.split('_')[-1]"
      ]
    },
    {
      "cell_type": "markdown",
      "metadata": {
        "id": "6p2fmBloPgjp"
      },
      "source": [
        "## conll logic"
      ]
    },
    {
      "cell_type": "code",
      "execution_count": null,
      "metadata": {
        "id": "NtskP-N6Pgjp",
        "outputId": "66c232f5-c6bf-4ea2-cf95-f56f0f9c197a"
      },
      "outputs": [
        {
          "name": "stdout",
          "output_type": "stream",
          "text": [
            "10021369 NN NN O\n",
            "Identification NN NN O\n",
            "of NN NN O\n",
            "APC2 NN NN O\n",
            ", NN NN O\n",
            "a NN NN O\n",
            "homologue NN NN O\n",
            "of NN NN O\n",
            "the NN NN O\n",
            "adenomatous NN NN B-Modifier\n",
            "polyposis NN NN I-Modifier\n",
            "coli NN NN I-Modifier\n",
            "tumour NN NN I-Modifier\n",
            "suppressor NN NN O\n",
            ". NN NN O\n"
          ]
        }
      ],
      "source": [
        "label = 'O'\n",
        "cl = []\n",
        "for t in tokens:\n",
        "    if t.startswith('START_NER_'):\n",
        "        label = t.split('_')[-1]\n",
        "        continue\n",
        "    \n",
        "    if label != 'O' and t != 'END_NER':\n",
        "        cl.append(t)\n",
        "        continue\n",
        "        \n",
        "        \n",
        "    if t == 'END_NER':\n",
        "        for idx, ct in enumerate(cl):\n",
        "            x = 'B' if idx == 0 else 'I'\n",
        "            print(f\"{ct} NN NN {x}-{label}\")\n",
        "        \n",
        "        label = 'O'\n",
        "        continue\n",
        "        \n",
        "    print(f\"{t} NN NN {label}\")"
      ]
    },
    {
      "cell_type": "code",
      "execution_count": null,
      "metadata": {
        "id": "IPy15kokPgjp",
        "outputId": "b71c7a42-0eb6-4a3d-f064-1e03f97aff7a"
      },
      "outputs": [
        {
          "data": {
            "text/plain": [
              "['adenomatous', 'polyposis', 'coli', 'tumour']"
            ]
          },
          "execution_count": 23,
          "metadata": {},
          "output_type": "execute_result"
        }
      ],
      "source": [
        "cl"
      ]
    },
    {
      "cell_type": "code",
      "execution_count": null,
      "metadata": {
        "id": "zUbWak1UPgjp"
      },
      "outputs": [],
      "source": [
        "def conll(tokens:list)->str:\n",
        "    label = 'O'\n",
        "    cl = []\n",
        "    conll = \"\"\n",
        "    for t in tokens:\n",
        "        if t.startswith(\"START_NER\"):\n",
        "            label = t.split(\"_\")[-1]\n",
        "            continue\n",
        "        \n",
        "        if label != 'O' and t != 'END_NER':\n",
        "            cl.append(t)\n",
        "            continue\n",
        "        \n",
        "        if t == 'END_NER':\n",
        "            for idx, ct in enumerate(cl):\n",
        "                x = 'B' if idx == 0 else 'I'\n",
        "                conll += f\"{ct} NN NN {x}-{label}\\n\"\n",
        "            label = 'O'\n",
        "            cl.clear()\n",
        "            continue  \n",
        "        \n",
        "        conll += f\"{t} NN NN {label}\\n\"\n",
        "    return conll"
      ]
    },
    {
      "cell_type": "code",
      "execution_count": null,
      "metadata": {
        "id": "vcKsckF4Pgjp",
        "outputId": "f643ba33-377c-437f-bbe9-c5df531310a8"
      },
      "outputs": [
        {
          "name": "stdout",
          "output_type": "stream",
          "text": [
            "10021369 NN NN O\n",
            "Identification NN NN O\n",
            "of NN NN O\n",
            "APC2 NN NN O\n",
            ", NN NN O\n",
            "a NN NN O\n",
            "homologue NN NN O\n",
            "of NN NN O\n",
            "the NN NN O\n",
            "adenomatous NN NN B-Modifier\n",
            "polyposis NN NN I-Modifier\n",
            "coli NN NN I-Modifier\n",
            "tumour NN NN I-Modifier\n",
            "suppressor NN NN O\n",
            ". NN NN O\n",
            "\n"
          ]
        }
      ],
      "source": [
        "print(conll(tokens))"
      ]
    },
    {
      "cell_type": "code",
      "execution_count": null,
      "metadata": {
        "id": "-O27okILPgjq"
      },
      "outputs": [],
      "source": [
        "conll_text = \"\"\n",
        "for line in open(file):\n",
        "    text = modify_label(line, dict_map)\n",
        "    sentences = sent_tokenize(text)\n",
        "    for s in sentences:\n",
        "        tokens = [t for t in word_tokenize(s) if t not in ['<','>']]\n",
        "        conll_text += conll(tokens) + '\\n'\n",
        "    break"
      ]
    },
    {
      "cell_type": "markdown",
      "metadata": {
        "id": "7LgHqVncPgjq"
      },
      "source": [
        "# Wrup up all"
      ]
    },
    {
      "cell_type": "code",
      "execution_count": null,
      "metadata": {
        "id": "foxfhdhaPgjq"
      },
      "outputs": [],
      "source": [
        "def text_conll(file:str)->str:    \n",
        "    conll_text = \"\"\n",
        "    for line in open(file):\n",
        "        text = modify_label(line, dict_map)\n",
        "        sentences = sent_tokenize(text)\n",
        "        for s in sentences:\n",
        "            tokens = [t for t in word_tokenize(s) if t not in ['<','>']]\n",
        "            conll_text += conll(tokens) + '\\n'\n",
        "    return conll_text"
      ]
    },
    {
      "cell_type": "code",
      "execution_count": null,
      "metadata": {
        "id": "WBsUqYDHPgjq"
      },
      "outputs": [],
      "source": [
        "conll_txt = text_conll(file)"
      ]
    },
    {
      "cell_type": "code",
      "execution_count": null,
      "metadata": {
        "id": "EmgmQ_M4Pgjq",
        "outputId": "8afe5ff0-c10d-422e-be22-f3a49c25e66b"
      },
      "outputs": [
        {
          "name": "stdout",
          "output_type": "stream",
          "text": [
            "10021369 NN NN O\n",
            "Identification NN NN O\n",
            "of NN NN O\n",
            "APC2 NN NN O\n",
            ", NN NN O\n",
            "a NN NN O\n",
            "homologue NN NN O\n",
            "of NN NN O\n",
            "the NN NN O\n",
            "adenomatous NN NN B-Modifier\n",
            "polyposis NN NN I-Modifier\n",
            "coli NN NN I-Modifier\n",
            "tumour NN NN I-Modifier\n",
            "suppressor NN NN O\n",
            ". NN NN O\n",
            "\n",
            "The NN NN O\n",
            "adenomatous NN NN B-Modifier\n",
            "polyposis NN NN I-Modifier\n",
            "coli NN NN I-Modifier\n",
            "( NN NN I-Modifier\n",
            "APC NN NN I-Modifier\n",
            ") NN NN I-Modifier\n",
            "tumour NN NN I-Modifier\n",
            "-suppressor NN NN O\n",
            "protein NN NN O\n",
            "controls NN NN O\n",
            "the NN NN O\n",
            "Wnt NN NN O\n",
            "signalling NN NN O\n",
            "pathway NN NN O\n",
            "by NN NN O\n",
            "forming NN NN O\n",
            "a NN NN O\n",
            "complex NN NN O\n",
            "with NN NN O\n",
            "glycogen NN NN O\n",
            "synthase NN NN O\n",
            "kinase NN NN O\n",
            "3beta NN NN O\n",
            "( NN NN O\n",
            "GSK-3beta NN NN O\n",
            ") NN NN O\n",
            ", NN NN O\n",
            "axin NN NN O\n",
            "/ NN NN O\n",
            "conductin NN NN O\n",
            "and NN NN O\n",
            "betacatenin NN NN O\n",
            ". NN NN O\n",
            "\n",
            "Complex NN NN O\n",
            "formation NN NN O\n",
            "induces NN NN O\n",
            "the NN NN O\n",
            "rapid NN NN O\n",
            "degradation NN NN O\n",
            "of NN NN O\n",
            "betacatenin NN NN O\n",
            ". NN NN O\n",
            "\n",
            "In NN NN O\n",
            "colon NN NN B-Modifier\n",
            "carcinoma NN NN I-Modifier\n",
            "cells NN NN O\n",
            ", NN NN O\n",
            "loss NN NN O\n",
            "of NN NN O\n",
            "APC NN NN O\n",
            "leads NN NN O\n",
            "to NN NN O\n",
            "the NN NN O\n",
            "accumulation NN NN O\n",
            "of NN NN O\n",
            "betacatenin NN NN O\n",
            "in NN NN O\n",
            "the NN NN O\n",
            "nucleus NN NN O\n",
            ", NN NN O\n",
            "where NN NN O\n",
            "it NN NN O\n",
            "binds NN NN O\n",
            "to NN NN O\n",
            "\n"
          ]
        }
      ],
      "source": [
        "print(conll_txt[:1250])"
      ]
    },
    {
      "cell_type": "code",
      "execution_count": null,
      "metadata": {
        "id": "Bh2OZ4pIPgjr"
      },
      "outputs": [],
      "source": [
        "header = \"-DOCSTART- -X- -X- O\\n\\n\"\n",
        "with open(\"NCBI_train.conll\",\"+w\", encoding=\"utf8\") as f:\n",
        "    f.write(header)\n",
        "    f.write(conll_txt)\n",
        "    "
      ]
    },
    {
      "cell_type": "code",
      "execution_count": null,
      "metadata": {
        "id": "Le2pHDWyPgjr"
      },
      "outputs": [],
      "source": [
        "with open(\"NCBI_dev.conll\",\"+w\", encoding=\"utf8\") as f:\n",
        "    f.write(header)\n",
        "    f.write(text_conll(\"NCBI_corpus_development.txt\"))"
      ]
    },
    {
      "cell_type": "code",
      "execution_count": null,
      "metadata": {
        "id": "hQaNTWeDPgjr"
      },
      "outputs": [],
      "source": [
        "with open(\"NCBI_test.conll\",\"+w\", encoding=\"utf8\") as f:\n",
        "    f.write(header)\n",
        "    f.write(text_conll(\"NCBI_corpus_testing.txt\"))"
      ]
    },
    {
      "cell_type": "markdown",
      "metadata": {
        "id": "vSSvx-DQPgjr"
      },
      "source": [
        "# 2-Way Using Pandas and Pyspark"
      ]
    },
    {
      "cell_type": "code",
      "execution_count": 1,
      "metadata": {
        "id": "bUbSC9jdPgjr"
      },
      "outputs": [],
      "source": [
        "%%capture\n",
        "!wget http://setup.johnsnowlabs.com/colab.sh -O - | bash"
      ]
    },
    {
      "cell_type": "code",
      "source": [
        "from pyspark.ml import Pipeline\n",
        "from pyspark.sql import SparkSession\n",
        "from sparknlp.base import *\n",
        "from sparknlp.annotator import *\n",
        "from sparknlp.common import *\n",
        "from sparknlp.training import CoNLL\n",
        "import pyspark.sql.functions as F\n",
        "import pandas as pd\n",
        "from collections import Counter\n",
        "import re\n",
        "import sparknlp\n",
        "spark = sparknlp.start()"
      ],
      "metadata": {
        "id": "a1BCuoA-P9Vk"
      },
      "execution_count": 2,
      "outputs": []
    },
    {
      "cell_type": "code",
      "source": [
        "df = pd.read_csv(\"/content/NCBI_corpus_training.txt\",\n",
        "                 sep=\"\\t\", \n",
        "                 names=[\"text_id\",\"text\"], \n",
        "                 index_col=False, \n",
        "                 engine=\"python\")"
      ],
      "metadata": {
        "colab": {
          "base_uri": "https://localhost:8080/"
        },
        "id": "8YRjkAOwQLuR",
        "outputId": "848bf519-3580-4b41-f5dd-9209cb6e4089"
      },
      "execution_count": 10,
      "outputs": [
        {
          "output_type": "stream",
          "name": "stderr",
          "text": [
            "/usr/local/lib/python3.7/dist-packages/pandas/io/parsers/readers.py:586: ParserWarning: Length of header or names does not match length of data. This leads to a loss of data with index_col=False.\n",
            "  return _read(filepath_or_buffer, kwds)\n"
          ]
        }
      ]
    },
    {
      "cell_type": "code",
      "source": [
        "df.head()"
      ],
      "metadata": {
        "colab": {
          "base_uri": "https://localhost:8080/",
          "height": 206
        },
        "id": "QRZuHBqLQLid",
        "outputId": "def2c664-7f72-4601-ac0e-83136890483b"
      },
      "execution_count": 11,
      "outputs": [
        {
          "output_type": "execute_result",
          "data": {
            "text/html": [
              "\n",
              "  <div id=\"df-f45c2b51-847f-4cb6-a0fd-8e1a7461ba6c\">\n",
              "    <div class=\"colab-df-container\">\n",
              "      <div>\n",
              "<style scoped>\n",
              "    .dataframe tbody tr th:only-of-type {\n",
              "        vertical-align: middle;\n",
              "    }\n",
              "\n",
              "    .dataframe tbody tr th {\n",
              "        vertical-align: top;\n",
              "    }\n",
              "\n",
              "    .dataframe thead th {\n",
              "        text-align: right;\n",
              "    }\n",
              "</style>\n",
              "<table border=\"1\" class=\"dataframe\">\n",
              "  <thead>\n",
              "    <tr style=\"text-align: right;\">\n",
              "      <th></th>\n",
              "      <th>text_id</th>\n",
              "      <th>text</th>\n",
              "    </tr>\n",
              "  </thead>\n",
              "  <tbody>\n",
              "    <tr>\n",
              "      <th>0</th>\n",
              "      <td>10021369</td>\n",
              "      <td>Identification of APC2, a homologue of the &lt;ca...</td>\n",
              "    </tr>\n",
              "    <tr>\n",
              "      <th>1</th>\n",
              "      <td>10051005</td>\n",
              "      <td>A common MSH2 mutation in English and North Am...</td>\n",
              "    </tr>\n",
              "    <tr>\n",
              "      <th>2</th>\n",
              "      <td>10051007</td>\n",
              "      <td>Age of onset in &lt;category=\"SpecificDisease\"&gt;Hu...</td>\n",
              "    </tr>\n",
              "    <tr>\n",
              "      <th>3</th>\n",
              "      <td>100562</td>\n",
              "      <td>&lt;category=\"SpecificDisease\"&gt;Familial deficienc...</td>\n",
              "    </tr>\n",
              "    <tr>\n",
              "      <th>4</th>\n",
              "      <td>10064668</td>\n",
              "      <td>Increased incidence of &lt;category=\"DiseaseClass...</td>\n",
              "    </tr>\n",
              "  </tbody>\n",
              "</table>\n",
              "</div>\n",
              "      <button class=\"colab-df-convert\" onclick=\"convertToInteractive('df-f45c2b51-847f-4cb6-a0fd-8e1a7461ba6c')\"\n",
              "              title=\"Convert this dataframe to an interactive table.\"\n",
              "              style=\"display:none;\">\n",
              "        \n",
              "  <svg xmlns=\"http://www.w3.org/2000/svg\" height=\"24px\"viewBox=\"0 0 24 24\"\n",
              "       width=\"24px\">\n",
              "    <path d=\"M0 0h24v24H0V0z\" fill=\"none\"/>\n",
              "    <path d=\"M18.56 5.44l.94 2.06.94-2.06 2.06-.94-2.06-.94-.94-2.06-.94 2.06-2.06.94zm-11 1L8.5 8.5l.94-2.06 2.06-.94-2.06-.94L8.5 2.5l-.94 2.06-2.06.94zm10 10l.94 2.06.94-2.06 2.06-.94-2.06-.94-.94-2.06-.94 2.06-2.06.94z\"/><path d=\"M17.41 7.96l-1.37-1.37c-.4-.4-.92-.59-1.43-.59-.52 0-1.04.2-1.43.59L10.3 9.45l-7.72 7.72c-.78.78-.78 2.05 0 2.83L4 21.41c.39.39.9.59 1.41.59.51 0 1.02-.2 1.41-.59l7.78-7.78 2.81-2.81c.8-.78.8-2.07 0-2.86zM5.41 20L4 18.59l7.72-7.72 1.47 1.35L5.41 20z\"/>\n",
              "  </svg>\n",
              "      </button>\n",
              "      \n",
              "  <style>\n",
              "    .colab-df-container {\n",
              "      display:flex;\n",
              "      flex-wrap:wrap;\n",
              "      gap: 12px;\n",
              "    }\n",
              "\n",
              "    .colab-df-convert {\n",
              "      background-color: #E8F0FE;\n",
              "      border: none;\n",
              "      border-radius: 50%;\n",
              "      cursor: pointer;\n",
              "      display: none;\n",
              "      fill: #1967D2;\n",
              "      height: 32px;\n",
              "      padding: 0 0 0 0;\n",
              "      width: 32px;\n",
              "    }\n",
              "\n",
              "    .colab-df-convert:hover {\n",
              "      background-color: #E2EBFA;\n",
              "      box-shadow: 0px 1px 2px rgba(60, 64, 67, 0.3), 0px 1px 3px 1px rgba(60, 64, 67, 0.15);\n",
              "      fill: #174EA6;\n",
              "    }\n",
              "\n",
              "    [theme=dark] .colab-df-convert {\n",
              "      background-color: #3B4455;\n",
              "      fill: #D2E3FC;\n",
              "    }\n",
              "\n",
              "    [theme=dark] .colab-df-convert:hover {\n",
              "      background-color: #434B5C;\n",
              "      box-shadow: 0px 1px 3px 1px rgba(0, 0, 0, 0.15);\n",
              "      filter: drop-shadow(0px 1px 2px rgba(0, 0, 0, 0.3));\n",
              "      fill: #FFFFFF;\n",
              "    }\n",
              "  </style>\n",
              "\n",
              "      <script>\n",
              "        const buttonEl =\n",
              "          document.querySelector('#df-f45c2b51-847f-4cb6-a0fd-8e1a7461ba6c button.colab-df-convert');\n",
              "        buttonEl.style.display =\n",
              "          google.colab.kernel.accessAllowed ? 'block' : 'none';\n",
              "\n",
              "        async function convertToInteractive(key) {\n",
              "          const element = document.querySelector('#df-f45c2b51-847f-4cb6-a0fd-8e1a7461ba6c');\n",
              "          const dataTable =\n",
              "            await google.colab.kernel.invokeFunction('convertToInteractive',\n",
              "                                                     [key], {});\n",
              "          if (!dataTable) return;\n",
              "\n",
              "          const docLinkHtml = 'Like what you see? Visit the ' +\n",
              "            '<a target=\"_blank\" href=https://colab.research.google.com/notebooks/data_table.ipynb>data table notebook</a>'\n",
              "            + ' to learn more about interactive tables.';\n",
              "          element.innerHTML = '';\n",
              "          dataTable['output_type'] = 'display_data';\n",
              "          await google.colab.output.renderOutput(dataTable, element);\n",
              "          const docLink = document.createElement('div');\n",
              "          docLink.innerHTML = docLinkHtml;\n",
              "          element.appendChild(docLink);\n",
              "        }\n",
              "      </script>\n",
              "    </div>\n",
              "  </div>\n",
              "  "
            ],
            "text/plain": [
              "    text_id                                               text\n",
              "0  10021369  Identification of APC2, a homologue of the <ca...\n",
              "1  10051005  A common MSH2 mutation in English and North Am...\n",
              "2  10051007  Age of onset in <category=\"SpecificDisease\">Hu...\n",
              "3    100562  <category=\"SpecificDisease\">Familial deficienc...\n",
              "4  10064668  Increased incidence of <category=\"DiseaseClass..."
            ]
          },
          "metadata": {},
          "execution_count": 11
        }
      ]
    },
    {
      "cell_type": "code",
      "source": [
        "df[\"text\"] = df[\"text\"].apply(lambda text:modify_label(text,dict_map))"
      ],
      "metadata": {
        "id": "b3xP2oIyRBt1"
      },
      "execution_count": 16,
      "outputs": []
    },
    {
      "cell_type": "code",
      "source": [
        "df"
      ],
      "metadata": {
        "colab": {
          "base_uri": "https://localhost:8080/",
          "height": 423
        },
        "id": "NTHuMsPMSPP8",
        "outputId": "f4e2d353-9adc-4f68-ce4e-28a19bd89d18"
      },
      "execution_count": 17,
      "outputs": [
        {
          "output_type": "execute_result",
          "data": {
            "text/html": [
              "\n",
              "  <div id=\"df-7c2e025b-e944-4490-a6d1-956693ba4caa\">\n",
              "    <div class=\"colab-df-container\">\n",
              "      <div>\n",
              "<style scoped>\n",
              "    .dataframe tbody tr th:only-of-type {\n",
              "        vertical-align: middle;\n",
              "    }\n",
              "\n",
              "    .dataframe tbody tr th {\n",
              "        vertical-align: top;\n",
              "    }\n",
              "\n",
              "    .dataframe thead th {\n",
              "        text-align: right;\n",
              "    }\n",
              "</style>\n",
              "<table border=\"1\" class=\"dataframe\">\n",
              "  <thead>\n",
              "    <tr style=\"text-align: right;\">\n",
              "      <th></th>\n",
              "      <th>text_id</th>\n",
              "      <th>text</th>\n",
              "    </tr>\n",
              "  </thead>\n",
              "  <tbody>\n",
              "    <tr>\n",
              "      <th>0</th>\n",
              "      <td>10021369</td>\n",
              "      <td>Identification of APC2, a homologue of the  &lt;S...</td>\n",
              "    </tr>\n",
              "    <tr>\n",
              "      <th>1</th>\n",
              "      <td>10051005</td>\n",
              "      <td>A common MSH2 mutation in English and North Am...</td>\n",
              "    </tr>\n",
              "    <tr>\n",
              "      <th>2</th>\n",
              "      <td>10051007</td>\n",
              "      <td>Age of onset in  &lt;START_NER_SpecificDisease&gt; H...</td>\n",
              "    </tr>\n",
              "    <tr>\n",
              "      <th>3</th>\n",
              "      <td>100562</td>\n",
              "      <td>&lt;START_NER_SpecificDisease&gt; Familial deficien...</td>\n",
              "    </tr>\n",
              "    <tr>\n",
              "      <th>4</th>\n",
              "      <td>10064668</td>\n",
              "      <td>Increased incidence of  &lt;START_NER_DiseaseClas...</td>\n",
              "    </tr>\n",
              "    <tr>\n",
              "      <th>...</th>\n",
              "      <td>...</td>\n",
              "      <td>...</td>\n",
              "    </tr>\n",
              "    <tr>\n",
              "      <th>588</th>\n",
              "      <td>8571951</td>\n",
              "      <td>&lt;START_NER_SpecificDisease&gt; Atelosteogenesis ...</td>\n",
              "    </tr>\n",
              "    <tr>\n",
              "      <th>589</th>\n",
              "      <td>8571953</td>\n",
              "      <td>Haplotype and phenotype analysis of six recurr...</td>\n",
              "    </tr>\n",
              "    <tr>\n",
              "      <th>590</th>\n",
              "      <td>8575748</td>\n",
              "      <td>Isolation of the mouse homologue of BRCA1 and ...</td>\n",
              "    </tr>\n",
              "    <tr>\n",
              "      <th>591</th>\n",
              "      <td>8589715</td>\n",
              "      <td>&lt;START_NER_SpecificDisease&gt; Emerin deficiency...</td>\n",
              "    </tr>\n",
              "    <tr>\n",
              "      <th>592</th>\n",
              "      <td>8589721</td>\n",
              "      <td>&lt;START_NER_DiseaseClass&gt; Growth retardation &lt;...</td>\n",
              "    </tr>\n",
              "  </tbody>\n",
              "</table>\n",
              "<p>593 rows × 2 columns</p>\n",
              "</div>\n",
              "      <button class=\"colab-df-convert\" onclick=\"convertToInteractive('df-7c2e025b-e944-4490-a6d1-956693ba4caa')\"\n",
              "              title=\"Convert this dataframe to an interactive table.\"\n",
              "              style=\"display:none;\">\n",
              "        \n",
              "  <svg xmlns=\"http://www.w3.org/2000/svg\" height=\"24px\"viewBox=\"0 0 24 24\"\n",
              "       width=\"24px\">\n",
              "    <path d=\"M0 0h24v24H0V0z\" fill=\"none\"/>\n",
              "    <path d=\"M18.56 5.44l.94 2.06.94-2.06 2.06-.94-2.06-.94-.94-2.06-.94 2.06-2.06.94zm-11 1L8.5 8.5l.94-2.06 2.06-.94-2.06-.94L8.5 2.5l-.94 2.06-2.06.94zm10 10l.94 2.06.94-2.06 2.06-.94-2.06-.94-.94-2.06-.94 2.06-2.06.94z\"/><path d=\"M17.41 7.96l-1.37-1.37c-.4-.4-.92-.59-1.43-.59-.52 0-1.04.2-1.43.59L10.3 9.45l-7.72 7.72c-.78.78-.78 2.05 0 2.83L4 21.41c.39.39.9.59 1.41.59.51 0 1.02-.2 1.41-.59l7.78-7.78 2.81-2.81c.8-.78.8-2.07 0-2.86zM5.41 20L4 18.59l7.72-7.72 1.47 1.35L5.41 20z\"/>\n",
              "  </svg>\n",
              "      </button>\n",
              "      \n",
              "  <style>\n",
              "    .colab-df-container {\n",
              "      display:flex;\n",
              "      flex-wrap:wrap;\n",
              "      gap: 12px;\n",
              "    }\n",
              "\n",
              "    .colab-df-convert {\n",
              "      background-color: #E8F0FE;\n",
              "      border: none;\n",
              "      border-radius: 50%;\n",
              "      cursor: pointer;\n",
              "      display: none;\n",
              "      fill: #1967D2;\n",
              "      height: 32px;\n",
              "      padding: 0 0 0 0;\n",
              "      width: 32px;\n",
              "    }\n",
              "\n",
              "    .colab-df-convert:hover {\n",
              "      background-color: #E2EBFA;\n",
              "      box-shadow: 0px 1px 2px rgba(60, 64, 67, 0.3), 0px 1px 3px 1px rgba(60, 64, 67, 0.15);\n",
              "      fill: #174EA6;\n",
              "    }\n",
              "\n",
              "    [theme=dark] .colab-df-convert {\n",
              "      background-color: #3B4455;\n",
              "      fill: #D2E3FC;\n",
              "    }\n",
              "\n",
              "    [theme=dark] .colab-df-convert:hover {\n",
              "      background-color: #434B5C;\n",
              "      box-shadow: 0px 1px 3px 1px rgba(0, 0, 0, 0.15);\n",
              "      filter: drop-shadow(0px 1px 2px rgba(0, 0, 0, 0.3));\n",
              "      fill: #FFFFFF;\n",
              "    }\n",
              "  </style>\n",
              "\n",
              "      <script>\n",
              "        const buttonEl =\n",
              "          document.querySelector('#df-7c2e025b-e944-4490-a6d1-956693ba4caa button.colab-df-convert');\n",
              "        buttonEl.style.display =\n",
              "          google.colab.kernel.accessAllowed ? 'block' : 'none';\n",
              "\n",
              "        async function convertToInteractive(key) {\n",
              "          const element = document.querySelector('#df-7c2e025b-e944-4490-a6d1-956693ba4caa');\n",
              "          const dataTable =\n",
              "            await google.colab.kernel.invokeFunction('convertToInteractive',\n",
              "                                                     [key], {});\n",
              "          if (!dataTable) return;\n",
              "\n",
              "          const docLinkHtml = 'Like what you see? Visit the ' +\n",
              "            '<a target=\"_blank\" href=https://colab.research.google.com/notebooks/data_table.ipynb>data table notebook</a>'\n",
              "            + ' to learn more about interactive tables.';\n",
              "          element.innerHTML = '';\n",
              "          dataTable['output_type'] = 'display_data';\n",
              "          await google.colab.output.renderOutput(dataTable, element);\n",
              "          const docLink = document.createElement('div');\n",
              "          docLink.innerHTML = docLinkHtml;\n",
              "          element.appendChild(docLink);\n",
              "        }\n",
              "      </script>\n",
              "    </div>\n",
              "  </div>\n",
              "  "
            ],
            "text/plain": [
              "      text_id                                               text\n",
              "0    10021369  Identification of APC2, a homologue of the  <S...\n",
              "1    10051005  A common MSH2 mutation in English and North Am...\n",
              "2    10051007  Age of onset in  <START_NER_SpecificDisease> H...\n",
              "3      100562   <START_NER_SpecificDisease> Familial deficien...\n",
              "4    10064668  Increased incidence of  <START_NER_DiseaseClas...\n",
              "..        ...                                                ...\n",
              "588   8571951   <START_NER_SpecificDisease> Atelosteogenesis ...\n",
              "589   8571953  Haplotype and phenotype analysis of six recurr...\n",
              "590   8575748  Isolation of the mouse homologue of BRCA1 and ...\n",
              "591   8589715   <START_NER_SpecificDisease> Emerin deficiency...\n",
              "592   8589721   <START_NER_DiseaseClass> Growth retardation <...\n",
              "\n",
              "[593 rows x 2 columns]"
            ]
          },
          "metadata": {},
          "execution_count": 17
        }
      ]
    },
    {
      "cell_type": "code",
      "source": [
        ""
      ],
      "metadata": {
        "id": "j223YtOwSQGf"
      },
      "execution_count": null,
      "outputs": []
    }
  ],
  "metadata": {
    "interpreter": {
      "hash": "02909133c842bea5b9844dfca84ea9debb08fdd429c8f0109bc3b4709ce04e96"
    },
    "kernelspec": {
      "display_name": "Python 3.9.7 ('spark')",
      "language": "python",
      "name": "python3"
    },
    "language_info": {
      "codemirror_mode": {
        "name": "ipython",
        "version": 3
      },
      "file_extension": ".py",
      "mimetype": "text/x-python",
      "name": "python",
      "nbconvert_exporter": "python",
      "pygments_lexer": "ipython3",
      "version": "3.9.7"
    },
    "orig_nbformat": 4,
    "colab": {
      "name": "Copy of ncbi.ipynb",
      "provenance": []
    }
  },
  "nbformat": 4,
  "nbformat_minor": 0
}