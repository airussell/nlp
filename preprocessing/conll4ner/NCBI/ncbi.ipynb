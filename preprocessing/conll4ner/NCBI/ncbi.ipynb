{
  "cells": [
    {
      "cell_type": "markdown",
      "metadata": {
        "id": "ggeTZibvPgjd"
      },
      "source": [
        "<h1>Preprocessing for NER training</h1>"
      ]
    },
    {
      "cell_type": "markdown",
      "metadata": {
        "id": "NBc6UQ51Pgjg"
      },
      "source": [
        "# 1-Custom Pythonic Way"
      ]
    },
    {
      "cell_type": "markdown",
      "metadata": {
        "id": "itDQ4A-NPgjg"
      },
      "source": [
        "## Grap the file"
      ]
    },
    {
      "cell_type": "code",
      "execution_count": null,
      "metadata": {
        "id": "iNr8XPI7Pgjh"
      },
      "outputs": [],
      "source": [
        "file = \"NCBI_corpus_training.txt\""
      ]
    },
    {
      "cell_type": "code",
      "execution_count": null,
      "metadata": {
        "id": "q_gMxYgUPgji",
        "outputId": "dc3acd8e-bb92-4e58-e03d-9e504b7b2683"
      },
      "outputs": [
        {
          "name": "stdout",
          "output_type": "stream",
          "text": [
            "10021369\tIdentification of APC2, a homologue of the <category=\"Modifier\">adenomatous polyposis coli tumour</category> suppressor .\tThe <category=\"Modifier\">adenomatous polyposis coli ( APC ) tumour</category>-suppressor protein controls the Wnt signalling pathway by forming a complex with glycogen synthase kinase 3beta ( GSK-3beta ) , axin / conductin and betacatenin . Complex formation induces the rapid degradation of betacatenin . In <category=\"Modifier\">colon carcinoma</category> cells , loss of APC leads to the accumulation of betacatenin in the nucleus , where it binds to and activates the Tcf-4 transcription factor ( reviewed in [ 1 ] [ 2 ] ) . Here , we report the identification and genomic structure of APC homologues . Mammalian APC2 , which closely resembles APC in overall domain structure , was functionally analyzed and shown to contain two SAMP domains , both of which are required for binding to conductin . Like APC , APC2 regulates the formation of active betacatenin-Tcf complexes , as demonstrated using transient transcriptional activation assays in APC - / - <category=\"Modifier\">colon carcinoma</category> cells . Human APC2 maps to chromosome 19p13 . 3 . APC and APC2 may therefore have comparable functions in development and <category=\"SpecificDisease\">cancer</category> .\n",
            "\n"
          ]
        }
      ],
      "source": [
        "for line in open(file):\n",
        "    print(line)\n",
        "    break"
      ]
    },
    {
      "cell_type": "code",
      "execution_count": null,
      "metadata": {
        "id": "wGY2VHg_Pgji",
        "outputId": "38cd9fc9-f466-40c2-c65e-e855787c87be"
      },
      "outputs": [
        {
          "data": {
            "text/plain": [
              "'10021369\\tIdentification of APC2, a homologue of the <category=\"Modifier\">adenomatous polyposis coli tumour</category> suppressor .\\tThe <category=\"Modifier\">adenomatous polyposis coli ( APC ) tumour</category>-suppressor protein controls the Wnt signalling pathway by forming a complex with glycogen synthase kinase 3beta ( GSK-3beta ) , axin / conductin and betacatenin . Complex formation induces the rapid degradation of betacatenin . In <category=\"Modifier\">colon carcinoma</category> cells , loss of APC leads to the accumulation of betacatenin in the nucleus , where it binds to and activates the Tcf-4 transcription factor ( reviewed in [ 1 ] [ 2 ] ) . Here , we report the identification and genomic structure of APC homologues . Mammalian APC2 , which closely resembles APC in overall domain structure , was functionally analyzed and shown to contain two SAMP domains , both of which are required for binding to conductin . Like APC , APC2 regulates the formation of active betacatenin-Tcf complexes , as demonstrated using transient transcriptional activation assays in APC - / - <category=\"Modifier\">colon carcinoma</category> cells . Human APC2 maps to chromosome 19p13 . 3 . APC and APC2 may therefore have comparable functions in development and <category=\"SpecificDisease\">cancer</category> .\\n'"
            ]
          },
          "execution_count": 3,
          "metadata": {},
          "output_type": "execute_result"
        }
      ],
      "source": [
        "line"
      ]
    },
    {
      "cell_type": "code",
      "execution_count": null,
      "metadata": {
        "id": "8EztiJ5ePgjj",
        "outputId": "af613fd4-76f0-4979-94b2-06268a3249b1"
      },
      "outputs": [
        {
          "data": {
            "text/plain": [
              "['10021369',\n",
              " 'Identification',\n",
              " 'of',\n",
              " 'APC2,',\n",
              " 'a',\n",
              " 'homologue',\n",
              " 'of',\n",
              " 'the',\n",
              " '<category=\"Modifier\">adenomatous',\n",
              " 'polyposis',\n",
              " 'coli',\n",
              " 'tumour</category>',\n",
              " 'suppressor',\n",
              " '.',\n",
              " 'The',\n",
              " '<category=\"Modifier\">adenomatous',\n",
              " 'polyposis',\n",
              " 'coli',\n",
              " '(',\n",
              " 'APC',\n",
              " ')',\n",
              " 'tumour</category>-suppressor',\n",
              " 'protein',\n",
              " 'controls',\n",
              " 'the',\n",
              " 'Wnt',\n",
              " 'signalling',\n",
              " 'pathway',\n",
              " 'by',\n",
              " 'forming',\n",
              " 'a',\n",
              " 'complex',\n",
              " 'with',\n",
              " 'glycogen',\n",
              " 'synthase',\n",
              " 'kinase',\n",
              " '3beta',\n",
              " '(',\n",
              " 'GSK-3beta',\n",
              " ')',\n",
              " ',',\n",
              " 'axin',\n",
              " '/',\n",
              " 'conductin',\n",
              " 'and',\n",
              " 'betacatenin',\n",
              " '.',\n",
              " 'Complex',\n",
              " 'formation',\n",
              " 'induces',\n",
              " 'the',\n",
              " 'rapid',\n",
              " 'degradation',\n",
              " 'of',\n",
              " 'betacatenin',\n",
              " '.',\n",
              " 'In',\n",
              " '<category=\"Modifier\">colon',\n",
              " 'carcinoma</category>',\n",
              " 'cells',\n",
              " ',',\n",
              " 'loss',\n",
              " 'of',\n",
              " 'APC',\n",
              " 'leads',\n",
              " 'to',\n",
              " 'the',\n",
              " 'accumulation',\n",
              " 'of',\n",
              " 'betacatenin',\n",
              " 'in',\n",
              " 'the',\n",
              " 'nucleus',\n",
              " ',',\n",
              " 'where',\n",
              " 'it',\n",
              " 'binds',\n",
              " 'to',\n",
              " 'and',\n",
              " 'activates',\n",
              " 'the',\n",
              " 'Tcf-4',\n",
              " 'transcription',\n",
              " 'factor',\n",
              " '(',\n",
              " 'reviewed',\n",
              " 'in',\n",
              " '[',\n",
              " '1',\n",
              " ']',\n",
              " '[',\n",
              " '2',\n",
              " ']',\n",
              " ')',\n",
              " '.',\n",
              " 'Here',\n",
              " ',',\n",
              " 'we',\n",
              " 'report',\n",
              " 'the',\n",
              " 'identification',\n",
              " 'and',\n",
              " 'genomic',\n",
              " 'structure',\n",
              " 'of',\n",
              " 'APC',\n",
              " 'homologues',\n",
              " '.',\n",
              " 'Mammalian',\n",
              " 'APC2',\n",
              " ',',\n",
              " 'which',\n",
              " 'closely',\n",
              " 'resembles',\n",
              " 'APC',\n",
              " 'in',\n",
              " 'overall',\n",
              " 'domain',\n",
              " 'structure',\n",
              " ',',\n",
              " 'was',\n",
              " 'functionally',\n",
              " 'analyzed',\n",
              " 'and',\n",
              " 'shown',\n",
              " 'to',\n",
              " 'contain',\n",
              " 'two',\n",
              " 'SAMP',\n",
              " 'domains',\n",
              " ',',\n",
              " 'both',\n",
              " 'of',\n",
              " 'which',\n",
              " 'are',\n",
              " 'required',\n",
              " 'for',\n",
              " 'binding',\n",
              " 'to',\n",
              " 'conductin',\n",
              " '.',\n",
              " 'Like',\n",
              " 'APC',\n",
              " ',',\n",
              " 'APC2',\n",
              " 'regulates',\n",
              " 'the',\n",
              " 'formation',\n",
              " 'of',\n",
              " 'active',\n",
              " 'betacatenin-Tcf',\n",
              " 'complexes',\n",
              " ',',\n",
              " 'as',\n",
              " 'demonstrated',\n",
              " 'using',\n",
              " 'transient',\n",
              " 'transcriptional',\n",
              " 'activation',\n",
              " 'assays',\n",
              " 'in',\n",
              " 'APC',\n",
              " '-',\n",
              " '/',\n",
              " '-',\n",
              " '<category=\"Modifier\">colon',\n",
              " 'carcinoma</category>',\n",
              " 'cells',\n",
              " '.',\n",
              " 'Human',\n",
              " 'APC2',\n",
              " 'maps',\n",
              " 'to',\n",
              " 'chromosome',\n",
              " '19p13',\n",
              " '.',\n",
              " '3',\n",
              " '.',\n",
              " 'APC',\n",
              " 'and',\n",
              " 'APC2',\n",
              " 'may',\n",
              " 'therefore',\n",
              " 'have',\n",
              " 'comparable',\n",
              " 'functions',\n",
              " 'in',\n",
              " 'development',\n",
              " 'and',\n",
              " '<category=\"SpecificDisease\">cancer</category>',\n",
              " '.']"
            ]
          },
          "execution_count": 4,
          "metadata": {},
          "output_type": "execute_result"
        }
      ],
      "source": [
        "line.split()"
      ]
    },
    {
      "cell_type": "markdown",
      "metadata": {
        "id": "2CNG8fO8Pgjj"
      },
      "source": [
        "## Modify the text"
      ]
    },
    {
      "cell_type": "code",
      "execution_count": 3,
      "metadata": {
        "id": "I694DoxxPgjk"
      },
      "outputs": [],
      "source": [
        "import re"
      ]
    },
    {
      "cell_type": "code",
      "execution_count": null,
      "metadata": {
        "id": "LR4e8M5oPgjk"
      },
      "outputs": [],
      "source": [
        "old_tag = '<category=\"Modifier\">'\n",
        "new_tag = \" <START_NER_Modifier> \""
      ]
    },
    {
      "cell_type": "code",
      "execution_count": null,
      "metadata": {
        "id": "4w_FUot0Pgjl",
        "outputId": "d3bcf251-fbc9-40c3-cb16-ac07835bb583"
      },
      "outputs": [
        {
          "data": {
            "text/plain": [
              "'10021369\\tIdentification of APC2, a homologue of the  <START_NER_Modifier> adenomatous polyposis coli tumour</category> suppressor .\\tThe  <START_NER_Modifier> adenomatous polyposis coli ( APC ) tumour</category>-suppressor protein controls the Wnt signalling pathway by forming a complex with glycogen synthase kinase 3beta ( GSK-3beta ) , axin / conductin and betacatenin . Complex formation induces the rapid degradation of betacatenin . In  <START_NER_Modifier> colon carcinoma</category> cells , loss of APC leads to the accumulation of betacatenin in the nucleus , where it binds to and activates the Tcf-4 transcription factor ( reviewed in [ 1 ] [ 2 ] ) . Here , we report the identification and genomic structure of APC homologues . Mammalian APC2 , which closely resembles APC in overall domain structure , was functionally analyzed and shown to contain two SAMP domains , both of which are required for binding to conductin . Like APC , APC2 regulates the formation of active betacatenin-Tcf complexes , as demonstrated using transient transcriptional activation assays in APC - / -  <START_NER_Modifier> colon carcinoma</category> cells . Human APC2 maps to chromosome 19p13 . 3 . APC and APC2 may therefore have comparable functions in development and <category=\"SpecificDisease\">cancer</category> .\\n'"
            ]
          },
          "execution_count": 7,
          "metadata": {},
          "output_type": "execute_result"
        }
      ],
      "source": [
        "text = re.sub(old_tag, new_tag, line)\n",
        "text"
      ]
    },
    {
      "cell_type": "code",
      "execution_count": 4,
      "metadata": {
        "id": "z0Aal7czPgjl"
      },
      "outputs": [],
      "source": [
        "dict_map = {\n",
        "    '<category=\"Modifier\">':' <START_NER_Modifier> ',\n",
        "    '<category=\"SpecificDisease\">':' <START_NER_SpecificDisease> ',\n",
        "    '<category=\"DiseaseClass\">':' <START_NER_DiseaseClass> ',\n",
        "    '<category=\"CompositeMention\">':' <START_NER_CompositeMention> ',\n",
        "    '</category>':' <END_NER> ',\n",
        "}"
      ]
    },
    {
      "cell_type": "code",
      "execution_count": null,
      "metadata": {
        "id": "QZsZmSWaPgjl"
      },
      "outputs": [],
      "source": [
        "text = line"
      ]
    },
    {
      "cell_type": "code",
      "execution_count": null,
      "metadata": {
        "id": "ZACubqe1Pgjl"
      },
      "outputs": [],
      "source": [
        "for k, v in dict_map.items():\n",
        "    text = re.sub(k,v, text)"
      ]
    },
    {
      "cell_type": "code",
      "execution_count": null,
      "metadata": {
        "id": "557OsY3JPgjm",
        "outputId": "24fb3171-e16c-4dad-d1e6-388d4e89a695"
      },
      "outputs": [
        {
          "name": "stdout",
          "output_type": "stream",
          "text": [
            "10021369\tIdentification of APC2, a homologue of the  <START_NER_Modifier> adenomatous polyposis coli tumour <END_NER>  suppressor .\tThe  <START_NER_Modifier> adenomatous polyposis coli ( APC ) tumour <END_NER> -suppressor protein controls the Wnt signalling pathway by forming a complex with glycogen synthase kinase 3beta ( GSK-3beta ) , axin / conductin and betacatenin . Complex formation induces the rapid degradation of betacatenin . In  <START_NER_Modifier> colon carcinoma <END_NER>  cells , loss of APC leads to the accumulation of betacatenin in the nucleus , where it binds to and activates the Tcf-4 transcription factor ( reviewed in [ 1 ] [ 2 ] ) . Here , we report the identification and genomic structure of APC homologues . Mammalian APC2 , which closely resembles APC in overall domain structure , was functionally analyzed and shown to contain two SAMP domains , both of which are required for binding to conductin . Like APC , APC2 regulates the formation of active betacatenin-Tcf complexes , as demonstrated using transient transcriptional activation assays in APC - / -  <START_NER_Modifier> colon carcinoma <END_NER>  cells . Human APC2 maps to chromosome 19p13 . 3 . APC and APC2 may therefore have comparable functions in development and  <START_NER_SpecificDisease> cancer <END_NER>  .\n",
            "\n"
          ]
        }
      ],
      "source": [
        "print(text)"
      ]
    },
    {
      "cell_type": "code",
      "execution_count": 5,
      "metadata": {
        "id": "dv8T8gXbPgjm"
      },
      "outputs": [],
      "source": [
        "def modify_label(text, dict_map):\n",
        "    for k, v in dict_map.items():\n",
        "        text = re.sub(k,v, text)\n",
        "    return text"
      ]
    },
    {
      "cell_type": "code",
      "execution_count": null,
      "metadata": {
        "id": "RbHi4g2rPgjm"
      },
      "outputs": [],
      "source": [
        "for line in open(file):\n",
        "    text = modify_label(line, dict_map)\n",
        "    break"
      ]
    },
    {
      "cell_type": "code",
      "execution_count": null,
      "metadata": {
        "id": "ps9rMh6cPgjm",
        "outputId": "1b194fda-bf6b-43c3-c64f-d7639dbe833f"
      },
      "outputs": [
        {
          "data": {
            "text/plain": [
              "'10021369\\tIdentification of APC2, a homologue of the  <START_NER_Modifier> adenomatous polyposis coli tumour <END_NER>  suppressor .\\tThe  <START_NER_Modifier> adenomatous polyposis coli ( APC ) tumour <END_NER> -suppressor protein controls the Wnt signalling pathway by forming a complex with glycogen synthase kinase 3beta ( GSK-3beta ) , axin / conductin and betacatenin . Complex formation induces the rapid degradation of betacatenin . In  <START_NER_Modifier> colon carcinoma <END_NER>  cells , loss of APC leads to the accumulation of betacatenin in the nucleus , where it binds to and activates the Tcf-4 transcription factor ( reviewed in [ 1 ] [ 2 ] ) . Here , we report the identification and genomic structure of APC homologues . Mammalian APC2 , which closely resembles APC in overall domain structure , was functionally analyzed and shown to contain two SAMP domains , both of which are required for binding to conductin . Like APC , APC2 regulates the formation of active betacatenin-Tcf complexes , as demonstrated using transient transcriptional activation assays in APC - / -  <START_NER_Modifier> colon carcinoma <END_NER>  cells . Human APC2 maps to chromosome 19p13 . 3 . APC and APC2 may therefore have comparable functions in development and  <START_NER_SpecificDisease> cancer <END_NER>  .\\n'"
            ]
          },
          "execution_count": 14,
          "metadata": {},
          "output_type": "execute_result"
        }
      ],
      "source": [
        "text"
      ]
    },
    {
      "cell_type": "markdown",
      "metadata": {
        "id": "xI-CkuFQPgjn"
      },
      "source": [
        "## Sentence and Word Tokenizing"
      ]
    },
    {
      "cell_type": "code",
      "execution_count": null,
      "metadata": {
        "id": "5ApcmaDzPgjn"
      },
      "outputs": [],
      "source": [
        "from nltk.tokenize import sent_tokenize\n",
        "from nltk.tokenize import word_tokenize"
      ]
    },
    {
      "cell_type": "code",
      "execution_count": null,
      "metadata": {
        "id": "TSjVSiXSPgjn",
        "outputId": "ed7dde80-b2ef-4cf9-9220-b71938c85ebc"
      },
      "outputs": [
        {
          "data": {
            "text/plain": [
              "['10021369\\tIdentification of APC2, a homologue of the  <START_NER_Modifier> adenomatous polyposis coli tumour <END_NER>  suppressor .',\n",
              " 'The  <START_NER_Modifier> adenomatous polyposis coli ( APC ) tumour <END_NER> -suppressor protein controls the Wnt signalling pathway by forming a complex with glycogen synthase kinase 3beta ( GSK-3beta ) , axin / conductin and betacatenin .',\n",
              " 'Complex formation induces the rapid degradation of betacatenin .',\n",
              " 'In  <START_NER_Modifier> colon carcinoma <END_NER>  cells , loss of APC leads to the accumulation of betacatenin in the nucleus , where it binds to and activates the Tcf-4 transcription factor ( reviewed in [ 1 ] [ 2 ] ) .',\n",
              " 'Here , we report the identification and genomic structure of APC homologues .',\n",
              " 'Mammalian APC2 , which closely resembles APC in overall domain structure , was functionally analyzed and shown to contain two SAMP domains , both of which are required for binding to conductin .',\n",
              " 'Like APC , APC2 regulates the formation of active betacatenin-Tcf complexes , as demonstrated using transient transcriptional activation assays in APC - / -  <START_NER_Modifier> colon carcinoma <END_NER>  cells .',\n",
              " 'Human APC2 maps to chromosome 19p13 .',\n",
              " '3 .',\n",
              " 'APC and APC2 may therefore have comparable functions in development and  <START_NER_SpecificDisease> cancer <END_NER>  .']"
            ]
          },
          "execution_count": 16,
          "metadata": {},
          "output_type": "execute_result"
        }
      ],
      "source": [
        "sent_tokenize(text)"
      ]
    },
    {
      "cell_type": "code",
      "execution_count": null,
      "metadata": {
        "id": "sAtFE4DgPgjn"
      },
      "outputs": [],
      "source": [
        "sentences = sent_tokenize(text)"
      ]
    },
    {
      "cell_type": "code",
      "execution_count": null,
      "metadata": {
        "id": "aKWHZfqnPgjn",
        "outputId": "c83da3e6-9f0b-42f0-8c09-6af78c20379f"
      },
      "outputs": [
        {
          "name": "stdout",
          "output_type": "stream",
          "text": [
            "['10021369', 'Identification', 'of', 'APC2', ',', 'a', 'homologue', 'of', 'the', 'START_NER_Modifier', 'adenomatous', 'polyposis', 'coli', 'tumour', 'END_NER', 'suppressor', '.']\n",
            "['The', 'START_NER_Modifier', 'adenomatous', 'polyposis', 'coli', '(', 'APC', ')', 'tumour', 'END_NER', '-suppressor', 'protein', 'controls', 'the', 'Wnt', 'signalling', 'pathway', 'by', 'forming', 'a', 'complex', 'with', 'glycogen', 'synthase', 'kinase', '3beta', '(', 'GSK-3beta', ')', ',', 'axin', '/', 'conductin', 'and', 'betacatenin', '.']\n",
            "['Complex', 'formation', 'induces', 'the', 'rapid', 'degradation', 'of', 'betacatenin', '.']\n",
            "['In', 'START_NER_Modifier', 'colon', 'carcinoma', 'END_NER', 'cells', ',', 'loss', 'of', 'APC', 'leads', 'to', 'the', 'accumulation', 'of', 'betacatenin', 'in', 'the', 'nucleus', ',', 'where', 'it', 'binds', 'to', 'and', 'activates', 'the', 'Tcf-4', 'transcription', 'factor', '(', 'reviewed', 'in', '[', '1', ']', '[', '2', ']', ')', '.']\n",
            "['Here', ',', 'we', 'report', 'the', 'identification', 'and', 'genomic', 'structure', 'of', 'APC', 'homologues', '.']\n",
            "['Mammalian', 'APC2', ',', 'which', 'closely', 'resembles', 'APC', 'in', 'overall', 'domain', 'structure', ',', 'was', 'functionally', 'analyzed', 'and', 'shown', 'to', 'contain', 'two', 'SAMP', 'domains', ',', 'both', 'of', 'which', 'are', 'required', 'for', 'binding', 'to', 'conductin', '.']\n",
            "['Like', 'APC', ',', 'APC2', 'regulates', 'the', 'formation', 'of', 'active', 'betacatenin-Tcf', 'complexes', ',', 'as', 'demonstrated', 'using', 'transient', 'transcriptional', 'activation', 'assays', 'in', 'APC', '-', '/', '-', 'START_NER_Modifier', 'colon', 'carcinoma', 'END_NER', 'cells', '.']\n",
            "['Human', 'APC2', 'maps', 'to', 'chromosome', '19p13', '.']\n",
            "['3', '.']\n",
            "['APC', 'and', 'APC2', 'may', 'therefore', 'have', 'comparable', 'functions', 'in', 'development', 'and', 'START_NER_SpecificDisease', 'cancer', 'END_NER', '.']\n"
          ]
        }
      ],
      "source": [
        "for s in sentences:\n",
        "    print([t for t in word_tokenize(s) if t not in ['<','>']])"
      ]
    },
    {
      "cell_type": "code",
      "execution_count": null,
      "metadata": {
        "id": "rV2sdw_KPgjo"
      },
      "outputs": [],
      "source": [
        "for s in sentences:\n",
        "    tokens = [t for t in word_tokenize(s) if t not in ['<','>']]\n",
        "    break"
      ]
    },
    {
      "cell_type": "markdown",
      "metadata": {
        "id": "RACNfdSoPgjo"
      },
      "source": [
        "## Text to ConLL "
      ]
    },
    {
      "cell_type": "code",
      "execution_count": null,
      "metadata": {
        "id": "cQPCg8btPgjo",
        "outputId": "0e8996d0-489c-41a7-e26c-d819cb2c7316"
      },
      "outputs": [
        {
          "data": {
            "text/plain": [
              "['10021369',\n",
              " 'Identification',\n",
              " 'of',\n",
              " 'APC2',\n",
              " ',',\n",
              " 'a',\n",
              " 'homologue',\n",
              " 'of',\n",
              " 'the',\n",
              " 'START_NER_Modifier',\n",
              " 'adenomatous',\n",
              " 'polyposis',\n",
              " 'coli',\n",
              " 'tumour',\n",
              " 'END_NER',\n",
              " 'suppressor',\n",
              " '.']"
            ]
          },
          "execution_count": 20,
          "metadata": {},
          "output_type": "execute_result"
        }
      ],
      "source": [
        "tokens"
      ]
    },
    {
      "cell_type": "code",
      "execution_count": null,
      "metadata": {
        "id": "gJT3iMtiPgjo",
        "outputId": "62689399-d30e-47ab-b661-7206243391b8"
      },
      "outputs": [
        {
          "data": {
            "text/plain": [
              "'Modifier'"
            ]
          },
          "execution_count": 21,
          "metadata": {},
          "output_type": "execute_result"
        }
      ],
      "source": [
        "'START_NER_Modifier'.split('_')[-1]"
      ]
    },
    {
      "cell_type": "markdown",
      "metadata": {
        "id": "6p2fmBloPgjp"
      },
      "source": [
        "## conll logic"
      ]
    },
    {
      "cell_type": "code",
      "execution_count": null,
      "metadata": {
        "id": "NtskP-N6Pgjp",
        "outputId": "66c232f5-c6bf-4ea2-cf95-f56f0f9c197a"
      },
      "outputs": [
        {
          "name": "stdout",
          "output_type": "stream",
          "text": [
            "10021369 NN NN O\n",
            "Identification NN NN O\n",
            "of NN NN O\n",
            "APC2 NN NN O\n",
            ", NN NN O\n",
            "a NN NN O\n",
            "homologue NN NN O\n",
            "of NN NN O\n",
            "the NN NN O\n",
            "adenomatous NN NN B-Modifier\n",
            "polyposis NN NN I-Modifier\n",
            "coli NN NN I-Modifier\n",
            "tumour NN NN I-Modifier\n",
            "suppressor NN NN O\n",
            ". NN NN O\n"
          ]
        }
      ],
      "source": [
        "label = 'O'\n",
        "cl = []\n",
        "for t in tokens:\n",
        "    if t.startswith('START_NER_'):\n",
        "        label = t.split('_')[-1]\n",
        "        continue\n",
        "    \n",
        "    if label != 'O' and t != 'END_NER':\n",
        "        cl.append(t)\n",
        "        continue\n",
        "        \n",
        "        \n",
        "    if t == 'END_NER':\n",
        "        for idx, ct in enumerate(cl):\n",
        "            x = 'B' if idx == 0 else 'I'\n",
        "            print(f\"{ct} NN NN {x}-{label}\")\n",
        "        \n",
        "        label = 'O'\n",
        "        continue\n",
        "        \n",
        "    print(f\"{t} NN NN {label}\")"
      ]
    },
    {
      "cell_type": "code",
      "execution_count": null,
      "metadata": {
        "id": "IPy15kokPgjp",
        "outputId": "b71c7a42-0eb6-4a3d-f064-1e03f97aff7a"
      },
      "outputs": [
        {
          "data": {
            "text/plain": [
              "['adenomatous', 'polyposis', 'coli', 'tumour']"
            ]
          },
          "execution_count": 23,
          "metadata": {},
          "output_type": "execute_result"
        }
      ],
      "source": [
        "cl"
      ]
    },
    {
      "cell_type": "markdown",
      "metadata": {
        "id": "8vlJY-eumpgN"
      },
      "source": [
        "### Turn this logic into function"
      ]
    },
    {
      "cell_type": "code",
      "execution_count": 32,
      "metadata": {
        "id": "zUbWak1UPgjp"
      },
      "outputs": [],
      "source": [
        "def conll(tokens:list)->str:\n",
        "    label = 'O'\n",
        "    cl = []\n",
        "    conll = \"\"\n",
        "    for t in tokens:\n",
        "        if t.startswith(\"START_NER\"):\n",
        "            label = t.split(\"_\")[-1]\n",
        "            continue\n",
        "        \n",
        "        if label != 'O' and t != 'END_NER':\n",
        "            cl.append(t)\n",
        "            continue\n",
        "        \n",
        "        if t == 'END_NER':\n",
        "            for idx, ct in enumerate(cl):\n",
        "                x = 'B' if idx == 0 else 'I'\n",
        "                conll += f\"{ct} NN NN {x}-{label}\\n\"\n",
        "            label = 'O'\n",
        "            cl.clear()\n",
        "            continue  \n",
        "        \n",
        "        conll += f\"{t} NN NN {label}\\n\"\n",
        "    return conll"
      ]
    },
    {
      "cell_type": "code",
      "execution_count": null,
      "metadata": {
        "id": "vcKsckF4Pgjp",
        "outputId": "f643ba33-377c-437f-bbe9-c5df531310a8"
      },
      "outputs": [
        {
          "name": "stdout",
          "output_type": "stream",
          "text": [
            "10021369 NN NN O\n",
            "Identification NN NN O\n",
            "of NN NN O\n",
            "APC2 NN NN O\n",
            ", NN NN O\n",
            "a NN NN O\n",
            "homologue NN NN O\n",
            "of NN NN O\n",
            "the NN NN O\n",
            "adenomatous NN NN B-Modifier\n",
            "polyposis NN NN I-Modifier\n",
            "coli NN NN I-Modifier\n",
            "tumour NN NN I-Modifier\n",
            "suppressor NN NN O\n",
            ". NN NN O\n",
            "\n"
          ]
        }
      ],
      "source": [
        "print(conll(tokens))"
      ]
    },
    {
      "cell_type": "code",
      "execution_count": null,
      "metadata": {
        "id": "-O27okILPgjq"
      },
      "outputs": [],
      "source": [
        "conll_text = \"\"\n",
        "for line in open(file):\n",
        "    text = modify_label(line, dict_map)\n",
        "    sentences = sent_tokenize(text)\n",
        "    for s in sentences:\n",
        "        tokens = [t for t in word_tokenize(s) if t not in ['<','>']]\n",
        "        conll_text += conll(tokens) + '\\n'\n",
        "    break"
      ]
    },
    {
      "cell_type": "markdown",
      "metadata": {
        "id": "7LgHqVncPgjq"
      },
      "source": [
        "# Wrap up all above"
      ]
    },
    {
      "cell_type": "code",
      "execution_count": null,
      "metadata": {
        "id": "foxfhdhaPgjq"
      },
      "outputs": [],
      "source": [
        "def text_conll(file:str)->str:    \n",
        "    conll_text = \"\"\n",
        "    for line in open(file):\n",
        "        text = modify_label(line, dict_map)\n",
        "        sentences = sent_tokenize(text)\n",
        "        for s in sentences:\n",
        "            tokens = [t for t in word_tokenize(s) if t not in ['<','>']]\n",
        "            conll_text += conll(tokens) + '\\n'\n",
        "    return conll_text"
      ]
    },
    {
      "cell_type": "code",
      "execution_count": null,
      "metadata": {
        "id": "WBsUqYDHPgjq"
      },
      "outputs": [],
      "source": [
        "conll_txt = text_conll(file)"
      ]
    },
    {
      "cell_type": "code",
      "execution_count": null,
      "metadata": {
        "id": "EmgmQ_M4Pgjq",
        "outputId": "8afe5ff0-c10d-422e-be22-f3a49c25e66b"
      },
      "outputs": [
        {
          "name": "stdout",
          "output_type": "stream",
          "text": [
            "10021369 NN NN O\n",
            "Identification NN NN O\n",
            "of NN NN O\n",
            "APC2 NN NN O\n",
            ", NN NN O\n",
            "a NN NN O\n",
            "homologue NN NN O\n",
            "of NN NN O\n",
            "the NN NN O\n",
            "adenomatous NN NN B-Modifier\n",
            "polyposis NN NN I-Modifier\n",
            "coli NN NN I-Modifier\n",
            "tumour NN NN I-Modifier\n",
            "suppressor NN NN O\n",
            ". NN NN O\n",
            "\n",
            "The NN NN O\n",
            "adenomatous NN NN B-Modifier\n",
            "polyposis NN NN I-Modifier\n",
            "coli NN NN I-Modifier\n",
            "( NN NN I-Modifier\n",
            "APC NN NN I-Modifier\n",
            ") NN NN I-Modifier\n",
            "tumour NN NN I-Modifier\n",
            "-suppressor NN NN O\n",
            "protein NN NN O\n",
            "controls NN NN O\n",
            "the NN NN O\n",
            "Wnt NN NN O\n",
            "signalling NN NN O\n",
            "pathway NN NN O\n",
            "by NN NN O\n",
            "forming NN NN O\n",
            "a NN NN O\n",
            "complex NN NN O\n",
            "with NN NN O\n",
            "glycogen NN NN O\n",
            "synthase NN NN O\n",
            "kinase NN NN O\n",
            "3beta NN NN O\n",
            "( NN NN O\n",
            "GSK-3beta NN NN O\n",
            ") NN NN O\n",
            ", NN NN O\n",
            "axin NN NN O\n",
            "/ NN NN O\n",
            "conductin NN NN O\n",
            "and NN NN O\n",
            "betacatenin NN NN O\n",
            ". NN NN O\n",
            "\n",
            "Complex NN NN O\n",
            "formation NN NN O\n",
            "induces NN NN O\n",
            "the NN NN O\n",
            "rapid NN NN O\n",
            "degradation NN NN O\n",
            "of NN NN O\n",
            "betacatenin NN NN O\n",
            ". NN NN O\n",
            "\n",
            "In NN NN O\n",
            "colon NN NN B-Modifier\n",
            "carcinoma NN NN I-Modifier\n",
            "cells NN NN O\n",
            ", NN NN O\n",
            "loss NN NN O\n",
            "of NN NN O\n",
            "APC NN NN O\n",
            "leads NN NN O\n",
            "to NN NN O\n",
            "the NN NN O\n",
            "accumulation NN NN O\n",
            "of NN NN O\n",
            "betacatenin NN NN O\n",
            "in NN NN O\n",
            "the NN NN O\n",
            "nucleus NN NN O\n",
            ", NN NN O\n",
            "where NN NN O\n",
            "it NN NN O\n",
            "binds NN NN O\n",
            "to NN NN O\n",
            "\n"
          ]
        }
      ],
      "source": [
        "print(conll_txt[:1250])"
      ]
    },
    {
      "cell_type": "code",
      "execution_count": null,
      "metadata": {
        "id": "Bh2OZ4pIPgjr"
      },
      "outputs": [],
      "source": [
        "header = \"-DOCSTART- -X- -X- O\\n\\n\"\n",
        "with open(\"NCBI_train.conll\",\"+w\", encoding=\"utf8\") as f:\n",
        "    f.write(header)\n",
        "    f.write(conll_txt)\n",
        "    "
      ]
    },
    {
      "cell_type": "code",
      "execution_count": null,
      "metadata": {
        "id": "Le2pHDWyPgjr"
      },
      "outputs": [],
      "source": [
        "with open(\"NCBI_dev.conll\",\"+w\", encoding=\"utf8\") as f:\n",
        "    f.write(header)\n",
        "    f.write(text_conll(\"NCBI_corpus_development.txt\"))"
      ]
    },
    {
      "cell_type": "code",
      "execution_count": null,
      "metadata": {
        "id": "hQaNTWeDPgjr"
      },
      "outputs": [],
      "source": [
        "with open(\"NCBI_test.conll\",\"+w\", encoding=\"utf8\") as f:\n",
        "    f.write(header)\n",
        "    f.write(text_conll(\"NCBI_corpus_testing.txt\"))"
      ]
    },
    {
      "cell_type": "markdown",
      "metadata": {
        "id": "vSSvx-DQPgjr"
      },
      "source": [
        "# 2-Way Using Pandas and Pyspark"
      ]
    },
    {
      "cell_type": "markdown",
      "metadata": {
        "id": "Hpb-3mLpmpgP"
      },
      "source": [
        "## Imports"
      ]
    },
    {
      "cell_type": "code",
      "execution_count": 1,
      "metadata": {
        "id": "bUbSC9jdPgjr"
      },
      "outputs": [],
      "source": [
        "%%capture\n",
        "!wget http://setup.johnsnowlabs.com/colab.sh -O - | bash"
      ]
    },
    {
      "cell_type": "code",
      "execution_count": 2,
      "metadata": {
        "id": "a1BCuoA-P9Vk"
      },
      "outputs": [],
      "source": [
        "from pyspark.ml import Pipeline\n",
        "from pyspark.sql import SparkSession\n",
        "from sparknlp.base import *\n",
        "from sparknlp.annotator import *\n",
        "from sparknlp.common import *\n",
        "from sparknlp.training import CoNLL\n",
        "import pyspark.sql.functions as F\n",
        "import pandas as pd\n",
        "from collections import Counter\n",
        "import re\n",
        "import sparknlp\n",
        "spark = sparknlp.start()"
      ]
    },
    {
      "cell_type": "markdown",
      "source": [
        "## Train Data"
      ],
      "metadata": {
        "id": "akqyfaY7X7bo"
      }
    },
    {
      "cell_type": "markdown",
      "metadata": {
        "id": "3mO5W1mimpgP"
      },
      "source": [
        "## Reading file by pandas"
      ]
    },
    {
      "cell_type": "code",
      "execution_count": 62,
      "metadata": {
        "colab": {
          "base_uri": "https://localhost:8080/"
        },
        "id": "8YRjkAOwQLuR",
        "outputId": "1f5b9184-ba39-4d68-9779-4313693a2881"
      },
      "outputs": [
        {
          "output_type": "stream",
          "name": "stderr",
          "text": [
            "/usr/local/lib/python3.7/dist-packages/pandas/io/parsers/readers.py:586: ParserWarning: Length of header or names does not match length of data. This leads to a loss of data with index_col=False.\n",
            "  return _read(filepath_or_buffer, kwds)\n"
          ]
        }
      ],
      "source": [
        "df = pd.read_csv(\"/content/NCBI_corpus_training.txt\",\n",
        "                 sep=\"\\t\", \n",
        "                 names=[\"text_id\",\"text\"], \n",
        "                 index_col=False, \n",
        "                 engine=\"python\")"
      ]
    },
    {
      "cell_type": "code",
      "execution_count": 63,
      "metadata": {
        "colab": {
          "base_uri": "https://localhost:8080/",
          "height": 206
        },
        "id": "QRZuHBqLQLid",
        "outputId": "b599412f-e9b9-425e-e5ac-ad2975935513"
      },
      "outputs": [
        {
          "output_type": "execute_result",
          "data": {
            "text/html": [
              "\n",
              "  <div id=\"df-bea06876-4715-4b2b-bfca-72b9cf84c089\">\n",
              "    <div class=\"colab-df-container\">\n",
              "      <div>\n",
              "<style scoped>\n",
              "    .dataframe tbody tr th:only-of-type {\n",
              "        vertical-align: middle;\n",
              "    }\n",
              "\n",
              "    .dataframe tbody tr th {\n",
              "        vertical-align: top;\n",
              "    }\n",
              "\n",
              "    .dataframe thead th {\n",
              "        text-align: right;\n",
              "    }\n",
              "</style>\n",
              "<table border=\"1\" class=\"dataframe\">\n",
              "  <thead>\n",
              "    <tr style=\"text-align: right;\">\n",
              "      <th></th>\n",
              "      <th>text_id</th>\n",
              "      <th>text</th>\n",
              "    </tr>\n",
              "  </thead>\n",
              "  <tbody>\n",
              "    <tr>\n",
              "      <th>0</th>\n",
              "      <td>10021369</td>\n",
              "      <td>Identification of APC2, a homologue of the &lt;ca...</td>\n",
              "    </tr>\n",
              "    <tr>\n",
              "      <th>1</th>\n",
              "      <td>10051005</td>\n",
              "      <td>A common MSH2 mutation in English and North Am...</td>\n",
              "    </tr>\n",
              "    <tr>\n",
              "      <th>2</th>\n",
              "      <td>10051007</td>\n",
              "      <td>Age of onset in &lt;category=\"SpecificDisease\"&gt;Hu...</td>\n",
              "    </tr>\n",
              "    <tr>\n",
              "      <th>3</th>\n",
              "      <td>100562</td>\n",
              "      <td>&lt;category=\"SpecificDisease\"&gt;Familial deficienc...</td>\n",
              "    </tr>\n",
              "    <tr>\n",
              "      <th>4</th>\n",
              "      <td>10064668</td>\n",
              "      <td>Increased incidence of &lt;category=\"DiseaseClass...</td>\n",
              "    </tr>\n",
              "  </tbody>\n",
              "</table>\n",
              "</div>\n",
              "      <button class=\"colab-df-convert\" onclick=\"convertToInteractive('df-bea06876-4715-4b2b-bfca-72b9cf84c089')\"\n",
              "              title=\"Convert this dataframe to an interactive table.\"\n",
              "              style=\"display:none;\">\n",
              "        \n",
              "  <svg xmlns=\"http://www.w3.org/2000/svg\" height=\"24px\"viewBox=\"0 0 24 24\"\n",
              "       width=\"24px\">\n",
              "    <path d=\"M0 0h24v24H0V0z\" fill=\"none\"/>\n",
              "    <path d=\"M18.56 5.44l.94 2.06.94-2.06 2.06-.94-2.06-.94-.94-2.06-.94 2.06-2.06.94zm-11 1L8.5 8.5l.94-2.06 2.06-.94-2.06-.94L8.5 2.5l-.94 2.06-2.06.94zm10 10l.94 2.06.94-2.06 2.06-.94-2.06-.94-.94-2.06-.94 2.06-2.06.94z\"/><path d=\"M17.41 7.96l-1.37-1.37c-.4-.4-.92-.59-1.43-.59-.52 0-1.04.2-1.43.59L10.3 9.45l-7.72 7.72c-.78.78-.78 2.05 0 2.83L4 21.41c.39.39.9.59 1.41.59.51 0 1.02-.2 1.41-.59l7.78-7.78 2.81-2.81c.8-.78.8-2.07 0-2.86zM5.41 20L4 18.59l7.72-7.72 1.47 1.35L5.41 20z\"/>\n",
              "  </svg>\n",
              "      </button>\n",
              "      \n",
              "  <style>\n",
              "    .colab-df-container {\n",
              "      display:flex;\n",
              "      flex-wrap:wrap;\n",
              "      gap: 12px;\n",
              "    }\n",
              "\n",
              "    .colab-df-convert {\n",
              "      background-color: #E8F0FE;\n",
              "      border: none;\n",
              "      border-radius: 50%;\n",
              "      cursor: pointer;\n",
              "      display: none;\n",
              "      fill: #1967D2;\n",
              "      height: 32px;\n",
              "      padding: 0 0 0 0;\n",
              "      width: 32px;\n",
              "    }\n",
              "\n",
              "    .colab-df-convert:hover {\n",
              "      background-color: #E2EBFA;\n",
              "      box-shadow: 0px 1px 2px rgba(60, 64, 67, 0.3), 0px 1px 3px 1px rgba(60, 64, 67, 0.15);\n",
              "      fill: #174EA6;\n",
              "    }\n",
              "\n",
              "    [theme=dark] .colab-df-convert {\n",
              "      background-color: #3B4455;\n",
              "      fill: #D2E3FC;\n",
              "    }\n",
              "\n",
              "    [theme=dark] .colab-df-convert:hover {\n",
              "      background-color: #434B5C;\n",
              "      box-shadow: 0px 1px 3px 1px rgba(0, 0, 0, 0.15);\n",
              "      filter: drop-shadow(0px 1px 2px rgba(0, 0, 0, 0.3));\n",
              "      fill: #FFFFFF;\n",
              "    }\n",
              "  </style>\n",
              "\n",
              "      <script>\n",
              "        const buttonEl =\n",
              "          document.querySelector('#df-bea06876-4715-4b2b-bfca-72b9cf84c089 button.colab-df-convert');\n",
              "        buttonEl.style.display =\n",
              "          google.colab.kernel.accessAllowed ? 'block' : 'none';\n",
              "\n",
              "        async function convertToInteractive(key) {\n",
              "          const element = document.querySelector('#df-bea06876-4715-4b2b-bfca-72b9cf84c089');\n",
              "          const dataTable =\n",
              "            await google.colab.kernel.invokeFunction('convertToInteractive',\n",
              "                                                     [key], {});\n",
              "          if (!dataTable) return;\n",
              "\n",
              "          const docLinkHtml = 'Like what you see? Visit the ' +\n",
              "            '<a target=\"_blank\" href=https://colab.research.google.com/notebooks/data_table.ipynb>data table notebook</a>'\n",
              "            + ' to learn more about interactive tables.';\n",
              "          element.innerHTML = '';\n",
              "          dataTable['output_type'] = 'display_data';\n",
              "          await google.colab.output.renderOutput(dataTable, element);\n",
              "          const docLink = document.createElement('div');\n",
              "          docLink.innerHTML = docLinkHtml;\n",
              "          element.appendChild(docLink);\n",
              "        }\n",
              "      </script>\n",
              "    </div>\n",
              "  </div>\n",
              "  "
            ],
            "text/plain": [
              "    text_id                                               text\n",
              "0  10021369  Identification of APC2, a homologue of the <ca...\n",
              "1  10051005  A common MSH2 mutation in English and North Am...\n",
              "2  10051007  Age of onset in <category=\"SpecificDisease\">Hu...\n",
              "3    100562  <category=\"SpecificDisease\">Familial deficienc...\n",
              "4  10064668  Increased incidence of <category=\"DiseaseClass..."
            ]
          },
          "metadata": {},
          "execution_count": 63
        }
      ],
      "source": [
        "df.head()"
      ]
    },
    {
      "cell_type": "code",
      "source": [
        "df.info()"
      ],
      "metadata": {
        "colab": {
          "base_uri": "https://localhost:8080/"
        },
        "id": "yE5AuR-drXXq",
        "outputId": "93ce131f-e41e-43da-e724-e1af1e77c1b2"
      },
      "execution_count": 64,
      "outputs": [
        {
          "output_type": "stream",
          "name": "stdout",
          "text": [
            "<class 'pandas.core.frame.DataFrame'>\n",
            "RangeIndex: 593 entries, 0 to 592\n",
            "Data columns (total 2 columns):\n",
            " #   Column   Non-Null Count  Dtype \n",
            "---  ------   --------------  ----- \n",
            " 0   text_id  593 non-null    int64 \n",
            " 1   text     593 non-null    object\n",
            "dtypes: int64(1), object(1)\n",
            "memory usage: 9.4+ KB\n"
          ]
        }
      ]
    },
    {
      "cell_type": "markdown",
      "metadata": {
        "id": "hjpykuoOmpgQ"
      },
      "source": [
        "### Modify labels"
      ]
    },
    {
      "cell_type": "code",
      "execution_count": 65,
      "metadata": {
        "id": "b3xP2oIyRBt1"
      },
      "outputs": [],
      "source": [
        "df[\"text\"] = df[\"text\"].apply(lambda text: modify_label(text,dict_map))"
      ]
    },
    {
      "cell_type": "code",
      "execution_count": 66,
      "metadata": {
        "colab": {
          "base_uri": "https://localhost:8080/",
          "height": 296
        },
        "id": "NTHuMsPMSPP8",
        "outputId": "1f6ceed1-aef3-4d3a-f7de-0254016fa4d7"
      },
      "outputs": [
        {
          "output_type": "execute_result",
          "data": {
            "text/html": [
              "\n",
              "  <div id=\"df-9712893e-f060-4d2e-ac15-5ca6b47417af\">\n",
              "    <div class=\"colab-df-container\">\n",
              "      <div>\n",
              "<style scoped>\n",
              "    .dataframe tbody tr th:only-of-type {\n",
              "        vertical-align: middle;\n",
              "    }\n",
              "\n",
              "    .dataframe tbody tr th {\n",
              "        vertical-align: top;\n",
              "    }\n",
              "\n",
              "    .dataframe thead th {\n",
              "        text-align: right;\n",
              "    }\n",
              "</style>\n",
              "<table border=\"1\" class=\"dataframe\">\n",
              "  <thead>\n",
              "    <tr style=\"text-align: right;\">\n",
              "      <th></th>\n",
              "      <th>text_id</th>\n",
              "      <th>text</th>\n",
              "    </tr>\n",
              "  </thead>\n",
              "  <tbody>\n",
              "    <tr>\n",
              "      <th>0</th>\n",
              "      <td>10021369</td>\n",
              "      <td>Identification of APC2, a homologue of the  &lt;S...</td>\n",
              "    </tr>\n",
              "    <tr>\n",
              "      <th>1</th>\n",
              "      <td>10051005</td>\n",
              "      <td>A common MSH2 mutation in English and North Am...</td>\n",
              "    </tr>\n",
              "    <tr>\n",
              "      <th>2</th>\n",
              "      <td>10051007</td>\n",
              "      <td>Age of onset in  &lt;START_NER_SpecificDisease&gt; H...</td>\n",
              "    </tr>\n",
              "    <tr>\n",
              "      <th>3</th>\n",
              "      <td>100562</td>\n",
              "      <td>&lt;START_NER_SpecificDisease&gt; Familial deficien...</td>\n",
              "    </tr>\n",
              "    <tr>\n",
              "      <th>4</th>\n",
              "      <td>10064668</td>\n",
              "      <td>Increased incidence of  &lt;START_NER_DiseaseClas...</td>\n",
              "    </tr>\n",
              "  </tbody>\n",
              "</table>\n",
              "</div>\n",
              "      <button class=\"colab-df-convert\" onclick=\"convertToInteractive('df-9712893e-f060-4d2e-ac15-5ca6b47417af')\"\n",
              "              title=\"Convert this dataframe to an interactive table.\"\n",
              "              style=\"display:none;\">\n",
              "        \n",
              "  <svg xmlns=\"http://www.w3.org/2000/svg\" height=\"24px\"viewBox=\"0 0 24 24\"\n",
              "       width=\"24px\">\n",
              "    <path d=\"M0 0h24v24H0V0z\" fill=\"none\"/>\n",
              "    <path d=\"M18.56 5.44l.94 2.06.94-2.06 2.06-.94-2.06-.94-.94-2.06-.94 2.06-2.06.94zm-11 1L8.5 8.5l.94-2.06 2.06-.94-2.06-.94L8.5 2.5l-.94 2.06-2.06.94zm10 10l.94 2.06.94-2.06 2.06-.94-2.06-.94-.94-2.06-.94 2.06-2.06.94z\"/><path d=\"M17.41 7.96l-1.37-1.37c-.4-.4-.92-.59-1.43-.59-.52 0-1.04.2-1.43.59L10.3 9.45l-7.72 7.72c-.78.78-.78 2.05 0 2.83L4 21.41c.39.39.9.59 1.41.59.51 0 1.02-.2 1.41-.59l7.78-7.78 2.81-2.81c.8-.78.8-2.07 0-2.86zM5.41 20L4 18.59l7.72-7.72 1.47 1.35L5.41 20z\"/>\n",
              "  </svg>\n",
              "      </button>\n",
              "      \n",
              "  <style>\n",
              "    .colab-df-container {\n",
              "      display:flex;\n",
              "      flex-wrap:wrap;\n",
              "      gap: 12px;\n",
              "    }\n",
              "\n",
              "    .colab-df-convert {\n",
              "      background-color: #E8F0FE;\n",
              "      border: none;\n",
              "      border-radius: 50%;\n",
              "      cursor: pointer;\n",
              "      display: none;\n",
              "      fill: #1967D2;\n",
              "      height: 32px;\n",
              "      padding: 0 0 0 0;\n",
              "      width: 32px;\n",
              "    }\n",
              "\n",
              "    .colab-df-convert:hover {\n",
              "      background-color: #E2EBFA;\n",
              "      box-shadow: 0px 1px 2px rgba(60, 64, 67, 0.3), 0px 1px 3px 1px rgba(60, 64, 67, 0.15);\n",
              "      fill: #174EA6;\n",
              "    }\n",
              "\n",
              "    [theme=dark] .colab-df-convert {\n",
              "      background-color: #3B4455;\n",
              "      fill: #D2E3FC;\n",
              "    }\n",
              "\n",
              "    [theme=dark] .colab-df-convert:hover {\n",
              "      background-color: #434B5C;\n",
              "      box-shadow: 0px 1px 3px 1px rgba(0, 0, 0, 0.15);\n",
              "      filter: drop-shadow(0px 1px 2px rgba(0, 0, 0, 0.3));\n",
              "      fill: #FFFFFF;\n",
              "    }\n",
              "  </style>\n",
              "\n",
              "      <script>\n",
              "        const buttonEl =\n",
              "          document.querySelector('#df-9712893e-f060-4d2e-ac15-5ca6b47417af button.colab-df-convert');\n",
              "        buttonEl.style.display =\n",
              "          google.colab.kernel.accessAllowed ? 'block' : 'none';\n",
              "\n",
              "        async function convertToInteractive(key) {\n",
              "          const element = document.querySelector('#df-9712893e-f060-4d2e-ac15-5ca6b47417af');\n",
              "          const dataTable =\n",
              "            await google.colab.kernel.invokeFunction('convertToInteractive',\n",
              "                                                     [key], {});\n",
              "          if (!dataTable) return;\n",
              "\n",
              "          const docLinkHtml = 'Like what you see? Visit the ' +\n",
              "            '<a target=\"_blank\" href=https://colab.research.google.com/notebooks/data_table.ipynb>data table notebook</a>'\n",
              "            + ' to learn more about interactive tables.';\n",
              "          element.innerHTML = '';\n",
              "          dataTable['output_type'] = 'display_data';\n",
              "          await google.colab.output.renderOutput(dataTable, element);\n",
              "          const docLink = document.createElement('div');\n",
              "          docLink.innerHTML = docLinkHtml;\n",
              "          element.appendChild(docLink);\n",
              "        }\n",
              "      </script>\n",
              "    </div>\n",
              "  </div>\n",
              "  "
            ],
            "text/plain": [
              "    text_id                                               text\n",
              "0  10021369  Identification of APC2, a homologue of the  <S...\n",
              "1  10051005  A common MSH2 mutation in English and North Am...\n",
              "2  10051007  Age of onset in  <START_NER_SpecificDisease> H...\n",
              "3    100562   <START_NER_SpecificDisease> Familial deficien...\n",
              "4  10064668  Increased incidence of  <START_NER_DiseaseClas..."
            ]
          },
          "metadata": {},
          "execution_count": 66
        }
      ],
      "source": [
        "df.head()"
      ]
    },
    {
      "cell_type": "markdown",
      "metadata": {
        "id": "dVcOnWc0mpgQ"
      },
      "source": [
        "### Using Pyspark"
      ]
    },
    {
      "cell_type": "code",
      "execution_count": 67,
      "metadata": {
        "id": "j223YtOwSQGf"
      },
      "outputs": [],
      "source": [
        "spark_df = spark.createDataFrame(df)"
      ]
    },
    {
      "cell_type": "markdown",
      "source": [
        "### Build pipeline"
      ],
      "metadata": {
        "id": "mtwQlaE3tbpn"
      }
    },
    {
      "cell_type": "code",
      "source": [
        "documentAssembler = DocumentAssembler()\\\n",
        "    .setInputCol(\"text\")\\\n",
        "    .setOutputCol(\"document\")\\\n",
        "    .setCleanupMode(\"shrink\")"
      ],
      "metadata": {
        "id": "vGqIqQcVtCf2"
      },
      "execution_count": 77,
      "outputs": []
    },
    {
      "cell_type": "code",
      "source": [
        "sentenceDetector = SentenceDetector()\\\n",
        "    .setInputCols(['document'])\\\n",
        "    .setOutputCol('sentences')\\\n",
        "    .setExplodeSentences(True)"
      ],
      "metadata": {
        "id": "wMscGeQItCcZ"
      },
      "execution_count": 78,
      "outputs": []
    },
    {
      "cell_type": "code",
      "source": [
        "tokenizer = Tokenizer() \\\n",
        "    .setInputCols([\"sentences\"]) \\\n",
        "    .setOutputCol(\"token\")"
      ],
      "metadata": {
        "id": "euQDxF2jtCZT"
      },
      "execution_count": 79,
      "outputs": []
    },
    {
      "cell_type": "code",
      "source": [
        "pipelineModel = Pipeline(stages=[documentAssembler, sentenceDetector, tokenizer ])"
      ],
      "metadata": {
        "id": "QpUddy-vtCWs"
      },
      "execution_count": 80,
      "outputs": []
    },
    {
      "cell_type": "markdown",
      "source": [
        "fit and transform dataset"
      ],
      "metadata": {
        "id": "wJkxt5hKuaG6"
      }
    },
    {
      "cell_type": "code",
      "source": [
        "result = pipelineModel.fit(spark_df.select(['text'])).transform(spark_df.select(['text']))"
      ],
      "metadata": {
        "id": "fCTa73uEtCTl"
      },
      "execution_count": 81,
      "outputs": []
    },
    {
      "cell_type": "code",
      "source": [
        "result.show(5)"
      ],
      "metadata": {
        "colab": {
          "base_uri": "https://localhost:8080/"
        },
        "id": "AIYLaePbu8UE",
        "outputId": "f2f02309-680a-4d96-eebf-adc9c4c659c9"
      },
      "execution_count": 82,
      "outputs": [
        {
          "output_type": "stream",
          "name": "stdout",
          "text": [
            "+--------------------+--------------------+--------------------+--------------------+\n",
            "|                text|            document|           sentences|               token|\n",
            "+--------------------+--------------------+--------------------+--------------------+\n",
            "|Identification of...|[[document, 0, 11...|[[document, 0, 11...|[[token, 0, 13, I...|\n",
            "|A common MSH2 mut...|[[document, 0, 21...|[[document, 0, 21...|[[token, 0, 0, A,...|\n",
            "|Age of onset in  ...|[[document, 0, 15...|[[document, 0, 15...|[[token, 0, 2, Ag...|\n",
            "| <START_NER_Speci...|[[document, 0, 19...|[[document, 0, 19...|[[token, 0, 26, <...|\n",
            "|Increased inciden...|[[document, 0, 14...|[[document, 0, 14...|[[token, 0, 8, In...|\n",
            "+--------------------+--------------------+--------------------+--------------------+\n",
            "only showing top 5 rows\n",
            "\n"
          ]
        }
      ]
    },
    {
      "cell_type": "code",
      "source": [
        "df_final = result.select('token.result').toPandas()"
      ],
      "metadata": {
        "id": "xQxPp0MuuBAH"
      },
      "execution_count": 83,
      "outputs": []
    },
    {
      "cell_type": "code",
      "source": [
        "df_final.head()"
      ],
      "metadata": {
        "colab": {
          "base_uri": "https://localhost:8080/",
          "height": 296
        },
        "id": "KYiU3ek3vMub",
        "outputId": "0ddf9449-41b6-4b55-bdf8-f575962aae8b"
      },
      "execution_count": 84,
      "outputs": [
        {
          "output_type": "execute_result",
          "data": {
            "text/html": [
              "\n",
              "  <div id=\"df-43a8f514-c86b-42f9-be73-ce1957e5765f\">\n",
              "    <div class=\"colab-df-container\">\n",
              "      <div>\n",
              "<style scoped>\n",
              "    .dataframe tbody tr th:only-of-type {\n",
              "        vertical-align: middle;\n",
              "    }\n",
              "\n",
              "    .dataframe tbody tr th {\n",
              "        vertical-align: top;\n",
              "    }\n",
              "\n",
              "    .dataframe thead th {\n",
              "        text-align: right;\n",
              "    }\n",
              "</style>\n",
              "<table border=\"1\" class=\"dataframe\">\n",
              "  <thead>\n",
              "    <tr style=\"text-align: right;\">\n",
              "      <th></th>\n",
              "      <th>result</th>\n",
              "    </tr>\n",
              "  </thead>\n",
              "  <tbody>\n",
              "    <tr>\n",
              "      <th>0</th>\n",
              "      <td>[Identification, of, APC2, ,, a, homologue, of...</td>\n",
              "    </tr>\n",
              "    <tr>\n",
              "      <th>1</th>\n",
              "      <td>[A, common, MSH2, mutation, in, English, and, ...</td>\n",
              "    </tr>\n",
              "    <tr>\n",
              "      <th>2</th>\n",
              "      <td>[Age, of, onset, in, &lt;START_NER_SpecificDiseas...</td>\n",
              "    </tr>\n",
              "    <tr>\n",
              "      <th>3</th>\n",
              "      <td>[&lt;START_NER_SpecificDisease&gt;, Familial, defici...</td>\n",
              "    </tr>\n",
              "    <tr>\n",
              "      <th>4</th>\n",
              "      <td>[Increased, incidence, of, &lt;START_NER_DiseaseC...</td>\n",
              "    </tr>\n",
              "  </tbody>\n",
              "</table>\n",
              "</div>\n",
              "      <button class=\"colab-df-convert\" onclick=\"convertToInteractive('df-43a8f514-c86b-42f9-be73-ce1957e5765f')\"\n",
              "              title=\"Convert this dataframe to an interactive table.\"\n",
              "              style=\"display:none;\">\n",
              "        \n",
              "  <svg xmlns=\"http://www.w3.org/2000/svg\" height=\"24px\"viewBox=\"0 0 24 24\"\n",
              "       width=\"24px\">\n",
              "    <path d=\"M0 0h24v24H0V0z\" fill=\"none\"/>\n",
              "    <path d=\"M18.56 5.44l.94 2.06.94-2.06 2.06-.94-2.06-.94-.94-2.06-.94 2.06-2.06.94zm-11 1L8.5 8.5l.94-2.06 2.06-.94-2.06-.94L8.5 2.5l-.94 2.06-2.06.94zm10 10l.94 2.06.94-2.06 2.06-.94-2.06-.94-.94-2.06-.94 2.06-2.06.94z\"/><path d=\"M17.41 7.96l-1.37-1.37c-.4-.4-.92-.59-1.43-.59-.52 0-1.04.2-1.43.59L10.3 9.45l-7.72 7.72c-.78.78-.78 2.05 0 2.83L4 21.41c.39.39.9.59 1.41.59.51 0 1.02-.2 1.41-.59l7.78-7.78 2.81-2.81c.8-.78.8-2.07 0-2.86zM5.41 20L4 18.59l7.72-7.72 1.47 1.35L5.41 20z\"/>\n",
              "  </svg>\n",
              "      </button>\n",
              "      \n",
              "  <style>\n",
              "    .colab-df-container {\n",
              "      display:flex;\n",
              "      flex-wrap:wrap;\n",
              "      gap: 12px;\n",
              "    }\n",
              "\n",
              "    .colab-df-convert {\n",
              "      background-color: #E8F0FE;\n",
              "      border: none;\n",
              "      border-radius: 50%;\n",
              "      cursor: pointer;\n",
              "      display: none;\n",
              "      fill: #1967D2;\n",
              "      height: 32px;\n",
              "      padding: 0 0 0 0;\n",
              "      width: 32px;\n",
              "    }\n",
              "\n",
              "    .colab-df-convert:hover {\n",
              "      background-color: #E2EBFA;\n",
              "      box-shadow: 0px 1px 2px rgba(60, 64, 67, 0.3), 0px 1px 3px 1px rgba(60, 64, 67, 0.15);\n",
              "      fill: #174EA6;\n",
              "    }\n",
              "\n",
              "    [theme=dark] .colab-df-convert {\n",
              "      background-color: #3B4455;\n",
              "      fill: #D2E3FC;\n",
              "    }\n",
              "\n",
              "    [theme=dark] .colab-df-convert:hover {\n",
              "      background-color: #434B5C;\n",
              "      box-shadow: 0px 1px 3px 1px rgba(0, 0, 0, 0.15);\n",
              "      filter: drop-shadow(0px 1px 2px rgba(0, 0, 0, 0.3));\n",
              "      fill: #FFFFFF;\n",
              "    }\n",
              "  </style>\n",
              "\n",
              "      <script>\n",
              "        const buttonEl =\n",
              "          document.querySelector('#df-43a8f514-c86b-42f9-be73-ce1957e5765f button.colab-df-convert');\n",
              "        buttonEl.style.display =\n",
              "          google.colab.kernel.accessAllowed ? 'block' : 'none';\n",
              "\n",
              "        async function convertToInteractive(key) {\n",
              "          const element = document.querySelector('#df-43a8f514-c86b-42f9-be73-ce1957e5765f');\n",
              "          const dataTable =\n",
              "            await google.colab.kernel.invokeFunction('convertToInteractive',\n",
              "                                                     [key], {});\n",
              "          if (!dataTable) return;\n",
              "\n",
              "          const docLinkHtml = 'Like what you see? Visit the ' +\n",
              "            '<a target=\"_blank\" href=https://colab.research.google.com/notebooks/data_table.ipynb>data table notebook</a>'\n",
              "            + ' to learn more about interactive tables.';\n",
              "          element.innerHTML = '';\n",
              "          dataTable['output_type'] = 'display_data';\n",
              "          await google.colab.output.renderOutput(dataTable, element);\n",
              "          const docLink = document.createElement('div');\n",
              "          docLink.innerHTML = docLinkHtml;\n",
              "          element.appendChild(docLink);\n",
              "        }\n",
              "      </script>\n",
              "    </div>\n",
              "  </div>\n",
              "  "
            ],
            "text/plain": [
              "                                              result\n",
              "0  [Identification, of, APC2, ,, a, homologue, of...\n",
              "1  [A, common, MSH2, mutation, in, English, and, ...\n",
              "2  [Age, of, onset, in, <START_NER_SpecificDiseas...\n",
              "3  [<START_NER_SpecificDisease>, Familial, defici...\n",
              "4  [Increased, incidence, of, <START_NER_DiseaseC..."
            ]
          },
          "metadata": {},
          "execution_count": 84
        }
      ]
    },
    {
      "cell_type": "markdown",
      "source": [
        "## tokens-->conll"
      ],
      "metadata": {
        "id": "eC7-vONHwbvG"
      }
    },
    {
      "cell_type": "code",
      "source": [
        "conll_text = \"\"\n",
        "cl = []\n",
        "label = 'O' \n",
        "\n",
        "for sentence_tokens in df_final.result[:2]:\n",
        "    for t in sentence_tokens:\n",
        "        if t.startswith(\"<START_NER_\"):\n",
        "            label = t.split(\"_\")[-1][:-1]\n",
        "            continue\n",
        "        \n",
        "        if label != 'O' and t != '<END_NER>':\n",
        "            cl.append(t)\n",
        "            continue\n",
        "        \n",
        "        if t == '<END_NER>':\n",
        "            for idx, ct in enumerate(cl):\n",
        "                x = 'B' if idx == 0 else 'I'\n",
        "                conll_text += f\"{ct} NN NN {x}-{label}\\n\"\n",
        "            label = 'O'\n",
        "            cl.clear()\n",
        "            continue  \n",
        "        \n",
        "        conll_text += f\"{t} NN NN {label}\\n\"\n",
        "    conll_text += \"\\n\"\n",
        "print(conll_text)                                         \n"
      ],
      "metadata": {
        "colab": {
          "base_uri": "https://localhost:8080/"
        },
        "id": "4ObbWk_4yXPY",
        "outputId": "ab7170e9-7fb3-462f-c781-36dfcd0838ba"
      },
      "execution_count": 87,
      "outputs": [
        {
          "output_type": "stream",
          "name": "stdout",
          "text": [
            "Identification NN NN O\n",
            "of NN NN O\n",
            "APC2 NN NN O\n",
            ", NN NN O\n",
            "a NN NN O\n",
            "homologue NN NN O\n",
            "of NN NN O\n",
            "the NN NN O\n",
            "adenomatous NN NN B-Modifier\n",
            "polyposis NN NN I-Modifier\n",
            "coli NN NN I-Modifier\n",
            "tumour NN NN I-Modifier\n",
            "suppressor NN NN O\n",
            ". NN NN O\n",
            "\n",
            "A NN NN O\n",
            "common NN NN O\n",
            "MSH2 NN NN O\n",
            "mutation NN NN O\n",
            "in NN NN O\n",
            "English NN NN O\n",
            "and NN NN O\n",
            "North NN NN O\n",
            "American NN NN O\n",
            "HNPCC NN NN B-Modifier\n",
            "families NN NN O\n",
            ": NN NN O\n",
            "origin NN NN O\n",
            ", NN NN O\n",
            "phenotypic NN NN O\n",
            "expression NN NN O\n",
            ", NN NN O\n",
            "and NN NN O\n",
            "sex NN NN O\n",
            "specific NN NN O\n",
            "differences NN NN O\n",
            "in NN NN O\n",
            "colorectal NN NN B-SpecificDisease\n",
            "cancer NN NN I-SpecificDisease\n",
            ". NN NN O\n",
            "\n",
            "\n"
          ]
        }
      ]
    },
    {
      "cell_type": "markdown",
      "source": [
        "### Let's make it conll function"
      ],
      "metadata": {
        "id": "TmKeFSba9mcd"
      }
    },
    {
      "cell_type": "code",
      "source": [
        "def conll(df:pd.DataFrame)->str:\n",
        "    conll_text = \"\"\n",
        "    cl = []\n",
        "    label = 'O' \n",
        "\n",
        "    for sentence_tokens in df_final.result[:]:\n",
        "        for t in sentence_tokens:\n",
        "            if t.startswith(\"<START_NER_\"):\n",
        "                label = t.split(\"_\")[-1][:-1]\n",
        "                continue\n",
        "            \n",
        "            if label != 'O' and t != '<END_NER>':\n",
        "                cl.append(t)\n",
        "                continue\n",
        "            \n",
        "            if t == '<END_NER>':\n",
        "                for idx, ct in enumerate(cl):\n",
        "                    x = 'B' if idx == 0 else 'I'\n",
        "                    conll_text += f\"{ct} NN NN {x}-{label}\\n\"\n",
        "                label = 'O'\n",
        "                cl.clear()\n",
        "                continue  \n",
        "            \n",
        "            conll_text += f\"{t} NN NN {label}\\n\"\n",
        "        conll_text += \"\\n\"\n",
        "\n",
        "    return conll_text\n"
      ],
      "metadata": {
        "id": "4IYcY9OAwkcg"
      },
      "execution_count": 88,
      "outputs": []
    },
    {
      "cell_type": "code",
      "source": [
        "conll_text = conll(df_final)"
      ],
      "metadata": {
        "id": "z0NvC6Z6xlrf"
      },
      "execution_count": 89,
      "outputs": []
    },
    {
      "cell_type": "code",
      "source": [
        "print(conll_text[:500])"
      ],
      "metadata": {
        "colab": {
          "base_uri": "https://localhost:8080/"
        },
        "id": "oHMNEsvX4xZK",
        "outputId": "5a40dd54-11a8-4bde-dea8-8b5b1afdf2c6"
      },
      "execution_count": 90,
      "outputs": [
        {
          "output_type": "stream",
          "name": "stdout",
          "text": [
            "Identification NN NN O\n",
            "of NN NN O\n",
            "APC2 NN NN O\n",
            ", NN NN O\n",
            "a NN NN O\n",
            "homologue NN NN O\n",
            "of NN NN O\n",
            "the NN NN O\n",
            "adenomatous NN NN B-Modifier\n",
            "polyposis NN NN I-Modifier\n",
            "coli NN NN I-Modifier\n",
            "tumour NN NN I-Modifier\n",
            "suppressor NN NN O\n",
            ". NN NN O\n",
            "\n",
            "A NN NN O\n",
            "common NN NN O\n",
            "MSH2 NN NN O\n",
            "mutation NN NN O\n",
            "in NN NN O\n",
            "English NN NN O\n",
            "and NN NN O\n",
            "North NN NN O\n",
            "American NN NN O\n",
            "HNPCC NN NN B-Modifier\n",
            "families NN NN O\n",
            ": NN NN O\n",
            "origin NN NN O\n",
            ", NN NN O\n",
            "phenotypic NN NN O\n",
            "expression NN NN O\n",
            ", NN NN O\n",
            "and NN NN O\n",
            "\n"
          ]
        }
      ]
    },
    {
      "cell_type": "markdown",
      "source": [
        "save conll text to drive"
      ],
      "metadata": {
        "id": "mS9_ZRG09zXQ"
      }
    },
    {
      "cell_type": "code",
      "source": [
        "header = \"-DOCSTART- -X- -X- O\\n\\n\"\n",
        "with open(\"NCBI_train.conll\", \"w+\", encoding='utf8') as f:\n",
        "    f.write(header)\n",
        "    f.write(conll_text)"
      ],
      "metadata": {
        "id": "Af0t-73WxNkd"
      },
      "execution_count": 91,
      "outputs": []
    },
    {
      "cell_type": "markdown",
      "source": [
        "### Lets count labels"
      ],
      "metadata": {
        "id": "UpydLokv9cNU"
      }
    },
    {
      "cell_type": "code",
      "source": [
        "data = CoNLL().readDataset(spark, \"/content/NCBI_train.conll\")\n",
        "data.show()"
      ],
      "metadata": {
        "colab": {
          "base_uri": "https://localhost:8080/"
        },
        "id": "E9f18djg5SUh",
        "outputId": "6196b053-48a6-4bec-9fbd-54d97f5cd107"
      },
      "execution_count": 92,
      "outputs": [
        {
          "output_type": "stream",
          "name": "stdout",
          "text": [
            "+--------------------+--------------------+--------------------+--------------------+--------------------+--------------------+\n",
            "|                text|            document|            sentence|               token|                 pos|               label|\n",
            "+--------------------+--------------------+--------------------+--------------------+--------------------+--------------------+\n",
            "|Identification of...|[[document, 0, 89...|[[document, 0, 89...|[[token, 0, 13, I...|[[pos, 0, 13, NN,...|[[named_entity, 0...|\n",
            "|A common MSH2 mut...|[[document, 0, 15...|[[document, 0, 15...|[[token, 0, 0, A,...|[[pos, 0, 0, NN, ...|[[named_entity, 0...|\n",
            "|Age of onset in H...|[[document, 0, 11...|[[document, 0, 11...|[[token, 0, 2, Ag...|[[pos, 0, 2, NN, ...|[[named_entity, 0...|\n",
            "|Familial deficien...|[[document, 0, 12...|[[document, 0, 12...|[[token, 0, 7, Fa...|[[pos, 0, 7, NN, ...|[[named_entity, 0...|\n",
            "|Increased inciden...|[[document, 0, 73...|[[document, 0, 73...|[[token, 0, 8, In...|[[pos, 0, 8, NN, ...|[[named_entity, 0...|\n",
            "|Genotype and phen...|[[document, 0, 83...|[[document, 0, 83...|[[token, 0, 7, Ge...|[[pos, 0, 7, NN, ...|[[named_entity, 0...|\n",
            "|Fibroblast growth...|[[document, 0, 21...|[[document, 0, 21...|[[token, 0, 9, Fi...|[[pos, 0, 9, NN, ...|[[named_entity, 0...|\n",
            "|Germline E-cadher...|[[document, 0, 10...|[[document, 0, 10...|[[token, 0, 7, Ge...|[[pos, 0, 7, NN, ...|[[named_entity, 0...|\n",
            "|A zinc finger tru...|[[document, 0, 11...|[[document, 0, 11...|[[token, 0, 0, A,...|[[pos, 0, 0, NN, ...|[[named_entity, 0...|\n",
            "|Mechanism of incr...|[[document, 0, 14...|[[document, 0, 14...|[[token, 0, 8, Me...|[[pos, 0, 8, NN, ...|[[named_entity, 0...|\n",
            "|Neurophysiologic ...|[[document, 0, 94...|[[document, 0, 94...|[[token, 0, 15, N...|[[pos, 0, 15, NN,...|[[named_entity, 0...|\n",
            "|GCH1 mutation in ...|[[document, 0, 67...|[[document, 0, 67...|[[token, 0, 3, GC...|[[pos, 0, 3, NN, ...|[[named_entity, 0...|\n",
            "|Germline mutation...|[[document, 0, 85...|[[document, 0, 85...|[[token, 0, 7, Ge...|[[pos, 0, 7, NN, ...|[[named_entity, 0...|\n",
            "|Molecular epidemi...|[[document, 0, 10...|[[document, 0, 10...|[[token, 0, 8, Mo...|[[pos, 0, 8, NN, ...|[[named_entity, 0...|\n",
            "|The hereditary he...|[[document, 0, 11...|[[document, 0, 11...|[[token, 0, 2, Th...|[[pos, 0, 2, NN, ...|[[named_entity, 0...|\n",
            "|Mutation and hapl...|[[document, 0, 19...|[[document, 0, 19...|[[token, 0, 7, Mu...|[[pos, 0, 7, NN, ...|[[named_entity, 0...|\n",
            "|Autoimmune lympho...|[[document, 0, 92...|[[document, 0, 92...|[[token, 0, 9, Au...|[[pos, 0, 9, NN, ...|[[named_entity, 0...|\n",
            "|Multicentric orig...|[[document, 0, 62...|[[document, 0, 62...|[[token, 0, 11, M...|[[pos, 0, 11, NN,...|[[named_entity, 0...|\n",
            "|A retrospective a...|[[document, 0, 10...|[[document, 0, 10...|[[token, 0, 0, A,...|[[pos, 0, 0, NN, ...|[[named_entity, 0...|\n",
            "|Identification of...|[[document, 0, 63...|[[document, 0, 63...|[[token, 0, 13, I...|[[pos, 0, 13, NN,...|[[named_entity, 0...|\n",
            "+--------------------+--------------------+--------------------+--------------------+--------------------+--------------------+\n",
            "only showing top 20 rows\n",
            "\n"
          ]
        }
      ]
    },
    {
      "cell_type": "code",
      "source": [
        "data.select(F.explode(F.arrays_zip('token.result','label.result')).alias(\"cols\")) \\\n",
        ".select(F.expr(\"cols['0']\").alias(\"token\"),\n",
        "        F.expr(\"cols['1']\").alias(\"ground_truth\")).groupBy('ground_truth').count().orderBy('count', ascending=False).show(100,truncate=False)"
      ],
      "metadata": {
        "colab": {
          "base_uri": "https://localhost:8080/"
        },
        "id": "vSjPtkkh-k7_",
        "outputId": "dfea7690-c64d-44bb-dbfc-1d6decd9d978"
      },
      "execution_count": 93,
      "outputs": [
        {
          "output_type": "stream",
          "name": "stdout",
          "text": [
            "+------------------+-----+\n",
            "|ground_truth      |count|\n",
            "+------------------+-----+\n",
            "|O                 |7720 |\n",
            "|I-SpecificDisease |654  |\n",
            "|B-SpecificDisease |449  |\n",
            "|B-Modifier        |199  |\n",
            "|I-Modifier        |153  |\n",
            "|I-DiseaseClass    |78   |\n",
            "|B-DiseaseClass    |60   |\n",
            "|I-CompositeMention|60   |\n",
            "|B-CompositeMention|16   |\n",
            "+------------------+-----+\n",
            "\n"
          ]
        }
      ]
    },
    {
      "cell_type": "markdown",
      "source": [
        "check ground truth labels count in the text. "
      ],
      "metadata": {
        "id": "LmQBH85oE0sF"
      }
    },
    {
      "cell_type": "code",
      "source": [
        "labels = ['<START_NER_Modifier>',\n",
        "          '<START_NER_SpecificDisease>',\n",
        "          '<START_NER_DiseaseClass>',\n",
        "          '<START_NER_CompositeMention>' ]"
      ],
      "metadata": {
        "id": "egppgImQ-k45"
      },
      "execution_count": 94,
      "outputs": []
    },
    {
      "cell_type": "code",
      "source": [
        "for label in labels:\n",
        "    counter = 0\n",
        "    for row in df.text:\n",
        "        counter += row.count(label)\n",
        "    print(f'{label:30}:{counter}')\n"
      ],
      "metadata": {
        "colab": {
          "base_uri": "https://localhost:8080/"
        },
        "id": "pYwhSa0b-k12",
        "outputId": "ee0de6b4-a8f0-42f6-e5ab-4c6e7194e794"
      },
      "execution_count": 102,
      "outputs": [
        {
          "output_type": "stream",
          "name": "stdout",
          "text": [
            "<START_NER_Modifier>          :199\n",
            "<START_NER_SpecificDisease>   :449\n",
            "<START_NER_DiseaseClass>      :60\n",
            "<START_NER_CompositeMention>  :16\n"
          ]
        }
      ]
    },
    {
      "cell_type": "markdown",
      "source": [
        "# Test Data"
      ],
      "metadata": {
        "id": "NvGFw_56F7Zh"
      }
    },
    {
      "cell_type": "markdown",
      "metadata": {
        "id": "Kte4lfZnYNaZ"
      },
      "source": [
        "### Read file"
      ]
    },
    {
      "cell_type": "code",
      "execution_count": 118,
      "metadata": {
        "colab": {
          "base_uri": "https://localhost:8080/"
        },
        "outputId": "7a3db9ea-f524-4855-b29f-1c96f12e27bc",
        "id": "-9CxO_ukYNaa"
      },
      "outputs": [
        {
          "output_type": "stream",
          "name": "stderr",
          "text": [
            "/usr/local/lib/python3.7/dist-packages/pandas/io/parsers/readers.py:586: ParserWarning: Length of header or names does not match length of data. This leads to a loss of data with index_col=False.\n",
            "  return _read(filepath_or_buffer, kwds)\n"
          ]
        }
      ],
      "source": [
        "df = pd.read_csv(\"/content/NCBI_corpus_testing.txt\",\n",
        "                 sep=\"\\t\", \n",
        "                 names=[\"text_id\",\"text\"], \n",
        "                 index_col=False, \n",
        "                 engine=\"python\")"
      ]
    },
    {
      "cell_type": "code",
      "execution_count": 119,
      "metadata": {
        "colab": {
          "base_uri": "https://localhost:8080/",
          "height": 280
        },
        "outputId": "76f3edd0-e416-4bc2-9c79-bb1702043608",
        "id": "YS8RZK9ZYNaa"
      },
      "outputs": [
        {
          "output_type": "execute_result",
          "data": {
            "text/html": [
              "\n",
              "  <div id=\"df-be97bb29-ccc5-4148-bdcd-1091816fde34\">\n",
              "    <div class=\"colab-df-container\">\n",
              "      <div>\n",
              "<style scoped>\n",
              "    .dataframe tbody tr th:only-of-type {\n",
              "        vertical-align: middle;\n",
              "    }\n",
              "\n",
              "    .dataframe tbody tr th {\n",
              "        vertical-align: top;\n",
              "    }\n",
              "\n",
              "    .dataframe thead th {\n",
              "        text-align: right;\n",
              "    }\n",
              "</style>\n",
              "<table border=\"1\" class=\"dataframe\">\n",
              "  <thead>\n",
              "    <tr style=\"text-align: right;\">\n",
              "      <th></th>\n",
              "      <th>text_id</th>\n",
              "      <th>text</th>\n",
              "    </tr>\n",
              "  </thead>\n",
              "  <tbody>\n",
              "    <tr>\n",
              "      <th>0</th>\n",
              "      <td>9288106</td>\n",
              "      <td>Clustering of missense mutations in the &lt;categ...</td>\n",
              "    </tr>\n",
              "    <tr>\n",
              "      <th>1</th>\n",
              "      <td>9294109</td>\n",
              "      <td>&lt;category=\"Modifier\"&gt;Myotonic dystrophy&lt;/categ...</td>\n",
              "    </tr>\n",
              "    <tr>\n",
              "      <th>2</th>\n",
              "      <td>9311732</td>\n",
              "      <td>Constitutional RB1-gene mutations in patients ...</td>\n",
              "    </tr>\n",
              "    <tr>\n",
              "      <th>3</th>\n",
              "      <td>932197</td>\n",
              "      <td>&lt;category=\"SpecificDisease\"&gt;Hereditary deficie...</td>\n",
              "    </tr>\n",
              "    <tr>\n",
              "      <th>4</th>\n",
              "      <td>9336417</td>\n",
              "      <td>Susceptibility to &lt;category=\"SpecificDisease\"&gt;...</td>\n",
              "    </tr>\n",
              "  </tbody>\n",
              "</table>\n",
              "</div>\n",
              "      <button class=\"colab-df-convert\" onclick=\"convertToInteractive('df-be97bb29-ccc5-4148-bdcd-1091816fde34')\"\n",
              "              title=\"Convert this dataframe to an interactive table.\"\n",
              "              style=\"display:none;\">\n",
              "        \n",
              "  <svg xmlns=\"http://www.w3.org/2000/svg\" height=\"24px\"viewBox=\"0 0 24 24\"\n",
              "       width=\"24px\">\n",
              "    <path d=\"M0 0h24v24H0V0z\" fill=\"none\"/>\n",
              "    <path d=\"M18.56 5.44l.94 2.06.94-2.06 2.06-.94-2.06-.94-.94-2.06-.94 2.06-2.06.94zm-11 1L8.5 8.5l.94-2.06 2.06-.94-2.06-.94L8.5 2.5l-.94 2.06-2.06.94zm10 10l.94 2.06.94-2.06 2.06-.94-2.06-.94-.94-2.06-.94 2.06-2.06.94z\"/><path d=\"M17.41 7.96l-1.37-1.37c-.4-.4-.92-.59-1.43-.59-.52 0-1.04.2-1.43.59L10.3 9.45l-7.72 7.72c-.78.78-.78 2.05 0 2.83L4 21.41c.39.39.9.59 1.41.59.51 0 1.02-.2 1.41-.59l7.78-7.78 2.81-2.81c.8-.78.8-2.07 0-2.86zM5.41 20L4 18.59l7.72-7.72 1.47 1.35L5.41 20z\"/>\n",
              "  </svg>\n",
              "      </button>\n",
              "      \n",
              "  <style>\n",
              "    .colab-df-container {\n",
              "      display:flex;\n",
              "      flex-wrap:wrap;\n",
              "      gap: 12px;\n",
              "    }\n",
              "\n",
              "    .colab-df-convert {\n",
              "      background-color: #E8F0FE;\n",
              "      border: none;\n",
              "      border-radius: 50%;\n",
              "      cursor: pointer;\n",
              "      display: none;\n",
              "      fill: #1967D2;\n",
              "      height: 32px;\n",
              "      padding: 0 0 0 0;\n",
              "      width: 32px;\n",
              "    }\n",
              "\n",
              "    .colab-df-convert:hover {\n",
              "      background-color: #E2EBFA;\n",
              "      box-shadow: 0px 1px 2px rgba(60, 64, 67, 0.3), 0px 1px 3px 1px rgba(60, 64, 67, 0.15);\n",
              "      fill: #174EA6;\n",
              "    }\n",
              "\n",
              "    [theme=dark] .colab-df-convert {\n",
              "      background-color: #3B4455;\n",
              "      fill: #D2E3FC;\n",
              "    }\n",
              "\n",
              "    [theme=dark] .colab-df-convert:hover {\n",
              "      background-color: #434B5C;\n",
              "      box-shadow: 0px 1px 3px 1px rgba(0, 0, 0, 0.15);\n",
              "      filter: drop-shadow(0px 1px 2px rgba(0, 0, 0, 0.3));\n",
              "      fill: #FFFFFF;\n",
              "    }\n",
              "  </style>\n",
              "\n",
              "      <script>\n",
              "        const buttonEl =\n",
              "          document.querySelector('#df-be97bb29-ccc5-4148-bdcd-1091816fde34 button.colab-df-convert');\n",
              "        buttonEl.style.display =\n",
              "          google.colab.kernel.accessAllowed ? 'block' : 'none';\n",
              "\n",
              "        async function convertToInteractive(key) {\n",
              "          const element = document.querySelector('#df-be97bb29-ccc5-4148-bdcd-1091816fde34');\n",
              "          const dataTable =\n",
              "            await google.colab.kernel.invokeFunction('convertToInteractive',\n",
              "                                                     [key], {});\n",
              "          if (!dataTable) return;\n",
              "\n",
              "          const docLinkHtml = 'Like what you see? Visit the ' +\n",
              "            '<a target=\"_blank\" href=https://colab.research.google.com/notebooks/data_table.ipynb>data table notebook</a>'\n",
              "            + ' to learn more about interactive tables.';\n",
              "          element.innerHTML = '';\n",
              "          dataTable['output_type'] = 'display_data';\n",
              "          await google.colab.output.renderOutput(dataTable, element);\n",
              "          const docLink = document.createElement('div');\n",
              "          docLink.innerHTML = docLinkHtml;\n",
              "          element.appendChild(docLink);\n",
              "        }\n",
              "      </script>\n",
              "    </div>\n",
              "  </div>\n",
              "  "
            ],
            "text/plain": [
              "   text_id                                               text\n",
              "0  9288106  Clustering of missense mutations in the <categ...\n",
              "1  9294109  <category=\"Modifier\">Myotonic dystrophy</categ...\n",
              "2  9311732  Constitutional RB1-gene mutations in patients ...\n",
              "3   932197  <category=\"SpecificDisease\">Hereditary deficie...\n",
              "4  9336417  Susceptibility to <category=\"SpecificDisease\">..."
            ]
          },
          "metadata": {},
          "execution_count": 119
        }
      ],
      "source": [
        "df.head()"
      ]
    },
    {
      "cell_type": "code",
      "source": [
        "df.info()"
      ],
      "metadata": {
        "colab": {
          "base_uri": "https://localhost:8080/"
        },
        "outputId": "29975dd9-227e-4974-8dfc-1c072f9e599d",
        "id": "KakGRdNXYNaa"
      },
      "execution_count": 120,
      "outputs": [
        {
          "output_type": "stream",
          "name": "stdout",
          "text": [
            "<class 'pandas.core.frame.DataFrame'>\n",
            "RangeIndex: 100 entries, 0 to 99\n",
            "Data columns (total 2 columns):\n",
            " #   Column   Non-Null Count  Dtype \n",
            "---  ------   --------------  ----- \n",
            " 0   text_id  100 non-null    int64 \n",
            " 1   text     100 non-null    object\n",
            "dtypes: int64(1), object(1)\n",
            "memory usage: 1.7+ KB\n"
          ]
        }
      ]
    },
    {
      "cell_type": "markdown",
      "metadata": {
        "id": "CK6ot63bYNaa"
      },
      "source": [
        "### Modify labels"
      ]
    },
    {
      "cell_type": "code",
      "execution_count": 121,
      "metadata": {
        "id": "nJjooB7CYNaa"
      },
      "outputs": [],
      "source": [
        "df[\"text\"] = df[\"text\"].apply(lambda text: modify_label(text,dict_map))"
      ]
    },
    {
      "cell_type": "code",
      "execution_count": 122,
      "metadata": {
        "colab": {
          "base_uri": "https://localhost:8080/",
          "height": 296
        },
        "outputId": "e3b6a819-0903-4dda-95a0-bbcae5c334c8",
        "id": "OuqyunLNYNaa"
      },
      "outputs": [
        {
          "output_type": "execute_result",
          "data": {
            "text/html": [
              "\n",
              "  <div id=\"df-1b99469f-d521-4593-b3f5-58fda841bd36\">\n",
              "    <div class=\"colab-df-container\">\n",
              "      <div>\n",
              "<style scoped>\n",
              "    .dataframe tbody tr th:only-of-type {\n",
              "        vertical-align: middle;\n",
              "    }\n",
              "\n",
              "    .dataframe tbody tr th {\n",
              "        vertical-align: top;\n",
              "    }\n",
              "\n",
              "    .dataframe thead th {\n",
              "        text-align: right;\n",
              "    }\n",
              "</style>\n",
              "<table border=\"1\" class=\"dataframe\">\n",
              "  <thead>\n",
              "    <tr style=\"text-align: right;\">\n",
              "      <th></th>\n",
              "      <th>text_id</th>\n",
              "      <th>text</th>\n",
              "    </tr>\n",
              "  </thead>\n",
              "  <tbody>\n",
              "    <tr>\n",
              "      <th>0</th>\n",
              "      <td>9288106</td>\n",
              "      <td>Clustering of missense mutations in the  &lt;STAR...</td>\n",
              "    </tr>\n",
              "    <tr>\n",
              "      <th>1</th>\n",
              "      <td>9294109</td>\n",
              "      <td>&lt;START_NER_Modifier&gt; Myotonic dystrophy &lt;END_...</td>\n",
              "    </tr>\n",
              "    <tr>\n",
              "      <th>2</th>\n",
              "      <td>9311732</td>\n",
              "      <td>Constitutional RB1-gene mutations in patients ...</td>\n",
              "    </tr>\n",
              "    <tr>\n",
              "      <th>3</th>\n",
              "      <td>932197</td>\n",
              "      <td>&lt;START_NER_SpecificDisease&gt; Hereditary defici...</td>\n",
              "    </tr>\n",
              "    <tr>\n",
              "      <th>4</th>\n",
              "      <td>9336417</td>\n",
              "      <td>Susceptibility to  &lt;START_NER_SpecificDisease&gt;...</td>\n",
              "    </tr>\n",
              "  </tbody>\n",
              "</table>\n",
              "</div>\n",
              "      <button class=\"colab-df-convert\" onclick=\"convertToInteractive('df-1b99469f-d521-4593-b3f5-58fda841bd36')\"\n",
              "              title=\"Convert this dataframe to an interactive table.\"\n",
              "              style=\"display:none;\">\n",
              "        \n",
              "  <svg xmlns=\"http://www.w3.org/2000/svg\" height=\"24px\"viewBox=\"0 0 24 24\"\n",
              "       width=\"24px\">\n",
              "    <path d=\"M0 0h24v24H0V0z\" fill=\"none\"/>\n",
              "    <path d=\"M18.56 5.44l.94 2.06.94-2.06 2.06-.94-2.06-.94-.94-2.06-.94 2.06-2.06.94zm-11 1L8.5 8.5l.94-2.06 2.06-.94-2.06-.94L8.5 2.5l-.94 2.06-2.06.94zm10 10l.94 2.06.94-2.06 2.06-.94-2.06-.94-.94-2.06-.94 2.06-2.06.94z\"/><path d=\"M17.41 7.96l-1.37-1.37c-.4-.4-.92-.59-1.43-.59-.52 0-1.04.2-1.43.59L10.3 9.45l-7.72 7.72c-.78.78-.78 2.05 0 2.83L4 21.41c.39.39.9.59 1.41.59.51 0 1.02-.2 1.41-.59l7.78-7.78 2.81-2.81c.8-.78.8-2.07 0-2.86zM5.41 20L4 18.59l7.72-7.72 1.47 1.35L5.41 20z\"/>\n",
              "  </svg>\n",
              "      </button>\n",
              "      \n",
              "  <style>\n",
              "    .colab-df-container {\n",
              "      display:flex;\n",
              "      flex-wrap:wrap;\n",
              "      gap: 12px;\n",
              "    }\n",
              "\n",
              "    .colab-df-convert {\n",
              "      background-color: #E8F0FE;\n",
              "      border: none;\n",
              "      border-radius: 50%;\n",
              "      cursor: pointer;\n",
              "      display: none;\n",
              "      fill: #1967D2;\n",
              "      height: 32px;\n",
              "      padding: 0 0 0 0;\n",
              "      width: 32px;\n",
              "    }\n",
              "\n",
              "    .colab-df-convert:hover {\n",
              "      background-color: #E2EBFA;\n",
              "      box-shadow: 0px 1px 2px rgba(60, 64, 67, 0.3), 0px 1px 3px 1px rgba(60, 64, 67, 0.15);\n",
              "      fill: #174EA6;\n",
              "    }\n",
              "\n",
              "    [theme=dark] .colab-df-convert {\n",
              "      background-color: #3B4455;\n",
              "      fill: #D2E3FC;\n",
              "    }\n",
              "\n",
              "    [theme=dark] .colab-df-convert:hover {\n",
              "      background-color: #434B5C;\n",
              "      box-shadow: 0px 1px 3px 1px rgba(0, 0, 0, 0.15);\n",
              "      filter: drop-shadow(0px 1px 2px rgba(0, 0, 0, 0.3));\n",
              "      fill: #FFFFFF;\n",
              "    }\n",
              "  </style>\n",
              "\n",
              "      <script>\n",
              "        const buttonEl =\n",
              "          document.querySelector('#df-1b99469f-d521-4593-b3f5-58fda841bd36 button.colab-df-convert');\n",
              "        buttonEl.style.display =\n",
              "          google.colab.kernel.accessAllowed ? 'block' : 'none';\n",
              "\n",
              "        async function convertToInteractive(key) {\n",
              "          const element = document.querySelector('#df-1b99469f-d521-4593-b3f5-58fda841bd36');\n",
              "          const dataTable =\n",
              "            await google.colab.kernel.invokeFunction('convertToInteractive',\n",
              "                                                     [key], {});\n",
              "          if (!dataTable) return;\n",
              "\n",
              "          const docLinkHtml = 'Like what you see? Visit the ' +\n",
              "            '<a target=\"_blank\" href=https://colab.research.google.com/notebooks/data_table.ipynb>data table notebook</a>'\n",
              "            + ' to learn more about interactive tables.';\n",
              "          element.innerHTML = '';\n",
              "          dataTable['output_type'] = 'display_data';\n",
              "          await google.colab.output.renderOutput(dataTable, element);\n",
              "          const docLink = document.createElement('div');\n",
              "          docLink.innerHTML = docLinkHtml;\n",
              "          element.appendChild(docLink);\n",
              "        }\n",
              "      </script>\n",
              "    </div>\n",
              "  </div>\n",
              "  "
            ],
            "text/plain": [
              "   text_id                                               text\n",
              "0  9288106  Clustering of missense mutations in the  <STAR...\n",
              "1  9294109   <START_NER_Modifier> Myotonic dystrophy <END_...\n",
              "2  9311732  Constitutional RB1-gene mutations in patients ...\n",
              "3   932197   <START_NER_SpecificDisease> Hereditary defici...\n",
              "4  9336417  Susceptibility to  <START_NER_SpecificDisease>..."
            ]
          },
          "metadata": {},
          "execution_count": 122
        }
      ],
      "source": [
        "df.head()"
      ]
    },
    {
      "cell_type": "markdown",
      "metadata": {
        "id": "46UPMERmYNaa"
      },
      "source": [
        "### Using Pyspark"
      ]
    },
    {
      "cell_type": "code",
      "execution_count": 123,
      "metadata": {
        "id": "OESz9C5gYNaa"
      },
      "outputs": [],
      "source": [
        "spark_df = spark.createDataFrame(df)"
      ]
    },
    {
      "cell_type": "markdown",
      "source": [
        "### Build pipeline"
      ],
      "metadata": {
        "id": "AiLUzMs1YNaa"
      }
    },
    {
      "cell_type": "code",
      "source": [
        "documentAssembler = DocumentAssembler()\\\n",
        "    .setInputCol(\"text\")\\\n",
        "    .setOutputCol(\"document\")\\\n",
        "    .setCleanupMode(\"shrink\")"
      ],
      "metadata": {
        "id": "3ymGX4XVYNac"
      },
      "execution_count": 124,
      "outputs": []
    },
    {
      "cell_type": "code",
      "source": [
        "sentenceDetector = SentenceDetector()\\\n",
        "    .setInputCols(['document'])\\\n",
        "    .setOutputCol('sentences')\\\n",
        "    .setExplodeSentences(True)"
      ],
      "metadata": {
        "id": "PbyQt4AgYNad"
      },
      "execution_count": 125,
      "outputs": []
    },
    {
      "cell_type": "code",
      "source": [
        "tokenizer = Tokenizer() \\\n",
        "    .setInputCols([\"sentences\"]) \\\n",
        "    .setOutputCol(\"token\")"
      ],
      "metadata": {
        "id": "F-hhuklSYNad"
      },
      "execution_count": 126,
      "outputs": []
    },
    {
      "cell_type": "code",
      "source": [
        "pipelineModel = Pipeline(stages=[documentAssembler, sentenceDetector, tokenizer ])"
      ],
      "metadata": {
        "id": "8nYRnONZYNad"
      },
      "execution_count": 127,
      "outputs": []
    },
    {
      "cell_type": "markdown",
      "source": [
        "fit and transform dataset"
      ],
      "metadata": {
        "id": "SHp9t_WUYNad"
      }
    },
    {
      "cell_type": "code",
      "source": [
        "result = pipelineModel.fit(spark_df.select(['text'])).transform(spark_df.select(['text']))"
      ],
      "metadata": {
        "id": "shw0htf_YNad"
      },
      "execution_count": 128,
      "outputs": []
    },
    {
      "cell_type": "code",
      "source": [
        "result.show(5)"
      ],
      "metadata": {
        "colab": {
          "base_uri": "https://localhost:8080/"
        },
        "outputId": "adc4bdd1-e774-4826-aa9e-ab7ce20965b8",
        "id": "_CMbqRiUYNad"
      },
      "execution_count": 129,
      "outputs": [
        {
          "output_type": "stream",
          "name": "stdout",
          "text": [
            "+--------------------+--------------------+--------------------+--------------------+\n",
            "|                text|            document|           sentences|               token|\n",
            "+--------------------+--------------------+--------------------+--------------------+\n",
            "|Clustering of mis...|[[document, 0, 16...|[[document, 0, 16...|[[token, 0, 9, Cl...|\n",
            "| <START_NER_Modif...|[[document, 0, 14...|[[document, 0, 14...|[[token, 0, 19, <...|\n",
            "|Constitutional RB...|[[document, 0, 12...|[[document, 0, 12...|[[token, 0, 13, C...|\n",
            "| <START_NER_Speci...|[[document, 0, 15...|[[document, 0, 10...|[[token, 0, 26, <...|\n",
            "| <START_NER_Speci...|[[document, 0, 15...|[[document, 105, ...|[[token, 105, 105...|\n",
            "+--------------------+--------------------+--------------------+--------------------+\n",
            "only showing top 5 rows\n",
            "\n"
          ]
        }
      ]
    },
    {
      "cell_type": "code",
      "source": [
        "df_final = result.select('token.result').toPandas()"
      ],
      "metadata": {
        "id": "L2tWBx1qYNad"
      },
      "execution_count": 130,
      "outputs": []
    },
    {
      "cell_type": "code",
      "source": [
        "df_final.head()"
      ],
      "metadata": {
        "colab": {
          "base_uri": "https://localhost:8080/",
          "height": 246
        },
        "outputId": "a2c6e4c6-6bc3-43cc-e1a2-36641b3f91e2",
        "id": "2yYG-KOnYNad"
      },
      "execution_count": 131,
      "outputs": [
        {
          "output_type": "execute_result",
          "data": {
            "text/html": [
              "\n",
              "  <div id=\"df-16d14d75-e5bd-431c-a137-8695f3fe3469\">\n",
              "    <div class=\"colab-df-container\">\n",
              "      <div>\n",
              "<style scoped>\n",
              "    .dataframe tbody tr th:only-of-type {\n",
              "        vertical-align: middle;\n",
              "    }\n",
              "\n",
              "    .dataframe tbody tr th {\n",
              "        vertical-align: top;\n",
              "    }\n",
              "\n",
              "    .dataframe thead th {\n",
              "        text-align: right;\n",
              "    }\n",
              "</style>\n",
              "<table border=\"1\" class=\"dataframe\">\n",
              "  <thead>\n",
              "    <tr style=\"text-align: right;\">\n",
              "      <th></th>\n",
              "      <th>result</th>\n",
              "    </tr>\n",
              "  </thead>\n",
              "  <tbody>\n",
              "    <tr>\n",
              "      <th>0</th>\n",
              "      <td>[Clustering, of, missense, mutations, in, the,...</td>\n",
              "    </tr>\n",
              "    <tr>\n",
              "      <th>1</th>\n",
              "      <td>[&lt;START_NER_Modifier&gt;, Myotonic, dystrophy, &lt;E...</td>\n",
              "    </tr>\n",
              "    <tr>\n",
              "      <th>2</th>\n",
              "      <td>[Constitutional, RB1-gene, mutations, in, pati...</td>\n",
              "    </tr>\n",
              "    <tr>\n",
              "      <th>3</th>\n",
              "      <td>[&lt;START_NER_SpecificDisease&gt;, Hereditary, defi...</td>\n",
              "    </tr>\n",
              "    <tr>\n",
              "      <th>4</th>\n",
              "      <td>[I, ., Clinical, ,, immunochemical, ,, and, fa...</td>\n",
              "    </tr>\n",
              "  </tbody>\n",
              "</table>\n",
              "</div>\n",
              "      <button class=\"colab-df-convert\" onclick=\"convertToInteractive('df-16d14d75-e5bd-431c-a137-8695f3fe3469')\"\n",
              "              title=\"Convert this dataframe to an interactive table.\"\n",
              "              style=\"display:none;\">\n",
              "        \n",
              "  <svg xmlns=\"http://www.w3.org/2000/svg\" height=\"24px\"viewBox=\"0 0 24 24\"\n",
              "       width=\"24px\">\n",
              "    <path d=\"M0 0h24v24H0V0z\" fill=\"none\"/>\n",
              "    <path d=\"M18.56 5.44l.94 2.06.94-2.06 2.06-.94-2.06-.94-.94-2.06-.94 2.06-2.06.94zm-11 1L8.5 8.5l.94-2.06 2.06-.94-2.06-.94L8.5 2.5l-.94 2.06-2.06.94zm10 10l.94 2.06.94-2.06 2.06-.94-2.06-.94-.94-2.06-.94 2.06-2.06.94z\"/><path d=\"M17.41 7.96l-1.37-1.37c-.4-.4-.92-.59-1.43-.59-.52 0-1.04.2-1.43.59L10.3 9.45l-7.72 7.72c-.78.78-.78 2.05 0 2.83L4 21.41c.39.39.9.59 1.41.59.51 0 1.02-.2 1.41-.59l7.78-7.78 2.81-2.81c.8-.78.8-2.07 0-2.86zM5.41 20L4 18.59l7.72-7.72 1.47 1.35L5.41 20z\"/>\n",
              "  </svg>\n",
              "      </button>\n",
              "      \n",
              "  <style>\n",
              "    .colab-df-container {\n",
              "      display:flex;\n",
              "      flex-wrap:wrap;\n",
              "      gap: 12px;\n",
              "    }\n",
              "\n",
              "    .colab-df-convert {\n",
              "      background-color: #E8F0FE;\n",
              "      border: none;\n",
              "      border-radius: 50%;\n",
              "      cursor: pointer;\n",
              "      display: none;\n",
              "      fill: #1967D2;\n",
              "      height: 32px;\n",
              "      padding: 0 0 0 0;\n",
              "      width: 32px;\n",
              "    }\n",
              "\n",
              "    .colab-df-convert:hover {\n",
              "      background-color: #E2EBFA;\n",
              "      box-shadow: 0px 1px 2px rgba(60, 64, 67, 0.3), 0px 1px 3px 1px rgba(60, 64, 67, 0.15);\n",
              "      fill: #174EA6;\n",
              "    }\n",
              "\n",
              "    [theme=dark] .colab-df-convert {\n",
              "      background-color: #3B4455;\n",
              "      fill: #D2E3FC;\n",
              "    }\n",
              "\n",
              "    [theme=dark] .colab-df-convert:hover {\n",
              "      background-color: #434B5C;\n",
              "      box-shadow: 0px 1px 3px 1px rgba(0, 0, 0, 0.15);\n",
              "      filter: drop-shadow(0px 1px 2px rgba(0, 0, 0, 0.3));\n",
              "      fill: #FFFFFF;\n",
              "    }\n",
              "  </style>\n",
              "\n",
              "      <script>\n",
              "        const buttonEl =\n",
              "          document.querySelector('#df-16d14d75-e5bd-431c-a137-8695f3fe3469 button.colab-df-convert');\n",
              "        buttonEl.style.display =\n",
              "          google.colab.kernel.accessAllowed ? 'block' : 'none';\n",
              "\n",
              "        async function convertToInteractive(key) {\n",
              "          const element = document.querySelector('#df-16d14d75-e5bd-431c-a137-8695f3fe3469');\n",
              "          const dataTable =\n",
              "            await google.colab.kernel.invokeFunction('convertToInteractive',\n",
              "                                                     [key], {});\n",
              "          if (!dataTable) return;\n",
              "\n",
              "          const docLinkHtml = 'Like what you see? Visit the ' +\n",
              "            '<a target=\"_blank\" href=https://colab.research.google.com/notebooks/data_table.ipynb>data table notebook</a>'\n",
              "            + ' to learn more about interactive tables.';\n",
              "          element.innerHTML = '';\n",
              "          dataTable['output_type'] = 'display_data';\n",
              "          await google.colab.output.renderOutput(dataTable, element);\n",
              "          const docLink = document.createElement('div');\n",
              "          docLink.innerHTML = docLinkHtml;\n",
              "          element.appendChild(docLink);\n",
              "        }\n",
              "      </script>\n",
              "    </div>\n",
              "  </div>\n",
              "  "
            ],
            "text/plain": [
              "                                              result\n",
              "0  [Clustering, of, missense, mutations, in, the,...\n",
              "1  [<START_NER_Modifier>, Myotonic, dystrophy, <E...\n",
              "2  [Constitutional, RB1-gene, mutations, in, pati...\n",
              "3  [<START_NER_SpecificDisease>, Hereditary, defi...\n",
              "4  [I, ., Clinical, ,, immunochemical, ,, and, fa..."
            ]
          },
          "metadata": {},
          "execution_count": 131
        }
      ]
    },
    {
      "cell_type": "markdown",
      "source": [
        "## tokens-->conll"
      ],
      "metadata": {
        "id": "RYJL5RMKYNae"
      }
    },
    {
      "cell_type": "code",
      "source": [
        "def conll(df:pd.DataFrame)->str:\n",
        "    conll_text = \"\"\n",
        "    cl = []\n",
        "    label = 'O' \n",
        "\n",
        "    for sentence_tokens in df_final.result[:]:\n",
        "        for t in sentence_tokens:\n",
        "            if t.startswith(\"<START_NER_\"):\n",
        "                label = t.split(\"_\")[-1][:-1]\n",
        "                continue\n",
        "            \n",
        "            if label != 'O' and t != '<END_NER>':\n",
        "                cl.append(t)\n",
        "                continue\n",
        "            \n",
        "            if t == '<END_NER>':\n",
        "                for idx, ct in enumerate(cl):\n",
        "                    x = 'B' if idx == 0 else 'I'\n",
        "                    conll_text += f\"{ct} NN NN {x}-{label}\\n\"\n",
        "                label = 'O'\n",
        "                cl.clear()\n",
        "                continue  \n",
        "            \n",
        "            conll_text += f\"{t} NN NN {label}\\n\"\n",
        "        conll_text += \"\\n\"\n",
        "\n",
        "    return conll_text\n"
      ],
      "metadata": {
        "id": "X_AQk1T4YNae"
      },
      "execution_count": 132,
      "outputs": []
    },
    {
      "cell_type": "code",
      "source": [
        "conll_text = conll(df_final)"
      ],
      "metadata": {
        "id": "8SopMtdmYNae"
      },
      "execution_count": 133,
      "outputs": []
    },
    {
      "cell_type": "code",
      "source": [
        "print(conll_text[:500])"
      ],
      "metadata": {
        "colab": {
          "base_uri": "https://localhost:8080/"
        },
        "outputId": "0df3fda9-3391-4408-9b32-61e4e39475f7",
        "id": "Yce-Q5ydYNae"
      },
      "execution_count": 134,
      "outputs": [
        {
          "output_type": "stream",
          "name": "stdout",
          "text": [
            "Clustering NN NN O\n",
            "of NN NN O\n",
            "missense NN NN O\n",
            "mutations NN NN O\n",
            "in NN NN O\n",
            "the NN NN O\n",
            "ataxia-telangiectasia NN NN B-Modifier\n",
            "gene NN NN O\n",
            "in NN NN O\n",
            "a NN NN O\n",
            "sporadic NN NN B-SpecificDisease\n",
            "T-cell NN NN I-SpecificDisease\n",
            "leukaemia NN NN I-SpecificDisease\n",
            ". NN NN O\n",
            "\n",
            "Myotonic NN NN B-Modifier\n",
            "dystrophy NN NN I-Modifier\n",
            "protein NN NN O\n",
            "kinase NN NN O\n",
            "is NN NN O\n",
            "involved NN NN O\n",
            "in NN NN O\n",
            "the NN NN O\n",
            "modulation NN NN O\n",
            "of NN NN O\n",
            "the NN NN O\n",
            "Ca2+ NN NN O\n",
            "homeostasis NN NN O\n",
            "in NN NN O\n",
            "skeletal \n"
          ]
        }
      ]
    },
    {
      "cell_type": "markdown",
      "source": [
        "save conll to drive"
      ],
      "metadata": {
        "id": "Pf9bJdQtYNae"
      }
    },
    {
      "cell_type": "code",
      "source": [
        "header = \"-DOCSTART- -X- -X- O\\n\\n\"\n",
        "with open(\"NCBI_test.conll\", \"w+\", encoding='utf8') as f:\n",
        "    f.write(header)\n",
        "    f.write(conll_text)"
      ],
      "metadata": {
        "id": "9DqcbtEHYNae"
      },
      "execution_count": 135,
      "outputs": []
    },
    {
      "cell_type": "markdown",
      "source": [
        "### Count labels"
      ],
      "metadata": {
        "id": "y8xRvC_dYNae"
      }
    },
    {
      "cell_type": "code",
      "source": [
        "data = CoNLL().readDataset(spark, \"/content/NCBI_test.conll\")\n",
        "data.show()"
      ],
      "metadata": {
        "colab": {
          "base_uri": "https://localhost:8080/"
        },
        "outputId": "17c4dd83-45bf-4a4f-88cd-14c2f833923d",
        "id": "e9599oJBYNae"
      },
      "execution_count": 137,
      "outputs": [
        {
          "output_type": "stream",
          "name": "stdout",
          "text": [
            "+--------------------+--------------------+--------------------+--------------------+--------------------+--------------------+\n",
            "|                text|            document|            sentence|               token|                 pos|               label|\n",
            "+--------------------+--------------------+--------------------+--------------------+--------------------+--------------------+\n",
            "|Clustering of mis...|[[document, 0, 98...|[[document, 0, 98...|[[token, 0, 9, Cl...|[[pos, 0, 9, NN, ...|[[named_entity, 0...|\n",
            "|Myotonic dystroph...|[[document, 0, 11...|[[document, 0, 11...|[[token, 0, 7, My...|[[pos, 0, 7, NN, ...|[[named_entity, 0...|\n",
            "|Constitutional RB...|[[document, 0, 86...|[[document, 0, 86...|[[token, 0, 13, C...|[[pos, 0, 13, NN,...|[[named_entity, 0...|\n",
            "|Hereditary defici...|[[document, 0, 66...|[[document, 0, 66...|[[token, 0, 9, He...|[[pos, 0, 9, NN, ...|[[named_entity, 0...|\n",
            "|I . Clinical , im...|[[document, 0, 51...|[[document, 0, 51...|[[token, 0, 0, I,...|[[pos, 0, 0, NN, ...|[[named_entity, 0...|\n",
            "|Susceptibility to...|[[document, 0, 98...|[[document, 0, 98...|[[token, 0, 13, S...|[[pos, 0, 13, NN,...|[[named_entity, 0...|\n",
            "|Cell cycle-depend...|[[document, 0, 92...|[[document, 0, 92...|[[token, 0, 3, Ce...|[[pos, 0, 3, NN, ...|[[named_entity, 0...|\n",
            "|Ethnic difference...|[[document, 0, 65...|[[document, 0, 65...|[[token, 0, 5, Et...|[[pos, 0, 5, NN, ...|[[named_entity, 0...|\n",
            "|Autosomal dominan...|[[document, 0, 13...|[[document, 0, 13...|[[token, 0, 8, Au...|[[pos, 0, 8, NN, ...|[[named_entity, 0...|\n",
            "|Frequent inactiva...|[[document, 0, 63...|[[document, 0, 63...|[[token, 0, 7, Fr...|[[pos, 0, 7, NN, ...|[[named_entity, 0...|\n",
            "|Risk reversals in...|[[document, 0, 60...|[[document, 0, 60...|[[token, 0, 3, Ri...|[[pos, 0, 3, NN, ...|[[named_entity, 0...|\n",
            "|A novel common mi...|[[document, 0, 12...|[[document, 0, 12...|[[token, 0, 0, A,...|[[pos, 0, 0, NN, ...|[[named_entity, 0...|\n",
            "|Low frequency of ...|[[document, 0, 86...|[[document, 0, 86...|[[token, 0, 2, Lo...|[[pos, 0, 2, NN, ...|[[named_entity, 0...|\n",
            "|Paternal transmis...|[[document, 0, 55...|[[document, 0, 55...|[[token, 0, 7, Pa...|[[pos, 0, 7, NN, ...|[[named_entity, 0...|\n",
            "|The RB1 gene muta...|[[document, 0, 74...|[[document, 0, 74...|[[token, 0, 2, Th...|[[pos, 0, 2, NN, ...|[[named_entity, 0...|\n",
            "|Low levels of bet...|[[document, 0, 99...|[[document, 0, 99...|[[token, 0, 2, Lo...|[[pos, 0, 2, NN, ...|[[named_entity, 0...|\n",
            "|The tumor suppres...|[[document, 0, 12...|[[document, 0, 12...|[[token, 0, 2, Th...|[[pos, 0, 2, NN, ...|[[named_entity, 0...|\n",
            "|Prevalence of p16...|[[document, 0, 88...|[[document, 0, 88...|[[token, 0, 9, Pr...|[[pos, 0, 9, NN, ...|[[named_entity, 0...|\n",
            "|The French Famili...|[[document, 0, 41...|[[document, 0, 41...|[[token, 0, 2, Th...|[[pos, 0, 2, NN, ...|[[named_entity, 0...|\n",
            "|Progression of so...|[[document, 0, 10...|[[document, 0, 10...|[[token, 0, 10, P...|[[pos, 0, 10, NN,...|[[named_entity, 0...|\n",
            "+--------------------+--------------------+--------------------+--------------------+--------------------+--------------------+\n",
            "only showing top 20 rows\n",
            "\n"
          ]
        }
      ]
    },
    {
      "cell_type": "code",
      "source": [
        "data.select(F.explode(F.arrays_zip('token.result','label.result')).alias(\"cols\")) \\\n",
        ".select(F.expr(\"cols['0']\").alias(\"token\"),\n",
        "        F.expr(\"cols['1']\").alias(\"ground_truth\")).groupBy('ground_truth').count().orderBy('count', ascending=False).show(100,truncate=False)"
      ],
      "metadata": {
        "colab": {
          "base_uri": "https://localhost:8080/"
        },
        "outputId": "49afbf58-ad7b-4f76-a45d-79344fb07ebd",
        "id": "208W_cn8YNaf"
      },
      "execution_count": 138,
      "outputs": [
        {
          "output_type": "stream",
          "name": "stdout",
          "text": [
            "+-----------------+-----+\n",
            "|ground_truth     |count|\n",
            "+-----------------+-----+\n",
            "|O                |1358 |\n",
            "|I-SpecificDisease|114  |\n",
            "|B-SpecificDisease|71   |\n",
            "|B-Modifier       |42   |\n",
            "|I-Modifier       |27   |\n",
            "|I-DiseaseClass   |13   |\n",
            "|B-DiseaseClass   |9    |\n",
            "+-----------------+-----+\n",
            "\n"
          ]
        }
      ]
    },
    {
      "cell_type": "markdown",
      "source": [
        "Compare with ground truth labels"
      ],
      "metadata": {
        "id": "sCLOLin_YNaf"
      }
    },
    {
      "cell_type": "code",
      "source": [
        "labels = ['<START_NER_Modifier>',\n",
        "          '<START_NER_SpecificDisease>',\n",
        "          '<START_NER_DiseaseClass>',\n",
        "          '<START_NER_CompositeMention>' ]"
      ],
      "metadata": {
        "id": "nXLA6caUYNaf"
      },
      "execution_count": 139,
      "outputs": []
    },
    {
      "cell_type": "code",
      "source": [
        "for label in labels:\n",
        "    counter = 0\n",
        "    for row in df.text:\n",
        "        counter += row.count(label)\n",
        "    print(f'{label:30}:{counter}')\n"
      ],
      "metadata": {
        "colab": {
          "base_uri": "https://localhost:8080/"
        },
        "outputId": "7422d32c-a450-4516-e5d8-dc0b5c07239d",
        "id": "eHNJerXhYNaf"
      },
      "execution_count": 140,
      "outputs": [
        {
          "output_type": "stream",
          "name": "stdout",
          "text": [
            "<START_NER_Modifier>          :42\n",
            "<START_NER_SpecificDisease>   :71\n",
            "<START_NER_DiseaseClass>      :9\n",
            "<START_NER_CompositeMention>  :0\n"
          ]
        }
      ]
    },
    {
      "cell_type": "code",
      "source": [
        "from google.colab import drive\n",
        "drive.mount('/content/drive')"
      ],
      "metadata": {
        "colab": {
          "base_uri": "https://localhost:8080/"
        },
        "id": "xZdM5nBgGCkp",
        "outputId": "f06d3bda-3b4c-46f2-accd-ea29b879f34c"
      },
      "execution_count": 103,
      "outputs": [
        {
          "output_type": "stream",
          "name": "stdout",
          "text": [
            "Mounted at /content/drive\n"
          ]
        }
      ]
    },
    {
      "cell_type": "markdown",
      "source": [
        "# Development Data"
      ],
      "metadata": {
        "id": "MpiqL7bOXo9Z"
      }
    },
    {
      "cell_type": "markdown",
      "metadata": {
        "id": "iCf44d8qdL40"
      },
      "source": [
        "### Read file"
      ]
    },
    {
      "cell_type": "code",
      "execution_count": 141,
      "metadata": {
        "colab": {
          "base_uri": "https://localhost:8080/"
        },
        "outputId": "aa50f6f6-6e4e-40df-99d2-a92f06e9c4a6",
        "id": "-iQiSFY2dL45"
      },
      "outputs": [
        {
          "output_type": "stream",
          "name": "stderr",
          "text": [
            "/usr/local/lib/python3.7/dist-packages/pandas/io/parsers/readers.py:586: ParserWarning: Length of header or names does not match length of data. This leads to a loss of data with index_col=False.\n",
            "  return _read(filepath_or_buffer, kwds)\n"
          ]
        }
      ],
      "source": [
        "df = pd.read_csv(\"/content/NCBI_corpus_development.txt\",\n",
        "                 sep=\"\\t\", \n",
        "                 names=[\"text_id\",\"text\"], \n",
        "                 index_col=False, \n",
        "                 engine=\"python\")"
      ]
    },
    {
      "cell_type": "code",
      "execution_count": 142,
      "metadata": {
        "colab": {
          "base_uri": "https://localhost:8080/",
          "height": 263
        },
        "outputId": "f947fecf-96a2-47fd-defd-c76c7a4693a8",
        "id": "Te73i-YVdL45"
      },
      "outputs": [
        {
          "output_type": "execute_result",
          "data": {
            "text/html": [
              "\n",
              "  <div id=\"df-69616fc3-5758-4992-b8e5-b6863be34a3f\">\n",
              "    <div class=\"colab-df-container\">\n",
              "      <div>\n",
              "<style scoped>\n",
              "    .dataframe tbody tr th:only-of-type {\n",
              "        vertical-align: middle;\n",
              "    }\n",
              "\n",
              "    .dataframe tbody tr th {\n",
              "        vertical-align: top;\n",
              "    }\n",
              "\n",
              "    .dataframe thead th {\n",
              "        text-align: right;\n",
              "    }\n",
              "</style>\n",
              "<table border=\"1\" class=\"dataframe\">\n",
              "  <thead>\n",
              "    <tr style=\"text-align: right;\">\n",
              "      <th></th>\n",
              "      <th>text_id</th>\n",
              "      <th>text</th>\n",
              "    </tr>\n",
              "  </thead>\n",
              "  <tbody>\n",
              "    <tr>\n",
              "      <th>0</th>\n",
              "      <td>8589722</td>\n",
              "      <td>BRCA1 is secreted and exhibits properties of a...</td>\n",
              "    </tr>\n",
              "    <tr>\n",
              "      <th>1</th>\n",
              "      <td>8589723</td>\n",
              "      <td>&lt;category=\"Modifier\"&gt;Ovarian cancer&lt;/category&gt;...</td>\n",
              "    </tr>\n",
              "    <tr>\n",
              "      <th>2</th>\n",
              "      <td>8595416</td>\n",
              "      <td>A novel homeodomain-encoding gene is associate...</td>\n",
              "    </tr>\n",
              "    <tr>\n",
              "      <th>3</th>\n",
              "      <td>8605116</td>\n",
              "      <td>Germline mutations in the RB1 gene in patients...</td>\n",
              "    </tr>\n",
              "    <tr>\n",
              "      <th>4</th>\n",
              "      <td>8621452</td>\n",
              "      <td>&lt;category=\"SpecificDisease\"&gt;Type II human comp...</td>\n",
              "    </tr>\n",
              "  </tbody>\n",
              "</table>\n",
              "</div>\n",
              "      <button class=\"colab-df-convert\" onclick=\"convertToInteractive('df-69616fc3-5758-4992-b8e5-b6863be34a3f')\"\n",
              "              title=\"Convert this dataframe to an interactive table.\"\n",
              "              style=\"display:none;\">\n",
              "        \n",
              "  <svg xmlns=\"http://www.w3.org/2000/svg\" height=\"24px\"viewBox=\"0 0 24 24\"\n",
              "       width=\"24px\">\n",
              "    <path d=\"M0 0h24v24H0V0z\" fill=\"none\"/>\n",
              "    <path d=\"M18.56 5.44l.94 2.06.94-2.06 2.06-.94-2.06-.94-.94-2.06-.94 2.06-2.06.94zm-11 1L8.5 8.5l.94-2.06 2.06-.94-2.06-.94L8.5 2.5l-.94 2.06-2.06.94zm10 10l.94 2.06.94-2.06 2.06-.94-2.06-.94-.94-2.06-.94 2.06-2.06.94z\"/><path d=\"M17.41 7.96l-1.37-1.37c-.4-.4-.92-.59-1.43-.59-.52 0-1.04.2-1.43.59L10.3 9.45l-7.72 7.72c-.78.78-.78 2.05 0 2.83L4 21.41c.39.39.9.59 1.41.59.51 0 1.02-.2 1.41-.59l7.78-7.78 2.81-2.81c.8-.78.8-2.07 0-2.86zM5.41 20L4 18.59l7.72-7.72 1.47 1.35L5.41 20z\"/>\n",
              "  </svg>\n",
              "      </button>\n",
              "      \n",
              "  <style>\n",
              "    .colab-df-container {\n",
              "      display:flex;\n",
              "      flex-wrap:wrap;\n",
              "      gap: 12px;\n",
              "    }\n",
              "\n",
              "    .colab-df-convert {\n",
              "      background-color: #E8F0FE;\n",
              "      border: none;\n",
              "      border-radius: 50%;\n",
              "      cursor: pointer;\n",
              "      display: none;\n",
              "      fill: #1967D2;\n",
              "      height: 32px;\n",
              "      padding: 0 0 0 0;\n",
              "      width: 32px;\n",
              "    }\n",
              "\n",
              "    .colab-df-convert:hover {\n",
              "      background-color: #E2EBFA;\n",
              "      box-shadow: 0px 1px 2px rgba(60, 64, 67, 0.3), 0px 1px 3px 1px rgba(60, 64, 67, 0.15);\n",
              "      fill: #174EA6;\n",
              "    }\n",
              "\n",
              "    [theme=dark] .colab-df-convert {\n",
              "      background-color: #3B4455;\n",
              "      fill: #D2E3FC;\n",
              "    }\n",
              "\n",
              "    [theme=dark] .colab-df-convert:hover {\n",
              "      background-color: #434B5C;\n",
              "      box-shadow: 0px 1px 3px 1px rgba(0, 0, 0, 0.15);\n",
              "      filter: drop-shadow(0px 1px 2px rgba(0, 0, 0, 0.3));\n",
              "      fill: #FFFFFF;\n",
              "    }\n",
              "  </style>\n",
              "\n",
              "      <script>\n",
              "        const buttonEl =\n",
              "          document.querySelector('#df-69616fc3-5758-4992-b8e5-b6863be34a3f button.colab-df-convert');\n",
              "        buttonEl.style.display =\n",
              "          google.colab.kernel.accessAllowed ? 'block' : 'none';\n",
              "\n",
              "        async function convertToInteractive(key) {\n",
              "          const element = document.querySelector('#df-69616fc3-5758-4992-b8e5-b6863be34a3f');\n",
              "          const dataTable =\n",
              "            await google.colab.kernel.invokeFunction('convertToInteractive',\n",
              "                                                     [key], {});\n",
              "          if (!dataTable) return;\n",
              "\n",
              "          const docLinkHtml = 'Like what you see? Visit the ' +\n",
              "            '<a target=\"_blank\" href=https://colab.research.google.com/notebooks/data_table.ipynb>data table notebook</a>'\n",
              "            + ' to learn more about interactive tables.';\n",
              "          element.innerHTML = '';\n",
              "          dataTable['output_type'] = 'display_data';\n",
              "          await google.colab.output.renderOutput(dataTable, element);\n",
              "          const docLink = document.createElement('div');\n",
              "          docLink.innerHTML = docLinkHtml;\n",
              "          element.appendChild(docLink);\n",
              "        }\n",
              "      </script>\n",
              "    </div>\n",
              "  </div>\n",
              "  "
            ],
            "text/plain": [
              "   text_id                                               text\n",
              "0  8589722  BRCA1 is secreted and exhibits properties of a...\n",
              "1  8589723  <category=\"Modifier\">Ovarian cancer</category>...\n",
              "2  8595416  A novel homeodomain-encoding gene is associate...\n",
              "3  8605116  Germline mutations in the RB1 gene in patients...\n",
              "4  8621452  <category=\"SpecificDisease\">Type II human comp..."
            ]
          },
          "metadata": {},
          "execution_count": 142
        }
      ],
      "source": [
        "df.head()"
      ]
    },
    {
      "cell_type": "code",
      "source": [
        "df.info()"
      ],
      "metadata": {
        "colab": {
          "base_uri": "https://localhost:8080/"
        },
        "outputId": "47188a03-bef4-45b5-81ac-b6716ff75645",
        "id": "FJ2p1jPNdL46"
      },
      "execution_count": 143,
      "outputs": [
        {
          "output_type": "stream",
          "name": "stdout",
          "text": [
            "<class 'pandas.core.frame.DataFrame'>\n",
            "RangeIndex: 100 entries, 0 to 99\n",
            "Data columns (total 2 columns):\n",
            " #   Column   Non-Null Count  Dtype \n",
            "---  ------   --------------  ----- \n",
            " 0   text_id  100 non-null    int64 \n",
            " 1   text     100 non-null    object\n",
            "dtypes: int64(1), object(1)\n",
            "memory usage: 1.7+ KB\n"
          ]
        }
      ]
    },
    {
      "cell_type": "markdown",
      "metadata": {
        "id": "67WC_OOhdL46"
      },
      "source": [
        "### Modify labels"
      ]
    },
    {
      "cell_type": "code",
      "execution_count": 144,
      "metadata": {
        "id": "FRiUFX9odL46"
      },
      "outputs": [],
      "source": [
        "df[\"text\"] = df[\"text\"].apply(lambda text: modify_label(text,dict_map))"
      ]
    },
    {
      "cell_type": "code",
      "execution_count": 145,
      "metadata": {
        "colab": {
          "base_uri": "https://localhost:8080/",
          "height": 280
        },
        "outputId": "49c88c37-d4d3-4413-f3aa-fbe1f3aede51",
        "id": "_6QUCjoZdL46"
      },
      "outputs": [
        {
          "output_type": "execute_result",
          "data": {
            "text/html": [
              "\n",
              "  <div id=\"df-30a4e838-a683-4a03-9f51-a76dac8aab42\">\n",
              "    <div class=\"colab-df-container\">\n",
              "      <div>\n",
              "<style scoped>\n",
              "    .dataframe tbody tr th:only-of-type {\n",
              "        vertical-align: middle;\n",
              "    }\n",
              "\n",
              "    .dataframe tbody tr th {\n",
              "        vertical-align: top;\n",
              "    }\n",
              "\n",
              "    .dataframe thead th {\n",
              "        text-align: right;\n",
              "    }\n",
              "</style>\n",
              "<table border=\"1\" class=\"dataframe\">\n",
              "  <thead>\n",
              "    <tr style=\"text-align: right;\">\n",
              "      <th></th>\n",
              "      <th>text_id</th>\n",
              "      <th>text</th>\n",
              "    </tr>\n",
              "  </thead>\n",
              "  <tbody>\n",
              "    <tr>\n",
              "      <th>0</th>\n",
              "      <td>8589722</td>\n",
              "      <td>BRCA1 is secreted and exhibits properties of a...</td>\n",
              "    </tr>\n",
              "    <tr>\n",
              "      <th>1</th>\n",
              "      <td>8589723</td>\n",
              "      <td>&lt;START_NER_Modifier&gt; Ovarian cancer &lt;END_NER&gt;...</td>\n",
              "    </tr>\n",
              "    <tr>\n",
              "      <th>2</th>\n",
              "      <td>8595416</td>\n",
              "      <td>A novel homeodomain-encoding gene is associate...</td>\n",
              "    </tr>\n",
              "    <tr>\n",
              "      <th>3</th>\n",
              "      <td>8605116</td>\n",
              "      <td>Germline mutations in the RB1 gene in patients...</td>\n",
              "    </tr>\n",
              "    <tr>\n",
              "      <th>4</th>\n",
              "      <td>8621452</td>\n",
              "      <td>&lt;START_NER_SpecificDisease&gt; Type II human com...</td>\n",
              "    </tr>\n",
              "  </tbody>\n",
              "</table>\n",
              "</div>\n",
              "      <button class=\"colab-df-convert\" onclick=\"convertToInteractive('df-30a4e838-a683-4a03-9f51-a76dac8aab42')\"\n",
              "              title=\"Convert this dataframe to an interactive table.\"\n",
              "              style=\"display:none;\">\n",
              "        \n",
              "  <svg xmlns=\"http://www.w3.org/2000/svg\" height=\"24px\"viewBox=\"0 0 24 24\"\n",
              "       width=\"24px\">\n",
              "    <path d=\"M0 0h24v24H0V0z\" fill=\"none\"/>\n",
              "    <path d=\"M18.56 5.44l.94 2.06.94-2.06 2.06-.94-2.06-.94-.94-2.06-.94 2.06-2.06.94zm-11 1L8.5 8.5l.94-2.06 2.06-.94-2.06-.94L8.5 2.5l-.94 2.06-2.06.94zm10 10l.94 2.06.94-2.06 2.06-.94-2.06-.94-.94-2.06-.94 2.06-2.06.94z\"/><path d=\"M17.41 7.96l-1.37-1.37c-.4-.4-.92-.59-1.43-.59-.52 0-1.04.2-1.43.59L10.3 9.45l-7.72 7.72c-.78.78-.78 2.05 0 2.83L4 21.41c.39.39.9.59 1.41.59.51 0 1.02-.2 1.41-.59l7.78-7.78 2.81-2.81c.8-.78.8-2.07 0-2.86zM5.41 20L4 18.59l7.72-7.72 1.47 1.35L5.41 20z\"/>\n",
              "  </svg>\n",
              "      </button>\n",
              "      \n",
              "  <style>\n",
              "    .colab-df-container {\n",
              "      display:flex;\n",
              "      flex-wrap:wrap;\n",
              "      gap: 12px;\n",
              "    }\n",
              "\n",
              "    .colab-df-convert {\n",
              "      background-color: #E8F0FE;\n",
              "      border: none;\n",
              "      border-radius: 50%;\n",
              "      cursor: pointer;\n",
              "      display: none;\n",
              "      fill: #1967D2;\n",
              "      height: 32px;\n",
              "      padding: 0 0 0 0;\n",
              "      width: 32px;\n",
              "    }\n",
              "\n",
              "    .colab-df-convert:hover {\n",
              "      background-color: #E2EBFA;\n",
              "      box-shadow: 0px 1px 2px rgba(60, 64, 67, 0.3), 0px 1px 3px 1px rgba(60, 64, 67, 0.15);\n",
              "      fill: #174EA6;\n",
              "    }\n",
              "\n",
              "    [theme=dark] .colab-df-convert {\n",
              "      background-color: #3B4455;\n",
              "      fill: #D2E3FC;\n",
              "    }\n",
              "\n",
              "    [theme=dark] .colab-df-convert:hover {\n",
              "      background-color: #434B5C;\n",
              "      box-shadow: 0px 1px 3px 1px rgba(0, 0, 0, 0.15);\n",
              "      filter: drop-shadow(0px 1px 2px rgba(0, 0, 0, 0.3));\n",
              "      fill: #FFFFFF;\n",
              "    }\n",
              "  </style>\n",
              "\n",
              "      <script>\n",
              "        const buttonEl =\n",
              "          document.querySelector('#df-30a4e838-a683-4a03-9f51-a76dac8aab42 button.colab-df-convert');\n",
              "        buttonEl.style.display =\n",
              "          google.colab.kernel.accessAllowed ? 'block' : 'none';\n",
              "\n",
              "        async function convertToInteractive(key) {\n",
              "          const element = document.querySelector('#df-30a4e838-a683-4a03-9f51-a76dac8aab42');\n",
              "          const dataTable =\n",
              "            await google.colab.kernel.invokeFunction('convertToInteractive',\n",
              "                                                     [key], {});\n",
              "          if (!dataTable) return;\n",
              "\n",
              "          const docLinkHtml = 'Like what you see? Visit the ' +\n",
              "            '<a target=\"_blank\" href=https://colab.research.google.com/notebooks/data_table.ipynb>data table notebook</a>'\n",
              "            + ' to learn more about interactive tables.';\n",
              "          element.innerHTML = '';\n",
              "          dataTable['output_type'] = 'display_data';\n",
              "          await google.colab.output.renderOutput(dataTable, element);\n",
              "          const docLink = document.createElement('div');\n",
              "          docLink.innerHTML = docLinkHtml;\n",
              "          element.appendChild(docLink);\n",
              "        }\n",
              "      </script>\n",
              "    </div>\n",
              "  </div>\n",
              "  "
            ],
            "text/plain": [
              "   text_id                                               text\n",
              "0  8589722  BRCA1 is secreted and exhibits properties of a...\n",
              "1  8589723   <START_NER_Modifier> Ovarian cancer <END_NER>...\n",
              "2  8595416  A novel homeodomain-encoding gene is associate...\n",
              "3  8605116  Germline mutations in the RB1 gene in patients...\n",
              "4  8621452   <START_NER_SpecificDisease> Type II human com..."
            ]
          },
          "metadata": {},
          "execution_count": 145
        }
      ],
      "source": [
        "df.head()"
      ]
    },
    {
      "cell_type": "markdown",
      "metadata": {
        "id": "4gjGdd4qdL46"
      },
      "source": [
        "### Using Pyspark"
      ]
    },
    {
      "cell_type": "code",
      "execution_count": 146,
      "metadata": {
        "id": "PSZudTTddL46"
      },
      "outputs": [],
      "source": [
        "spark_df = spark.createDataFrame(df)"
      ]
    },
    {
      "cell_type": "markdown",
      "source": [
        "### Build pipeline"
      ],
      "metadata": {
        "id": "hL7RXUApdL46"
      }
    },
    {
      "cell_type": "code",
      "source": [
        "documentAssembler = DocumentAssembler()\\\n",
        "    .setInputCol(\"text\")\\\n",
        "    .setOutputCol(\"document\")\\\n",
        "    .setCleanupMode(\"shrink\")"
      ],
      "metadata": {
        "id": "99VjnIJgdL46"
      },
      "execution_count": 147,
      "outputs": []
    },
    {
      "cell_type": "code",
      "source": [
        "sentenceDetector = SentenceDetector()\\\n",
        "    .setInputCols(['document'])\\\n",
        "    .setOutputCol('sentences')\\\n",
        "    .setExplodeSentences(True)"
      ],
      "metadata": {
        "id": "CNvLMthddL46"
      },
      "execution_count": 148,
      "outputs": []
    },
    {
      "cell_type": "code",
      "source": [
        "tokenizer = Tokenizer() \\\n",
        "    .setInputCols([\"sentences\"]) \\\n",
        "    .setOutputCol(\"token\")"
      ],
      "metadata": {
        "id": "kGH5zpMTdL46"
      },
      "execution_count": 149,
      "outputs": []
    },
    {
      "cell_type": "code",
      "source": [
        "pipelineModel = Pipeline(stages=[documentAssembler, sentenceDetector, tokenizer ])"
      ],
      "metadata": {
        "id": "7CcfdR4zdL47"
      },
      "execution_count": 150,
      "outputs": []
    },
    {
      "cell_type": "markdown",
      "source": [
        "fit and transform dataset"
      ],
      "metadata": {
        "id": "UQ7wLfGadL47"
      }
    },
    {
      "cell_type": "code",
      "source": [
        "result = pipelineModel.fit(spark_df.select(['text'])).transform(spark_df.select(['text']))"
      ],
      "metadata": {
        "id": "GcL9UJybdL47"
      },
      "execution_count": 151,
      "outputs": []
    },
    {
      "cell_type": "code",
      "source": [
        "result.show(10)"
      ],
      "metadata": {
        "colab": {
          "base_uri": "https://localhost:8080/"
        },
        "outputId": "9bbf47a0-937c-489b-f49a-44fd701dbfbd",
        "id": "zmvV5DiGdL47"
      },
      "execution_count": 152,
      "outputs": [
        {
          "output_type": "stream",
          "name": "stdout",
          "text": [
            "+--------------------+--------------------+--------------------+--------------------+\n",
            "|                text|            document|           sentences|               token|\n",
            "+--------------------+--------------------+--------------------+--------------------+\n",
            "|BRCA1 is secreted...|[[document, 0, 53...|[[document, 0, 53...|[[token, 0, 4, BR...|\n",
            "| <START_NER_Modif...|[[document, 0, 13...|[[document, 0, 13...|[[token, 0, 19, <...|\n",
            "|A novel homeodoma...|[[document, 0, 16...|[[document, 0, 16...|[[token, 0, 0, A,...|\n",
            "|Germline mutation...|[[document, 0, 11...|[[document, 0, 11...|[[token, 0, 7, Ge...|\n",
            "| <START_NER_Speci...|[[document, 0, 18...|[[document, 0, 77...|[[token, 0, 26, <...|\n",
            "| <START_NER_Speci...|[[document, 0, 18...|[[document, 79, 1...|[[token, 79, 93, ...|\n",
            "| <START_NER_Speci...|[[document, 0, 18...|[[document, 137, ...|[[token, 137, 142...|\n",
            "|Defective dimeriz...|[[document, 0, 18...|[[document, 0, 18...|[[token, 0, 8, De...|\n",
            "| <START_NER_Modif...|[[document, 0, 14...|[[document, 0, 14...|[[token, 0, 19, <...|\n",
            "| <START_NER_Speci...|[[document, 0, 18...|[[document, 0, 18...|[[token, 0, 26, <...|\n",
            "+--------------------+--------------------+--------------------+--------------------+\n",
            "only showing top 10 rows\n",
            "\n"
          ]
        }
      ]
    },
    {
      "cell_type": "code",
      "source": [
        "df_final = result.select('token.result').toPandas()"
      ],
      "metadata": {
        "id": "uQm3M1EbdL47"
      },
      "execution_count": 153,
      "outputs": []
    },
    {
      "cell_type": "code",
      "source": [
        "df_final.head()"
      ],
      "metadata": {
        "colab": {
          "base_uri": "https://localhost:8080/",
          "height": 246
        },
        "outputId": "cefe2551-a704-4314-aa52-ba3dafec9598",
        "id": "ZI7n07GpdL47"
      },
      "execution_count": 154,
      "outputs": [
        {
          "output_type": "execute_result",
          "data": {
            "text/html": [
              "\n",
              "  <div id=\"df-466e3f68-fa71-4bb4-ba55-03a39c341ba4\">\n",
              "    <div class=\"colab-df-container\">\n",
              "      <div>\n",
              "<style scoped>\n",
              "    .dataframe tbody tr th:only-of-type {\n",
              "        vertical-align: middle;\n",
              "    }\n",
              "\n",
              "    .dataframe tbody tr th {\n",
              "        vertical-align: top;\n",
              "    }\n",
              "\n",
              "    .dataframe thead th {\n",
              "        text-align: right;\n",
              "    }\n",
              "</style>\n",
              "<table border=\"1\" class=\"dataframe\">\n",
              "  <thead>\n",
              "    <tr style=\"text-align: right;\">\n",
              "      <th></th>\n",
              "      <th>result</th>\n",
              "    </tr>\n",
              "  </thead>\n",
              "  <tbody>\n",
              "    <tr>\n",
              "      <th>0</th>\n",
              "      <td>[BRCA1, is, secreted, and, exhibits, propertie...</td>\n",
              "    </tr>\n",
              "    <tr>\n",
              "      <th>1</th>\n",
              "      <td>[&lt;START_NER_Modifier&gt;, Ovarian, cancer, &lt;END_N...</td>\n",
              "    </tr>\n",
              "    <tr>\n",
              "      <th>2</th>\n",
              "      <td>[A, novel, homeodomain-encoding, gene, is, ass...</td>\n",
              "    </tr>\n",
              "    <tr>\n",
              "      <th>3</th>\n",
              "      <td>[Germline, mutations, in, the, RB1, gene, in, ...</td>\n",
              "    </tr>\n",
              "    <tr>\n",
              "      <th>4</th>\n",
              "      <td>[&lt;START_NER_SpecificDisease&gt;, Type, II, human,...</td>\n",
              "    </tr>\n",
              "  </tbody>\n",
              "</table>\n",
              "</div>\n",
              "      <button class=\"colab-df-convert\" onclick=\"convertToInteractive('df-466e3f68-fa71-4bb4-ba55-03a39c341ba4')\"\n",
              "              title=\"Convert this dataframe to an interactive table.\"\n",
              "              style=\"display:none;\">\n",
              "        \n",
              "  <svg xmlns=\"http://www.w3.org/2000/svg\" height=\"24px\"viewBox=\"0 0 24 24\"\n",
              "       width=\"24px\">\n",
              "    <path d=\"M0 0h24v24H0V0z\" fill=\"none\"/>\n",
              "    <path d=\"M18.56 5.44l.94 2.06.94-2.06 2.06-.94-2.06-.94-.94-2.06-.94 2.06-2.06.94zm-11 1L8.5 8.5l.94-2.06 2.06-.94-2.06-.94L8.5 2.5l-.94 2.06-2.06.94zm10 10l.94 2.06.94-2.06 2.06-.94-2.06-.94-.94-2.06-.94 2.06-2.06.94z\"/><path d=\"M17.41 7.96l-1.37-1.37c-.4-.4-.92-.59-1.43-.59-.52 0-1.04.2-1.43.59L10.3 9.45l-7.72 7.72c-.78.78-.78 2.05 0 2.83L4 21.41c.39.39.9.59 1.41.59.51 0 1.02-.2 1.41-.59l7.78-7.78 2.81-2.81c.8-.78.8-2.07 0-2.86zM5.41 20L4 18.59l7.72-7.72 1.47 1.35L5.41 20z\"/>\n",
              "  </svg>\n",
              "      </button>\n",
              "      \n",
              "  <style>\n",
              "    .colab-df-container {\n",
              "      display:flex;\n",
              "      flex-wrap:wrap;\n",
              "      gap: 12px;\n",
              "    }\n",
              "\n",
              "    .colab-df-convert {\n",
              "      background-color: #E8F0FE;\n",
              "      border: none;\n",
              "      border-radius: 50%;\n",
              "      cursor: pointer;\n",
              "      display: none;\n",
              "      fill: #1967D2;\n",
              "      height: 32px;\n",
              "      padding: 0 0 0 0;\n",
              "      width: 32px;\n",
              "    }\n",
              "\n",
              "    .colab-df-convert:hover {\n",
              "      background-color: #E2EBFA;\n",
              "      box-shadow: 0px 1px 2px rgba(60, 64, 67, 0.3), 0px 1px 3px 1px rgba(60, 64, 67, 0.15);\n",
              "      fill: #174EA6;\n",
              "    }\n",
              "\n",
              "    [theme=dark] .colab-df-convert {\n",
              "      background-color: #3B4455;\n",
              "      fill: #D2E3FC;\n",
              "    }\n",
              "\n",
              "    [theme=dark] .colab-df-convert:hover {\n",
              "      background-color: #434B5C;\n",
              "      box-shadow: 0px 1px 3px 1px rgba(0, 0, 0, 0.15);\n",
              "      filter: drop-shadow(0px 1px 2px rgba(0, 0, 0, 0.3));\n",
              "      fill: #FFFFFF;\n",
              "    }\n",
              "  </style>\n",
              "\n",
              "      <script>\n",
              "        const buttonEl =\n",
              "          document.querySelector('#df-466e3f68-fa71-4bb4-ba55-03a39c341ba4 button.colab-df-convert');\n",
              "        buttonEl.style.display =\n",
              "          google.colab.kernel.accessAllowed ? 'block' : 'none';\n",
              "\n",
              "        async function convertToInteractive(key) {\n",
              "          const element = document.querySelector('#df-466e3f68-fa71-4bb4-ba55-03a39c341ba4');\n",
              "          const dataTable =\n",
              "            await google.colab.kernel.invokeFunction('convertToInteractive',\n",
              "                                                     [key], {});\n",
              "          if (!dataTable) return;\n",
              "\n",
              "          const docLinkHtml = 'Like what you see? Visit the ' +\n",
              "            '<a target=\"_blank\" href=https://colab.research.google.com/notebooks/data_table.ipynb>data table notebook</a>'\n",
              "            + ' to learn more about interactive tables.';\n",
              "          element.innerHTML = '';\n",
              "          dataTable['output_type'] = 'display_data';\n",
              "          await google.colab.output.renderOutput(dataTable, element);\n",
              "          const docLink = document.createElement('div');\n",
              "          docLink.innerHTML = docLinkHtml;\n",
              "          element.appendChild(docLink);\n",
              "        }\n",
              "      </script>\n",
              "    </div>\n",
              "  </div>\n",
              "  "
            ],
            "text/plain": [
              "                                              result\n",
              "0  [BRCA1, is, secreted, and, exhibits, propertie...\n",
              "1  [<START_NER_Modifier>, Ovarian, cancer, <END_N...\n",
              "2  [A, novel, homeodomain-encoding, gene, is, ass...\n",
              "3  [Germline, mutations, in, the, RB1, gene, in, ...\n",
              "4  [<START_NER_SpecificDisease>, Type, II, human,..."
            ]
          },
          "metadata": {},
          "execution_count": 154
        }
      ]
    },
    {
      "cell_type": "markdown",
      "source": [
        "## tokens-->conll"
      ],
      "metadata": {
        "id": "Q0o37ISLdL47"
      }
    },
    {
      "cell_type": "code",
      "source": [
        "def conll(df:pd.DataFrame)->str:\n",
        "    conll_text = \"\"\n",
        "    cl = []\n",
        "    label = 'O' \n",
        "\n",
        "    for sentence_tokens in df_final.result[:]:\n",
        "        for t in sentence_tokens:\n",
        "            if t.startswith(\"<START_NER_\"):\n",
        "                label = t.split(\"_\")[-1][:-1]\n",
        "                continue\n",
        "            \n",
        "            if label != 'O' and t != '<END_NER>':\n",
        "                cl.append(t)\n",
        "                continue\n",
        "            \n",
        "            if t == '<END_NER>':\n",
        "                for idx, ct in enumerate(cl):\n",
        "                    x = 'B' if idx == 0 else 'I'\n",
        "                    conll_text += f\"{ct} NN NN {x}-{label}\\n\"\n",
        "                label = 'O'\n",
        "                cl.clear()\n",
        "                continue  \n",
        "            \n",
        "            conll_text += f\"{t} NN NN {label}\\n\"\n",
        "        conll_text += \"\\n\"\n",
        "\n",
        "    return conll_text\n"
      ],
      "metadata": {
        "id": "i6fOpDnydL47"
      },
      "execution_count": 155,
      "outputs": []
    },
    {
      "cell_type": "code",
      "source": [
        "conll_text = conll(df_final)"
      ],
      "metadata": {
        "id": "nbWyACY5dL47"
      },
      "execution_count": 156,
      "outputs": []
    },
    {
      "cell_type": "code",
      "source": [
        "print(conll_text[:500])"
      ],
      "metadata": {
        "colab": {
          "base_uri": "https://localhost:8080/"
        },
        "outputId": "b5a16099-27b2-4e61-e14b-2377819d8a7f",
        "id": "YsPNbdKddL47"
      },
      "execution_count": 157,
      "outputs": [
        {
          "output_type": "stream",
          "name": "stdout",
          "text": [
            "BRCA1 NN NN O\n",
            "is NN NN O\n",
            "secreted NN NN O\n",
            "and NN NN O\n",
            "exhibits NN NN O\n",
            "properties NN NN O\n",
            "of NN NN O\n",
            "a NN NN O\n",
            "granin NN NN O\n",
            ". NN NN O\n",
            "\n",
            "Ovarian NN NN B-Modifier\n",
            "cancer NN NN I-Modifier\n",
            "risk NN NN O\n",
            "in NN NN O\n",
            "BRCA1 NN NN O\n",
            "carriers NN NN O\n",
            "is NN NN O\n",
            "modified NN NN O\n",
            "by NN NN O\n",
            "the NN NN O\n",
            "HRAS1 NN NN O\n",
            "variable NN NN O\n",
            "number NN NN O\n",
            "of NN NN O\n",
            "tandem NN NN O\n",
            "repeat NN NN O\n",
            "( NN NN O\n",
            "VNTR NN NN O\n",
            ") NN NN O\n",
            "locus NN NN O\n",
            ". NN NN O\n",
            "\n",
            "A NN NN O\n",
            "novel NN NN O\n",
            "homeodomain-encoding NN NN O\n",
            "gene NN NN\n"
          ]
        }
      ]
    },
    {
      "cell_type": "markdown",
      "source": [
        "save conll to drive"
      ],
      "metadata": {
        "id": "hcOo7pUNdL47"
      }
    },
    {
      "cell_type": "code",
      "source": [
        "header = \"-DOCSTART- -X- -X- O\\n\\n\"\n",
        "with open(\"NCBI_development.conll\", \"w+\", encoding='utf8') as f:\n",
        "    f.write(header)\n",
        "    f.write(conll_text)"
      ],
      "metadata": {
        "id": "yfzWs_5qdL48"
      },
      "execution_count": 158,
      "outputs": []
    },
    {
      "cell_type": "markdown",
      "source": [
        "### Count labels"
      ],
      "metadata": {
        "id": "Nfo_ZbiPdL48"
      }
    },
    {
      "cell_type": "code",
      "source": [
        "data = CoNLL().readDataset(spark, \"/content/NCBI_development.conll\")\n",
        "data.show()"
      ],
      "metadata": {
        "colab": {
          "base_uri": "https://localhost:8080/"
        },
        "outputId": "23faa831-380d-4918-f6c7-ea43c5c01382",
        "id": "TwpsGlZndL48"
      },
      "execution_count": 160,
      "outputs": [
        {
          "output_type": "stream",
          "name": "stdout",
          "text": [
            "+--------------------+--------------------+--------------------+--------------------+--------------------+--------------------+\n",
            "|                text|            document|            sentence|               token|                 pos|               label|\n",
            "+--------------------+--------------------+--------------------+--------------------+--------------------+--------------------+\n",
            "|BRCA1 is secreted...|[[document, 0, 54...|[[document, 0, 54...|[[token, 0, 4, BR...|[[pos, 0, 4, NN, ...|[[named_entity, 0...|\n",
            "|Ovarian cancer ri...|[[document, 0, 11...|[[document, 0, 11...|[[token, 0, 6, Ov...|[[pos, 0, 6, NN, ...|[[named_entity, 0...|\n",
            "|A novel homeodoma...|[[document, 0, 13...|[[document, 0, 13...|[[token, 0, 0, A,...|[[pos, 0, 0, NN, ...|[[named_entity, 0...|\n",
            "|Germline mutation...|[[document, 0, 78...|[[document, 0, 78...|[[token, 0, 7, Ge...|[[pos, 0, 7, NN, ...|[[named_entity, 0...|\n",
            "|Type II human com...|[[document, 0, 39...|[[document, 0, 39...|[[token, 0, 3, Ty...|[[pos, 0, 3, NN, ...|[[named_entity, 0...|\n",
            "|Allele-specific a...|[[document, 0, 59...|[[document, 0, 59...|[[token, 0, 14, A...|[[pos, 0, 14, NN,...|[[named_entity, 0...|\n",
            "|Gly444 -- > Arg )...|[[document, 0, 46...|[[document, 0, 46...|[[token, 0, 5, Gl...|[[pos, 0, 5, NN, ...|[[named_entity, 0...|\n",
            "|Defective dimeriz...|[[document, 0, 12...|[[document, 0, 12...|[[token, 0, 8, De...|[[pos, 0, 8, NN, ...|[[named_entity, 0...|\n",
            "|Wiskott-Aldrich s...|[[document, 0, 11...|[[document, 0, 11...|[[token, 0, 14, W...|[[pos, 0, 14, NN,...|[[named_entity, 0...|\n",
            "|X-linked adrenole...|[[document, 0, 11...|[[document, 0, 11...|[[token, 0, 7, X-...|[[pos, 0, 7, NN, ...|[[named_entity, 0...|\n",
            "|Tumor suppression...|[[document, 0, 12...|[[document, 0, 12...|[[token, 0, 4, Tu...|[[pos, 0, 4, NN, ...|[[named_entity, 0...|\n",
            "|Low incidence of ...|[[document, 0, 71...|[[document, 0, 71...|[[token, 0, 2, Lo...|[[pos, 0, 2, NN, ...|[[named_entity, 0...|\n",
            "|Founding BRCA1 mu...|[[document, 0, 84...|[[document, 0, 84...|[[token, 0, 7, Fo...|[[pos, 0, 7, NN, ...|[[named_entity, 0...|\n",
            "|Rapid detection o...|[[document, 0, 10...|[[document, 0, 10...|[[token, 0, 4, Ra...|[[pos, 0, 4, NN, ...|[[named_entity, 0...|\n",
            "|UKCCCR Familial O...|[[document, 0, 43...|[[document, 0, 43...|[[token, 0, 5, UK...|[[pos, 0, 5, NN, ...|[[named_entity, 0...|\n",
            "|A previously unde...|[[document, 0, 11...|[[document, 0, 11...|[[token, 0, 0, A,...|[[pos, 0, 0, NN, ...|[[named_entity, 0...|\n",
            "|The spectrum of R...|[[document, 0, 69...|[[document, 0, 69...|[[token, 0, 2, Th...|[[pos, 0, 2, NN, ...|[[named_entity, 0...|\n",
            "|Phenotypic charac...|[[document, 0, 19...|[[document, 0, 19...|[[token, 0, 9, Ph...|[[pos, 0, 9, NN, ...|[[named_entity, 0...|\n",
            "|Identification an...|[[document, 0, 10...|[[document, 0, 10...|[[token, 0, 13, I...|[[pos, 0, 13, NN,...|[[named_entity, 0...|\n",
            "|Identification an...|[[document, 0, 10...|[[document, 0, 10...|[[token, 0, 13, I...|[[pos, 0, 13, NN,...|[[named_entity, 0...|\n",
            "+--------------------+--------------------+--------------------+--------------------+--------------------+--------------------+\n",
            "only showing top 20 rows\n",
            "\n"
          ]
        }
      ]
    },
    {
      "cell_type": "code",
      "source": [
        "data.select(F.explode(F.arrays_zip('token.result','label.result')).alias(\"cols\")) \\\n",
        ".select(F.expr(\"cols['0']\").alias(\"token\"),\n",
        "        F.expr(\"cols['1']\").alias(\"ground_truth\")).groupBy('ground_truth').count().orderBy('count', ascending=False).show(100,truncate=False)"
      ],
      "metadata": {
        "colab": {
          "base_uri": "https://localhost:8080/"
        },
        "outputId": "4ab0201c-5a4a-4d24-9470-7ce753345237",
        "id": "w7NWOd1ndL48"
      },
      "execution_count": 161,
      "outputs": [
        {
          "output_type": "stream",
          "name": "stdout",
          "text": [
            "+------------------+-----+\n",
            "|ground_truth      |count|\n",
            "+------------------+-----+\n",
            "|O                 |1376 |\n",
            "|I-SpecificDisease |89   |\n",
            "|B-SpecificDisease |58   |\n",
            "|B-Modifier        |32   |\n",
            "|I-Modifier        |24   |\n",
            "|I-CompositeMention|24   |\n",
            "|B-DiseaseClass    |10   |\n",
            "|I-DiseaseClass    |9    |\n",
            "|B-CompositeMention|6    |\n",
            "+------------------+-----+\n",
            "\n"
          ]
        }
      ]
    },
    {
      "cell_type": "markdown",
      "source": [
        "Compare with ground truth labels"
      ],
      "metadata": {
        "id": "gOBjqsk_dL48"
      }
    },
    {
      "cell_type": "code",
      "source": [
        "labels = ['<START_NER_Modifier>',\n",
        "          '<START_NER_SpecificDisease>',\n",
        "          '<START_NER_DiseaseClass>',\n",
        "          '<START_NER_CompositeMention>' ]"
      ],
      "metadata": {
        "id": "60IWVTtXdL48"
      },
      "execution_count": 162,
      "outputs": []
    },
    {
      "cell_type": "code",
      "source": [
        "for label in labels:\n",
        "    counter = 0\n",
        "    for row in df.text:\n",
        "        counter += row.count(label)\n",
        "    print(f'{label:30}:{counter}')\n"
      ],
      "metadata": {
        "colab": {
          "base_uri": "https://localhost:8080/"
        },
        "outputId": "f78ec056-d07e-4caf-88f2-429185a40be2",
        "id": "WQZqYTF7dL48"
      },
      "execution_count": 163,
      "outputs": [
        {
          "output_type": "stream",
          "name": "stdout",
          "text": [
            "<START_NER_Modifier>          :32\n",
            "<START_NER_SpecificDisease>   :58\n",
            "<START_NER_DiseaseClass>      :10\n",
            "<START_NER_CompositeMention>  :6\n"
          ]
        }
      ]
    },
    {
      "cell_type": "markdown",
      "source": [
        "*Russell C.*"
      ],
      "metadata": {
        "id": "9ATOH2LLeDK4"
      }
    }
  ],
  "metadata": {
    "colab": {
      "name": "Copy of ncbi.ipynb",
      "provenance": []
    },
    "interpreter": {
      "hash": "02909133c842bea5b9844dfca84ea9debb08fdd429c8f0109bc3b4709ce04e96"
    },
    "kernelspec": {
      "display_name": "Python 3.9.7 ('spark')",
      "language": "python",
      "name": "python3"
    },
    "language_info": {
      "codemirror_mode": {
        "name": "ipython",
        "version": 3
      },
      "file_extension": ".py",
      "mimetype": "text/x-python",
      "name": "python",
      "nbconvert_exporter": "python",
      "pygments_lexer": "ipython3",
      "version": "3.9.7"
    },
    "orig_nbformat": 4
  },
  "nbformat": 4,
  "nbformat_minor": 0
}