{
  "nbformat": 4,
  "nbformat_minor": 0,
  "metadata": {
    "colab": {
      "name": "CUAD-Streamlit.ipynb",
      "provenance": [],
      "machine_shape": "hm",
      "mount_file_id": "1SCc_jGJP37g2odreS-jU0xwPc62eCM8R",
      "authorship_tag": "ABX9TyP33XZteldu/2w8SMirwMVS",
      "include_colab_link": true
    },
    "kernelspec": {
      "name": "python3",
      "display_name": "Python 3"
    },
    "language_info": {
      "name": "python"
    }
  },
  "cells": [
    {
      "cell_type": "markdown",
      "metadata": {
        "id": "view-in-github",
        "colab_type": "text"
      },
      "source": [
        "<a href=\"https://colab.research.google.com/github/russell-ai/nlp/blob/main/Question_Answering/CUAD_Streamlit.ipynb\" target=\"_parent\"><img src=\"https://colab.research.google.com/assets/colab-badge.svg\" alt=\"Open In Colab\"/></a>"
      ]
    },
    {
      "cell_type": "markdown",
      "source": [
        "# **Contract Understanding Atticus Dataset (CUAD) Demo**"
      ],
      "metadata": {
        "id": "jdYUU0x8XTWY"
      }
    },
    {
      "cell_type": "markdown",
      "source": [
        "## **Setup files**"
      ],
      "metadata": {
        "id": "JIOJQDnYXZxL"
      }
    },
    {
      "cell_type": "code",
      "source": [
        "!git clone https://huggingface.co/spaces/akdeniz27/contract-understanding-atticus-dataset-demo"
      ],
      "metadata": {
        "colab": {
          "base_uri": "https://localhost:8080/"
        },
        "id": "676YlUo4L1v2",
        "outputId": "03662ce5-7561-45ff-bde2-9857dbe241e0"
      },
      "execution_count": 20,
      "outputs": [
        {
          "output_type": "stream",
          "name": "stdout",
          "text": [
            "Cloning into 'contract-understanding-atticus-dataset-demo'...\n",
            "remote: Enumerating objects: 64, done.\u001b[K\n",
            "remote: Counting objects: 100% (64/64), done.\u001b[K\n",
            "remote: Compressing objects: 100% (61/61), done.\u001b[K\n",
            "remote: Total 64 (delta 34), reused 0 (delta 0)\u001b[K\n",
            "Unpacking objects: 100% (64/64), done.\n"
          ]
        }
      ]
    },
    {
      "cell_type": "code",
      "source": [
        "%%capture\n",
        "! pip install streamlit -q\n",
        "! pip install npx -q\n",
        "! pip install pyngrok -q"
      ],
      "metadata": {
        "id": "QoBevdw0DFwG"
      },
      "execution_count": 21,
      "outputs": []
    },
    {
      "cell_type": "code",
      "execution_count": null,
      "metadata": {
        "id": "zLEvsox4Cu6o"
      },
      "outputs": [],
      "source": [
        "%%capture\n",
        "!pip install transformers sentencepiece"
      ]
    },
    {
      "cell_type": "code",
      "source": [
        "import torch, os, transformers, sentencepiece"
      ],
      "metadata": {
        "id": "IF9fGQqKF36u"
      },
      "execution_count": 22,
      "outputs": []
    },
    {
      "cell_type": "markdown",
      "source": [
        "## **Streamlit app.py file**"
      ],
      "metadata": {
        "id": "FAGwM84bXnxZ"
      }
    },
    {
      "cell_type": "code",
      "source": [
        "%%writefile app.py\n",
        "from transformers import AutoModelForQuestionAnswering, AutoTokenizer\n",
        "import streamlit as st\n",
        "import json\n",
        "from predict import run_prediction\n",
        "\n",
        "st.set_page_config(layout=\"wide\")\n",
        "\n",
        "model_list = ['akdeniz27/roberta-base-cuad',\n",
        "\t\t\t  'akdeniz27/roberta-large-cuad',\n",
        "\t\t\t  'akdeniz27/deberta-v2-xlarge-cuad']\n",
        "st.sidebar.header(\"Select CUAD Model\")\n",
        "model_checkpoint = st.sidebar.radio(\"\", model_list)\n",
        "\n",
        "if model_checkpoint == \"akdeniz27/deberta-v2-xlarge-cuad\": import sentencepiece\n",
        "\n",
        "st.sidebar.write(\"Project: https://www.atticusprojectai.org/cuad\")\n",
        "st.sidebar.write(\"Git Hub: https://github.com/TheAtticusProject/cuad\")\n",
        "st.sidebar.write(\"CUAD Dataset: https://huggingface.co/datasets/cuad\")\n",
        "st.sidebar.write(\"License: CC BY 4.0 https://creativecommons.org/licenses/by/4.0/\")\n",
        "\n",
        "@st.cache(allow_output_mutation=True)\n",
        "def load_model():\n",
        "    model = AutoModelForQuestionAnswering.from_pretrained(model_checkpoint)\n",
        "    tokenizer = AutoTokenizer.from_pretrained(model_checkpoint , use_fast=False)\n",
        "    return model, tokenizer\n",
        "\n",
        "@st.cache(allow_output_mutation=True)\n",
        "def load_questions():\n",
        "\twith open('test.json') as json_file:\n",
        "\t\tdata = json.load(json_file)\n",
        "\n",
        "\tquestions = []\n",
        "\tfor i, q in enumerate(data['data'][0]['paragraphs'][0]['qas']):\n",
        "\t\tquestion = data['data'][0]['paragraphs'][0]['qas'][i]['question']\n",
        "\t\tquestions.append(question)\n",
        "\treturn questions\n",
        "\n",
        "@st.cache(allow_output_mutation=True)\n",
        "def load_contracts():\n",
        "\twith open('test.json') as json_file:\n",
        "\t\tdata = json.load(json_file)\n",
        "\n",
        "\tcontracts = []\n",
        "\tfor i, q in enumerate(data['data']):\n",
        "\t\tcontract = ' '.join(data['data'][i]['paragraphs'][0]['context'].split())\n",
        "\t\tcontracts.append(contract)\n",
        "\treturn contracts\n",
        "\n",
        "model, tokenizer = load_model()\n",
        "questions = load_questions()\n",
        "contracts = load_contracts()\n",
        "\n",
        "contract = contracts[0]\n",
        "\n",
        "st.header(\"Contract Understanding Atticus Dataset (CUAD) Demo\")\n",
        "st.write(\"Based on https://github.com/marshmellow77/cuad-demo\")\n",
        "\n",
        "\n",
        "selected_question = st.selectbox('Choose one of the 41 queries from the CUAD dataset:', questions)\n",
        "question_set = [questions[0], selected_question]\n",
        "\n",
        "contract_type = st.radio(\"Select Contract\", (\"Sample Contract\", \"New Contract\"))\n",
        "if contract_type == \"Sample Contract\":\n",
        "\tsample_contract_num = st.slider(\"Select Sample Contract #\")\n",
        "\tcontract = contracts[sample_contract_num]\n",
        "\twith st.expander(f\"Sample Contract #{sample_contract_num}\"):\n",
        "\t\tst.write(contract)\n",
        "else:\n",
        "\tcontract = st.text_area(\"Input New Contract\", \"\", height=256)\n",
        "\n",
        "Run_Button = st.button(\"Run\", key=None)\n",
        "if Run_Button == True and not len(contract)==0 and not len(question_set)==0:\n",
        "\tpredictions = run_prediction(question_set, contract, 'akdeniz27/roberta-base-cuad')\n",
        "\t\n",
        "\tfor i, p in enumerate(predictions):\n",
        "\t\tif i != 0: st.write(f\"Question: {question_set[int(p)]}\\n\\nAnswer: {predictions[p]}\\n\\n\")\n",
        "\t\n"
      ],
      "metadata": {
        "colab": {
          "base_uri": "https://localhost:8080/"
        },
        "id": "5UqxWGv1DFtA",
        "outputId": "63c7881b-3a4a-4a78-c1d6-07952df1fdd5"
      },
      "execution_count": 23,
      "outputs": [
        {
          "output_type": "stream",
          "name": "stdout",
          "text": [
            "Overwriting app.py\n"
          ]
        }
      ]
    },
    {
      "cell_type": "markdown",
      "source": [
        "## **Running pyngrok**"
      ],
      "metadata": {
        "id": "uXlRqaeTXy9X"
      }
    },
    {
      "cell_type": "code",
      "source": [
        "!streamlit run app.py & npx localtunnel --port 8501"
      ],
      "metadata": {
        "colab": {
          "base_uri": "https://localhost:8080/"
        },
        "id": "ZOk8MbsKDyfd",
        "outputId": "35d673b3-e30f-4f3e-97ba-d9c461f2791b"
      },
      "execution_count": 25,
      "outputs": [
        {
          "output_type": "stream",
          "name": "stdout",
          "text": [
            "2022-03-10 00:23:06.768 INFO    numexpr.utils: NumExpr defaulting to 4 threads.\n",
            "\u001b[0m\n",
            "\u001b[34m\u001b[1m  You can now view your Streamlit app in your browser.\u001b[0m\n",
            "\u001b[0m\n",
            "\u001b[34m  Network URL: \u001b[0m\u001b[1mhttp://172.28.0.2:8502\u001b[0m\n",
            "\u001b[34m  External URL: \u001b[0m\u001b[1mhttp://35.202.145.51:8502\u001b[0m\n",
            "\u001b[0m\n",
            "\u001b[K\u001b[?25hnpx: installed 22 in 2.432s\n",
            "your url is: https://pink-duck-26.loca.lt\n",
            "\u001b[34m  Stopping...\u001b[0m\n",
            "^C\n"
          ]
        }
      ]
    },
    {
      "cell_type": "code",
      "source": [
        "!streamlit run app.py&>/dev/null&\n",
        "\n",
        "import time\n",
        "time.sleep(3)\n",
        "\n",
        "from pyngrok import ngrok\n",
        "\n",
        "public_url = ngrok.connect(addr='8501')\n",
        "print (public_url)"
      ],
      "metadata": {
        "colab": {
          "base_uri": "https://localhost:8080/"
        },
        "id": "YjxBEz6wECMN",
        "outputId": "fcb2ffa7-d71f-48c8-976f-9c50868c0fb0"
      },
      "execution_count": 24,
      "outputs": [
        {
          "output_type": "stream",
          "name": "stdout",
          "text": [
            "NgrokTunnel: \"http://a1dd-35-202-145-51.ngrok.io\" -> \"http://localhost:8501\"\n"
          ]
        }
      ]
    },
    {
      "cell_type": "markdown",
      "source": [
        "*Russell C.*"
      ],
      "metadata": {
        "id": "srL0dgOpYBF7"
      }
    }
  ]
}