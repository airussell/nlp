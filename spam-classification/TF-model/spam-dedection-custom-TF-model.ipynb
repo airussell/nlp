{
 "cells": [
  {
   "cell_type": "markdown",
   "metadata": {},
   "source": [
    "# Import and load dataset"
   ]
  },
  {
   "cell_type": "code",
   "execution_count": 10,
   "metadata": {},
   "outputs": [],
   "source": [
    "import pandas as pd\n",
    "import csv\n",
    "import numpy as np\n",
    "import matplotlib.pyplot as plt\n",
    "\n",
    "import tensorflow as tf\n",
    "from tensorflow.keras.preprocessing.text import Tokenizer\n",
    "from tensorflow.keras.preprocessing.sequence import pad_sequences\n",
    "from sklearn.model_selection import train_test_split\n",
    "pd.set_option('max_colwidth', 150)"
   ]
  },
  {
   "cell_type": "code",
   "execution_count": 7,
   "metadata": {},
   "outputs": [
    {
     "data": {
      "text/html": [
       "<div>\n",
       "<style scoped>\n",
       "    .dataframe tbody tr th:only-of-type {\n",
       "        vertical-align: middle;\n",
       "    }\n",
       "\n",
       "    .dataframe tbody tr th {\n",
       "        vertical-align: top;\n",
       "    }\n",
       "\n",
       "    .dataframe thead th {\n",
       "        text-align: right;\n",
       "    }\n",
       "</style>\n",
       "<table border=\"1\" class=\"dataframe\">\n",
       "  <thead>\n",
       "    <tr style=\"text-align: right;\">\n",
       "      <th></th>\n",
       "      <th>label</th>\n",
       "      <th>text</th>\n",
       "    </tr>\n",
       "  </thead>\n",
       "  <tbody>\n",
       "    <tr>\n",
       "      <th>0</th>\n",
       "      <td>0</td>\n",
       "      <td>Go until jurong point, crazy.. Available only in bugis n great world la e buffet... Cine there got amore wat...</td>\n",
       "    </tr>\n",
       "    <tr>\n",
       "      <th>1</th>\n",
       "      <td>0</td>\n",
       "      <td>Ok lar... Joking wif u oni...</td>\n",
       "    </tr>\n",
       "    <tr>\n",
       "      <th>2</th>\n",
       "      <td>1</td>\n",
       "      <td>Free entry in 2 a wkly comp to win FA Cup final tkts 21st May 2005. Text FA to 87121 to receive entry question(std txt rate)T&amp;C's apply 0845281007...</td>\n",
       "    </tr>\n",
       "    <tr>\n",
       "      <th>3</th>\n",
       "      <td>0</td>\n",
       "      <td>U dun say so early hor... U c already then say...</td>\n",
       "    </tr>\n",
       "    <tr>\n",
       "      <th>4</th>\n",
       "      <td>0</td>\n",
       "      <td>Nah I don't think he goes to usf, he lives around here though</td>\n",
       "    </tr>\n",
       "  </tbody>\n",
       "</table>\n",
       "</div>"
      ],
      "text/plain": [
       "   label  \\\n",
       "0      0   \n",
       "1      0   \n",
       "2      1   \n",
       "3      0   \n",
       "4      0   \n",
       "\n",
       "                                                                                                                                                    text  \n",
       "0                                        Go until jurong point, crazy.. Available only in bugis n great world la e buffet... Cine there got amore wat...  \n",
       "1                                                                                                                          Ok lar... Joking wif u oni...  \n",
       "2  Free entry in 2 a wkly comp to win FA Cup final tkts 21st May 2005. Text FA to 87121 to receive entry question(std txt rate)T&C's apply 0845281007...  \n",
       "3                                                                                                      U dun say so early hor... U c already then say...  \n",
       "4                                                                                          Nah I don't think he goes to usf, he lives around here though  "
      ]
     },
     "execution_count": 7,
     "metadata": {},
     "output_type": "execute_result"
    }
   ],
   "source": [
    "df = pd.read_csv(\"spamdata_v2.csv\")\n",
    "df.head()"
   ]
  },
  {
   "cell_type": "code",
   "execution_count": 31,
   "metadata": {},
   "outputs": [
    {
     "data": {
      "text/plain": [
       "<AxesSubplot:ylabel='label'>"
      ]
     },
     "execution_count": 31,
     "metadata": {},
     "output_type": "execute_result"
    },
    {
     "data": {
      "image/png": "[encoded data removed]",
      "text/plain": [
       "<Figure size 432x288 with 1 Axes>"
      ]
     },
     "metadata": {},
     "output_type": "display_data"
    }
   ],
   "source": [
    "ratio_spam_and_ham = df[\"label\"].value_counts()\n",
    "ratio_spam_and_ham.plot.pie(autopct = '%1.1f%%')"
   ]
  },
  {
   "cell_type": "markdown",
   "metadata": {},
   "source": [
    "# Preprocessing"
   ]
  },
  {
   "cell_type": "code",
   "execution_count": 11,
   "metadata": {},
   "outputs": [],
   "source": [
    "training_sentences, testing_sentences, training_labels, testing_labels = train_test_split(df['text'], df['label'], \n",
    "                                                                    random_state=44, \n",
    "                                                                    test_size=0.3, \n",
    "                                                                    stratify=df['label'])\n"
   ]
  },
  {
   "cell_type": "code",
   "execution_count": 12,
   "metadata": {},
   "outputs": [],
   "source": [
    "vocab_size = 1500\n",
    "oov_tok = \"<OOV>\"\n",
    "embedding_dim = 16\n",
    "\n",
    "tokenizer = Tokenizer(num_words=vocab_size, oov_token=oov_tok)\n",
    "tokenizer.fit_on_texts(training_sentences)\n",
    "\n",
    "word_index = tokenizer.word_index\n",
    "\n",
    "sequences = tokenizer.texts_to_sequences(training_sentences)\n",
    "padded = pad_sequences(sequences)\n",
    "\n",
    "max_sequence_len = max([len(x) for x in sequences])\n",
    "\n",
    "testing_sequences = tokenizer.texts_to_sequences(testing_sentences)\n",
    "testing_padded = pad_sequences(testing_sequences,maxlen=max_sequence_len)"
   ]
  },
  {
   "cell_type": "code",
   "execution_count": 13,
   "metadata": {},
   "outputs": [
    {
     "name": "stdout",
     "output_type": "stream",
     "text": [
      "(3900, 189)\n",
      "(3900,)\n",
      "(1672, 189)\n",
      "(1672,)\n"
     ]
    }
   ],
   "source": [
    "training_padded = np.array(padded)\n",
    "training_labels = np.array(training_labels)\n",
    "testing_padded = np.array(testing_padded)\n",
    "testing_labels = np.array(testing_labels)\n",
    "\n",
    "print(training_padded.shape)\n",
    "print(training_labels.shape)\n",
    "print(testing_padded.shape)\n",
    "print(testing_labels.shape)"
   ]
  },
  {
   "cell_type": "markdown",
   "metadata": {},
   "source": [
    "# Model Building"
   ]
  },
  {
   "cell_type": "code",
   "execution_count": 14,
   "metadata": {},
   "outputs": [],
   "source": [
    "model = tf.keras.Sequential([\n",
    "    tf.keras.layers.Embedding(vocab_size, embedding_dim, input_length=max_sequence_len),\n",
    "    tf.keras.layers.Bidirectional(tf.keras.layers.LSTM(32, return_sequences=True)),\n",
    "    tf.keras.layers.Conv1D(64, 5, activation='relu'),\n",
    "    tf.keras.layers.MaxPooling1D(pool_size=4),\n",
    "    tf.keras.layers.Flatten(),\n",
    "    tf.keras.layers.Dropout(0.3),\n",
    "    tf.keras.layers.Dense(24, activation='relu'),\n",
    "    tf.keras.layers.Dense(1, activation='sigmoid')\n",
    "])"
   ]
  },
  {
   "cell_type": "code",
   "execution_count": 15,
   "metadata": {},
   "outputs": [],
   "source": [
    "adam = tf.keras.optimizers.Adam(learning_rate=0.005)"
   ]
  },
  {
   "cell_type": "code",
   "execution_count": 16,
   "metadata": {},
   "outputs": [
    {
     "name": "stdout",
     "output_type": "stream",
     "text": [
      "Model: \"sequential\"\n",
      "_________________________________________________________________\n",
      "Layer (type)                 Output Shape              Param #   \n",
      "=================================================================\n",
      "embedding (Embedding)        (None, 189, 16)           24000     \n",
      "_________________________________________________________________\n",
      "bidirectional (Bidirectional (None, 189, 64)           12544     \n",
      "_________________________________________________________________\n",
      "conv1d (Conv1D)              (None, 185, 64)           20544     \n",
      "_________________________________________________________________\n",
      "max_pooling1d (MaxPooling1D) (None, 46, 64)            0         \n",
      "_________________________________________________________________\n",
      "flatten (Flatten)            (None, 2944)              0         \n",
      "_________________________________________________________________\n",
      "dropout (Dropout)            (None, 2944)              0         \n",
      "_________________________________________________________________\n",
      "dense (Dense)                (None, 24)                70680     \n",
      "_________________________________________________________________\n",
      "dense_1 (Dense)              (None, 1)                 25        \n",
      "=================================================================\n",
      "Total params: 127,793\n",
      "Trainable params: 127,793\n",
      "Non-trainable params: 0\n",
      "_________________________________________________________________\n"
     ]
    }
   ],
   "source": [
    "model.compile(loss='binary_crossentropy', \n",
    "              optimizer=adam, \n",
    "              metrics=['accuracy'])\n",
    "\n",
    "model.summary()"
   ]
  },
  {
   "cell_type": "markdown",
   "metadata": {},
   "source": [
    "# Training"
   ]
  },
  {
   "cell_type": "code",
   "execution_count": 17,
   "metadata": {},
   "outputs": [],
   "source": [
    "early_stopping = tf.keras.callbacks.EarlyStopping(monitor='loss', patience=3)"
   ]
  },
  {
   "cell_type": "code",
   "execution_count": 18,
   "metadata": {},
   "outputs": [],
   "source": [
    "checkpoint_filepath = '../saved_model'\n",
    "model_checkpoint_callback = tf.keras.callbacks.ModelCheckpoint(\n",
    "    filepath=checkpoint_filepath,\n",
    "    save_weights_only=True,\n",
    "    monitor='val_accuracy',\n",
    "    mode='max',\n",
    "    save_best_only=True)"
   ]
  },
  {
   "cell_type": "code",
   "execution_count": 19,
   "metadata": {},
   "outputs": [
    {
     "name": "stdout",
     "output_type": "stream",
     "text": [
      "Epoch 1/20\n",
      "122/122 [==============================] - 11s 67ms/step - loss: 0.1983 - accuracy: 0.9226 - val_loss: 0.1216 - val_accuracy: 0.9821\n",
      "Epoch 2/20\n",
      "122/122 [==============================] - 8s 62ms/step - loss: 0.1092 - accuracy: 0.9808 - val_loss: 0.1071 - val_accuracy: 0.9886\n",
      "Epoch 3/20\n",
      "122/122 [==============================] - 8s 62ms/step - loss: 0.0784 - accuracy: 0.9900 - val_loss: 0.1334 - val_accuracy: 0.9533\n",
      "Epoch 4/20\n",
      "122/122 [==============================] - 8s 62ms/step - loss: 0.0710 - accuracy: 0.9872 - val_loss: 0.1024 - val_accuracy: 0.9671\n",
      "Epoch 5/20\n",
      "122/122 [==============================] - 8s 62ms/step - loss: 0.0404 - accuracy: 0.9923 - val_loss: 0.0592 - val_accuracy: 0.9862\n",
      "Epoch 6/20\n",
      "122/122 [==============================] - 8s 63ms/step - loss: 0.0190 - accuracy: 0.9941 - val_loss: 0.0643 - val_accuracy: 0.9850\n",
      "Epoch 7/20\n",
      "122/122 [==============================] - 8s 64ms/step - loss: 0.0094 - accuracy: 0.9982 - val_loss: 0.0941 - val_accuracy: 0.9874\n",
      "Epoch 8/20\n",
      "122/122 [==============================] - 8s 63ms/step - loss: 0.0048 - accuracy: 0.9990 - val_loss: 0.0788 - val_accuracy: 0.9880\n",
      "Epoch 9/20\n",
      "122/122 [==============================] - 8s 63ms/step - loss: 0.0050 - accuracy: 0.9990 - val_loss: 0.1949 - val_accuracy: 0.9862\n",
      "Epoch 10/20\n",
      "122/122 [==============================] - 8s 63ms/step - loss: 0.0047 - accuracy: 0.9995 - val_loss: 0.0831 - val_accuracy: 0.9892\n",
      "Epoch 11/20\n",
      "122/122 [==============================] - 8s 63ms/step - loss: 0.0037 - accuracy: 0.9995 - val_loss: 0.1202 - val_accuracy: 0.9821\n",
      "Epoch 12/20\n",
      "122/122 [==============================] - 8s 63ms/step - loss: 0.0109 - accuracy: 0.9974 - val_loss: 0.0905 - val_accuracy: 0.9868\n",
      "Epoch 13/20\n",
      "122/122 [==============================] - 8s 63ms/step - loss: 0.0188 - accuracy: 0.9956 - val_loss: 0.0670 - val_accuracy: 0.9862\n",
      "Epoch 14/20\n",
      "122/122 [==============================] - 8s 66ms/step - loss: 0.0020 - accuracy: 0.9995 - val_loss: 0.1082 - val_accuracy: 0.9856\n",
      "Epoch 15/20\n",
      "122/122 [==============================] - 8s 63ms/step - loss: 0.0023 - accuracy: 0.9997 - val_loss: 0.1076 - val_accuracy: 0.9862\n",
      "Epoch 16/20\n",
      "122/122 [==============================] - 8s 65ms/step - loss: 0.0022 - accuracy: 0.9997 - val_loss: 0.1172 - val_accuracy: 0.9868\n",
      "Epoch 17/20\n",
      "122/122 [==============================] - 8s 63ms/step - loss: 0.0021 - accuracy: 0.9997 - val_loss: 0.1165 - val_accuracy: 0.9868\n"
     ]
    }
   ],
   "source": [
    "num_epochs = 20\n",
    "history = model.fit(training_padded,\n",
    "                    training_labels,\n",
    "                    epochs=num_epochs,\n",
    "                    validation_data=(testing_padded, testing_labels),\n",
    "                    callbacks=[early_stopping, model_checkpoint_callback],\n",
    "                    verbose=1)"
   ]
  },
  {
   "cell_type": "markdown",
   "metadata": {},
   "source": [
    "# Model Accuracy-Loss Plot"
   ]
  },
  {
   "cell_type": "code",
   "execution_count": 20,
   "metadata": {},
   "outputs": [
    {
     "data": {
      "image/png": "[encoded data removed]",
      "text/plain": [
       "<Figure size 432x288 with 1 Axes>"
      ]
     },
     "metadata": {
      "needs_background": "light"
     },
     "output_type": "display_data"
    },
    {
     "data": {
      "image/png": "[encoded data removed]",
      "text/plain": [
       "<Figure size 432x288 with 1 Axes>"
      ]
     },
     "metadata": {
      "needs_background": "light"
     },
     "output_type": "display_data"
    }
   ],
   "source": [
    "def plot_graphs(history, string):\n",
    "  plt.plot(history.history[string])\n",
    "  plt.plot(history.history['val_'+string])\n",
    "  plt.xlabel(\"Epochs\")\n",
    "  plt.ylabel(string)\n",
    "  plt.legend([string, 'val_'+string])\n",
    "  plt.show()\n",
    "\n",
    "plot_graphs(history, 'accuracy')\n",
    "plot_graphs(history, 'loss')"
   ]
  },
  {
   "cell_type": "markdown",
   "metadata": {},
   "source": [
    "### classification_report"
   ]
  },
  {
   "cell_type": "code",
   "execution_count": 32,
   "metadata": {},
   "outputs": [
    {
     "name": "stdout",
     "output_type": "stream",
     "text": [
      "53/53 - 1s\n"
     ]
    }
   ],
   "source": [
    "threshold = 0.5\n",
    "\n",
    "result = model.predict(testing_padded, verbose=2)\n",
    "result = result > threshold\n",
    "result = result.astype(int)"
   ]
  },
  {
   "cell_type": "code",
   "execution_count": 34,
   "metadata": {},
   "outputs": [
    {
     "name": "stdout",
     "output_type": "stream",
     "text": [
      "              precision    recall  f1-score   support\n",
      "\n",
      "         ham       0.99      0.99      0.99      1448\n",
      "        spam       0.96      0.94      0.95       224\n",
      "\n",
      "    accuracy                           0.99      1672\n",
      "   macro avg       0.98      0.97      0.97      1672\n",
      "weighted avg       0.99      0.99      0.99      1672\n",
      "\n"
     ]
    }
   ],
   "source": [
    "from sklearn.metrics import classification_report\n",
    "target_names = ['ham','spam']\n",
    "print(classification_report(testing_labels, result, target_names=target_names))"
   ]
  },
  {
   "cell_type": "markdown",
   "metadata": {},
   "source": [
    "### confusion_matrix"
   ]
  },
  {
   "cell_type": "code",
   "execution_count": 35,
   "metadata": {},
   "outputs": [
    {
     "data": {
      "text/html": [
       "<div>\n",
       "<style scoped>\n",
       "    .dataframe tbody tr th:only-of-type {\n",
       "        vertical-align: middle;\n",
       "    }\n",
       "\n",
       "    .dataframe tbody tr th {\n",
       "        vertical-align: top;\n",
       "    }\n",
       "\n",
       "    .dataframe thead th {\n",
       "        text-align: right;\n",
       "    }\n",
       "</style>\n",
       "<table border=\"1\" class=\"dataframe\">\n",
       "  <thead>\n",
       "    <tr style=\"text-align: right;\">\n",
       "      <th></th>\n",
       "      <th>ham</th>\n",
       "      <th>spam</th>\n",
       "    </tr>\n",
       "  </thead>\n",
       "  <tbody>\n",
       "    <tr>\n",
       "      <th>ham</th>\n",
       "      <td>1439</td>\n",
       "      <td>9</td>\n",
       "    </tr>\n",
       "    <tr>\n",
       "      <th>spam</th>\n",
       "      <td>13</td>\n",
       "      <td>211</td>\n",
       "    </tr>\n",
       "  </tbody>\n",
       "</table>\n",
       "</div>"
      ],
      "text/plain": [
       "       ham  spam\n",
       "ham   1439     9\n",
       "spam    13   211"
      ]
     },
     "execution_count": 35,
     "metadata": {},
     "output_type": "execute_result"
    }
   ],
   "source": [
    "from sklearn.metrics import confusion_matrix\n",
    "cm = confusion_matrix(testing_labels, result)\n",
    "cm_df = pd.DataFrame(cm,\n",
    "                     index = target_names, \n",
    "                     columns = target_names)\n",
    "cm_df"
   ]
  },
  {
   "cell_type": "markdown",
   "metadata": {},
   "source": [
    "### AUC"
   ]
  },
  {
   "cell_type": "code",
   "execution_count": 36,
   "metadata": {},
   "outputs": [
    {
     "name": "stdout",
     "output_type": "stream",
     "text": [
      "AUC: 0.9678744080505128\n"
     ]
    },
    {
     "data": {
      "image/png": "[encoded data removed]",
      "text/plain": [
       "<Figure size 432x288 with 1 Axes>"
      ]
     },
     "metadata": {
      "needs_background": "light"
     },
     "output_type": "display_data"
    }
   ],
   "source": [
    "from sklearn import metrics\n",
    "print(\"AUC:\",metrics.roc_auc_score(testing_labels, result))\n",
    "cutoff_grid = np.linspace(0.0,1.0,100)\n",
    "TPR = []\n",
    "FPR = []\n",
    "cutoff_grid\n",
    "FPR, TPR, cutoffs = metrics.roc_curve(testing_labels, result,pos_label=1)\n",
    "plt.plot(FPR,TPR,c='red',linewidth=1.0)\n",
    "plt.xlabel('False Positive')\n",
    "plt.ylabel('True Positive')\n",
    "plt.title('ROC Curve')\n",
    "plt.show()"
   ]
  },
  {
   "cell_type": "code",
   "execution_count": 37,
   "metadata": {},
   "outputs": [
    {
     "data": {
      "image/png": "[encoded data removed]",
      "text/plain": [
       "<Figure size 432x288 with 1 Axes>"
      ]
     },
     "metadata": {
      "needs_background": "light"
     },
     "output_type": "display_data"
    }
   ],
   "source": [
    "fpr_en, tpr_en, thresholds_en = metrics.roc_curve(testing_labels, result)\n",
    "roc_auc_en = metrics.auc(fpr_en, tpr_en)\n",
    "precision_en, recall_en, th_en = metrics.precision_recall_curve(testing_labels, result)\n",
    "plt.plot([1, 0], [0, 1], 'k--')\n",
    "plt.plot(fpr_en, tpr_en, label='rnn (area = %0.3f)' % roc_auc_en)\n",
    "plt.plot(recall_en,precision_en , label='Recall rnn')\n",
    "plt.title('Precision vs. Recall')\n",
    "plt.xlabel('Recall')\n",
    "plt.ylabel('Precision')\n",
    "plt.legend(loc='best')\n",
    "plt.show()"
   ]
  },
  {
   "cell_type": "markdown",
   "metadata": {},
   "source": [
    "# Save Model"
   ]
  },
  {
   "cell_type": "code",
   "execution_count": 38,
   "metadata": {},
   "outputs": [],
   "source": [
    "model.save(\"./final_model.h5\")"
   ]
  },
  {
   "cell_type": "markdown",
   "metadata": {},
   "source": [
    "## Model Testing"
   ]
  },
  {
   "cell_type": "code",
   "execution_count": 39,
   "metadata": {},
   "outputs": [
    {
     "name": "stdout",
     "output_type": "stream",
     "text": [
      "2/2 - 0s\n",
      "Ham\n"
     ]
    }
   ],
   "source": [
    "from keras.models import load_model\n",
    "loadedModel = load_model(\"./final_model.h5\")\n",
    "testText = str(input(\"Please , Enter Message\\n\"))\n",
    "testText = tokenizer.texts_to_sequences(testText)\n",
    "testText = pad_sequences(testText, maxlen=max_sequence_len)\n",
    "threshold = 0.5\n",
    "result = model.predict(testText, verbose=2)\n",
    "result = result > threshold\n",
    "result = result.astype(int)\n",
    "if result[0] == 1:\n",
    "    print(\"Spam\")\n",
    "elif result[0] == 0:\n",
    "    print(\"Ham\")"
   ]
  },
  {
   "cell_type": "markdown",
   "metadata": {},
   "source": [
    "***Russel C.***"
   ]
  },
  {
   "cell_type": "code",
   "execution_count": null,
   "metadata": {},
   "outputs": [],
   "source": [
    "# https://www.kaggle.com/farizhaykal/sms-spam-detection-ann-96-mean-val-accuracy\n",
    "# Eveluation sample\n",
    "\"\"\"\n",
    "y_pred = model.predict(X_test)\n",
    "y_pred = (y_pred > 0.5)\n",
    "print(\"Accuracy Score:\", accuracy_score(y_test,y_pred)*100,\"%\")\n",
    "\n",
    "fig, ax = plt.subplots(1,figsize=(6,6))\n",
    "labels=['No','Yes']\n",
    "sns.heatmap(confusion_matrix(y_test, y_pred), annot=True, cmap=\"Blues\", fmt='g', cbar=False,ax=ax)\n",
    "plt.suptitle('Confusion Matrix', fontsize=30)\n",
    "ax.set_title('Accurcay Score')\n",
    "ax.set_yticklabels(labels);\n",
    "ax.set_xticklabels(labels);\n",
    "ax.set_ylabel('Test',fontsize=20)\n",
    "ax.set_xlabel('Predicted',fontsize=20)\n",
    "    \"\"\""
   ]
  }
 ],
 "metadata": {
  "interpreter": {
   "hash": "9e86a82ab37983bc40f074079febe1d22ad29bde7b522c8dc3bc393e740744a5"
  },
  "kernelspec": {
   "display_name": "Python 3.9.7 64-bit ('tf_cpu': conda)",
   "language": "python",
   "name": "python3"
  },
  "language_info": {
   "codemirror_mode": {
    "name": "ipython",
    "version": 3
   },
   "file_extension": ".py",
   "mimetype": "text/x-python",
   "name": "python",
   "nbconvert_exporter": "python",
   "pygments_lexer": "ipython3",
   "version": "3.9.7"
  },
  "orig_nbformat": 4
 },
 "nbformat": 4,
 "nbformat_minor": 2
}
